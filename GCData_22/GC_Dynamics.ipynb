{
 "cells": [
  {
   "cell_type": "markdown",
   "id": "3514d2cf-fa24-404a-9369-d32b67795f6a",
   "metadata": {},
   "source": [
    "### Given GCs with all sky Obs, find pos,vel and McMillanDynamics"
   ]
  },
  {
   "cell_type": "code",
   "execution_count": null,
   "id": "c2c842e2-09ee-42cf-9d47-299352b8e100",
   "metadata": {},
   "outputs": [],
   "source": []
  }
 ],
 "metadata": {
  "kernelspec": {
   "display_name": "Python 3 (ipykernel)",
   "language": "python",
   "name": "python3"
  },
  "language_info": {
   "codemirror_mode": {
    "name": "ipython",
    "version": 3
   },
   "file_extension": ".py",
   "mimetype": "text/x-python",
   "name": "python",
   "nbconvert_exporter": "python",
   "pygments_lexer": "ipython3",
   "version": "3.9.7"
  }
 },
 "nbformat": 4,
 "nbformat_minor": 5
}
