{
 "cells": [
  {
   "cell_type": "code",
   "execution_count": 1,
   "id": "a8b53011-61cb-4b3a-875f-2ad9793b34db",
   "metadata": {},
   "outputs": [],
   "source": [
    "import numpy as np"
   ]
  },
  {
   "cell_type": "markdown",
   "id": "659e74dd-db88-432e-9c1f-f6bb0a6ef2d7",
   "metadata": {},
   "source": [
    "## Notebook compilation of data"
   ]
  },
  {
   "cell_type": "code",
   "execution_count": 2,
   "id": "75b274ed-ae89-401e-9a02-f8d5ae780d1a",
   "metadata": {
    "tags": []
   },
   "outputs": [],
   "source": [
    "paper_age = {}\n",
    "\n",
    "data = {}\n",
    "name_parse = {}\n",
    "\n",
    "alt_name_parse = {f\"Ter{i}\": f\"Terzan{i}\" for i in np.arange(1, 15)}\n",
    "alt_name_parse = alt_name_parse | {f\"Palomar{i}\": f\"Pal{i}\" for i in np.arange(1, 15)}\n",
    "alt_name_parse = alt_name_parse | {f\"Djor{i}\": f\"Djorg{i}\" for i in np.arange(1, 4)}"
   ]
  },
  {
   "cell_type": "code",
   "execution_count": 3,
   "id": "3ec7085c-02fa-4ee6-98c0-dd4ae59163e5",
   "metadata": {
    "jupyter": {
     "source_hidden": true
    },
    "tags": []
   },
   "outputs": [],
   "source": [
    "def data_add_function(data, new_data, data_name):\n",
    "    names = list(new_data.keys())\n",
    "    for name in names:\n",
    "        gc_data = data.get(name, {})\n",
    "        keys = list(new_data[name].keys())\n",
    "        for k in keys:\n",
    "            prop_data = gc_data.get(k, {})\n",
    "            prop_data[data_name] = new_data[name][k]\n",
    "            gc_data[k] = prop_data\n",
    "        data[name] = gc_data\n",
    "    gcs = list(data.keys())\n",
    "    Ngcs = len(gcs)\n",
    "    print(f\"Number of total GCs: {Ngcs}\")\n",
    "\n",
    "    return data\n",
    "\n",
    "\n",
    "def data_array_to_gc_dic(data_array, original_columns):\n",
    "    columns = parse_columns(original_columns)\n",
    "    name_column = (columns == 'name')\n",
    "    known_names = list(name_parse.keys())\n",
    "    Nrow = np.shape(data_array)[0]\n",
    "    Nname_col = name_column.sum()\n",
    "    if Nname_col == 0:\n",
    "        print('Error, No names found')\n",
    "    elif Nname_col == 1:\n",
    "        names = data_array[:, name_column].reshape(-1)\n",
    "        for i, n in enumerate(names):\n",
    "            if n not in known_names:\n",
    "                name_parse[n] = alt_name_parse.get(n, n)\n",
    "            if n == '':\n",
    "                print(\"Blank name error!\")\n",
    "            names[i] = name_parse[n]\n",
    "\n",
    "    elif Nname_col > 1:\n",
    "        alt_names = data_array[:, name_column].reshape(-1, Nname_col)\n",
    "        names = np.empty((Nrow), dtype='U25')\n",
    "        for i in range(Nrow):\n",
    "            gc_names = alt_names[i, :]\n",
    "            in_filt = np.isin(gc_names, known_names) * (gc_names != '')\n",
    "            if in_filt.sum() > 0:\n",
    "                n = gc_names[in_filt][0]\n",
    "                names[i] = name_parse[alt_name_parse.get(n, n)]\n",
    "                for n in gc_names:\n",
    "                    name_parse[n] = names[i]\n",
    "            else:\n",
    "                gc_nam = gc_names[gc_names != ''][0]\n",
    "                gc_nam = alt_name_parse.get(gc_nam, gc_nam)\n",
    "                for n in gc_names:\n",
    "                    name_parse[n] = gc_nam\n",
    "                names[i] = gc_nam\n",
    "            if names[i] == '':\n",
    "                print(\"Blank Error!\")\n",
    "                print(names[i])\n",
    "    not_name = np.logical_not(name_column)\n",
    "    props = columns[not_name]\n",
    "    props_data = data_array[:, not_name]  # .astype(float)\n",
    "    props_data[props_data == '-'] = 'NAN'\n",
    "    props_data[props_data == ''] = 'NAN'\n",
    "    props_data = props_data.astype(float)\n",
    "    gc_dic = {}\n",
    "    for ind_name, name in enumerate(names):\n",
    "        gc_dic[name] = {}\n",
    "        for (ind_p, p) in enumerate(props):\n",
    "            x = props_data[ind_name, ind_p]\n",
    "            if x != np.nan:\n",
    "                if np.isfinite(x):\n",
    "                    gc_dic[name][p] = x\n",
    "        # gc_dic[name] = {p: props_data[ind_name, ind_p]\n",
    "        #                 for (ind_p, p) in enumerate(props)}\n",
    "    return gc_dic\n",
    "\n",
    "\n",
    "def data_dic_to_gc_dic(data_dic):\n",
    "    original_columns = list(data_dic.keys())\n",
    "    columns = parse_columns(original_columns)\n",
    "\n",
    "    name_column = (columns == 'name')\n",
    "\n",
    "    known_names = list(name_parse.keys())\n",
    "    Nrow = len(data_dic['name'])\n",
    "    Nname_col = name_column.sum()\n",
    "\n",
    "    if Nname_col == 0:\n",
    "        print('Error, No names found')\n",
    "    elif Nname_col == 1:\n",
    "        names = data_dic['name']\n",
    "        for i, n in enumerate(names):\n",
    "            if n not in known_names:\n",
    "                name_parse[n] = alt_name_parse.get(n, n)\n",
    "            if n == '':\n",
    "                print(\"Blank name error!\")\n",
    "            names[i] = name_parse[n]\n",
    "\n",
    "    elif Nname_col > 1:\n",
    "        names = np.empty((Nrow), dtype='U25')\n",
    "        for i in range(Nrow):\n",
    "            gc_names = np.array([data_dic['name'][i], data_dic['name2'][i]])\n",
    "            in_filt = np.isin(gc_names, known_names) * np.isin(gc_names, [\"\", \"-\"])\n",
    "            if in_filt.sum() > 0:\n",
    "                n = gc_names[in_filt][0]\n",
    "                names[i] = name_parse[alt_name_parse.get(n, n)]\n",
    "                for n in gc_names:\n",
    "                    name_parse[n] = names[i]\n",
    "            else:\n",
    "                gc_nam = gc_names[np.isin(gc_names, ['', '-'], invert=True)][0]\n",
    "                gc_nam = alt_name_parse.get(gc_nam, gc_nam)\n",
    "                for n in gc_names:\n",
    "                    name_parse[n] = gc_nam\n",
    "                names[i] = gc_nam\n",
    "            if names[i] == '':\n",
    "                print(\"Blank Error!\")\n",
    "                print(names[i])\n",
    "\n",
    "    not_name = np.logical_not(name_column)\n",
    "    props = columns[not_name]\n",
    "    for p in props:\n",
    "        x = data_dic[p]\n",
    "        x[x == '-'] = 'NAN'\n",
    "        x[x == ''] = 'NAN'\n",
    "        data_dic[p] = x.astype(float)\n",
    "\n",
    "    gc_dic = {}\n",
    "    for ind_name, name in enumerate(names):\n",
    "        gc_dic[name] = {}\n",
    "        for (ind_p, p) in enumerate(props):\n",
    "            x = data_dic[p][ind_name]\n",
    "            if x != np.nan:\n",
    "                if np.isfinite(x):\n",
    "                    gc_dic[name][p] = x\n",
    "    return gc_dic"
   ]
  },
  {
   "cell_type": "code",
   "execution_count": 4,
   "id": "75de3dbb-a46d-4bc5-9bda-def0931f5f13",
   "metadata": {
    "jupyter": {
     "source_hidden": true
    },
    "tags": []
   },
   "outputs": [],
   "source": [
    "def create_col_parse_dic():\n",
    "    labels = {}\n",
    "    labels['name'] = ['Name', 'Names', 'name', 'names', 'cluster', 'NGC', 'ngc', 'name2', \"Name2\"]\n",
    "    labels['Fe_H'] = ['Fe_H', 'Met', 'Metallicity']\n",
    "    labels['Fe_H_err'] = ['Fe_H_err', 'Met_err', 'Metallicity_err',\n",
    "                          'Fe_H_Err', 'Met_Err', 'Metallicity_Err']\n",
    "    labels['Age'] = ['Age']\n",
    "    labels['Age_err'] = ['Age_err', 'Age_Err']\n",
    "    labels['Alpha_Fe'] = ['Alpha_Fe', 'Alpha']\n",
    "\n",
    "    labels['Mv'] = ['Mv', 'Mvt']\n",
    "    labels['m_Mv'] = ['m_Mv']\n",
    "    labels['m_Mv_Err'] = ['m_Mv_Err']\n",
    "    labels['Mass'] = ['Mass']\n",
    "    parse_dic = {}\n",
    "    for l in list(labels.keys()):\n",
    "        for n in labels[l]:\n",
    "            parse_dic[n] = l\n",
    "    return parse_dic\n",
    "\n",
    "\n",
    "col_parse_dic = create_col_parse_dic()\n",
    "\n",
    "\n",
    "def parse_columns(original_columns):\n",
    "    known_labels = np.array(list(col_parse_dic.keys()))\n",
    "    unknown = np.isin(original_columns, known_labels, invert=True)\n",
    "    if unknown.sum() > 0:\n",
    "        print(\"Unknown labels:\")\n",
    "        print(original_columns)\n",
    "    parse_columns = np.array([col_parse_dic.get(c, c) for c in original_columns])\n",
    "    return parse_columns"
   ]
  },
  {
   "cell_type": "markdown",
   "id": "2b976207-516c-4ce8-9262-d907fda24129",
   "metadata": {},
   "source": [
    "# Dynamics"
   ]
  },
  {
   "cell_type": "markdown",
   "id": "df79f6ef-8a2d-484f-977e-a568c8f0ae4e",
   "metadata": {},
   "source": [
    "## Vasiliev"
   ]
  },
  {
   "cell_type": "code",
   "execution_count": 5,
   "id": "induced-small",
   "metadata": {},
   "outputs": [
    {
     "name": "stdout",
     "output_type": "stream",
     "text": [
      "Unknown labels:\n",
      "['name', 'name2', 'ra0', 'dec0', 'dist0', 'dist_err', 'vlos0', 'vlos_err', 'pmra0', 'pmdec0', 'pmra_err', 'pmdec_err', 'pmcorr']\n",
      "Number of total GCs: 170\n"
     ]
    },
    {
     "name": "stderr",
     "output_type": "stream",
     "text": [
      "/tmp/ipykernel_4168/2189038902.py:119: FutureWarning: elementwise comparison failed; returning scalar instead, but in the future will perform elementwise comparison\n",
      "  x[x == '-'] = 'NAN'\n",
      "/tmp/ipykernel_4168/2189038902.py:120: FutureWarning: elementwise comparison failed; returning scalar instead, but in the future will perform elementwise comparison\n",
      "  x[x == ''] = 'NAN'\n"
     ]
    }
   ],
   "source": [
    "def load_Vasilev21_Data_Dic():\n",
    "    # Eugene Vasilev read script\n",
    "    tab = np.loadtxt('GC_Sky_Vasilev2021.txt', dtype=str)\n",
    "    sky_data = {}\n",
    "    sky_data['name'] = tab[:, 0]   # 0th column is the cluster name (string)\n",
    "    sky_data['name2'] = tab[:, 1]   # 0th column is the cluster name (string)\n",
    "    tab = tab[:, 2:].astype(float)  # remaining columns are numbers\n",
    "    sky_data['ra0'] = tab[:, 0]   # coordinates of cluster centers [deg]\n",
    "    sky_data['dec0'] = tab[:, 1]\n",
    "    sky_data['dist0'] = tab[:, 2]   # distance [kpc]\n",
    "    diste = tab[:, 3]   # distance error [kpc]\n",
    "    diste[~np.isfinite(diste)] = sky_data['dist0'][~np.isfinite(diste)] * 0.05\n",
    "    sky_data['dist_err'] = diste   # distance error [kpc]\n",
    "    sky_data['vlos0'] = tab[:, 4]   # line-of-sight velocity [km/s]\n",
    "    vlose = tab[:, 5]   # its error estimate\n",
    "    # assumed error of at least 2 km/s on line-of-sight velocity\n",
    "    sky_data['vlos_err'] = np.maximum(vlose, 2.0)\n",
    "    sky_data['pmra0'] = tab[:, 8]   # mean proper motion [mas/yr]\n",
    "    sky_data['pmdec0'] = tab[:, 9]\n",
    "    sky_data['pmra_err'] = tab[:, 10]   # its uncertainty\n",
    "    sky_data['pmdec_err'] = tab[:, 11]\n",
    "    # correlation coefficient for errors in two PM components\n",
    "    sky_data['pmcorr'] = tab[:, 12]\n",
    "    # assumed error of 0.1 mag in distance modulus when not known\n",
    "    return sky_data\n",
    "\n",
    "\n",
    "Vasilev21_data_dic = load_Vasilev21_Data_Dic()\n",
    "Vasilev21_dic = data_dic_to_gc_dic(Vasilev21_data_dic)\n",
    "data = data_add_function(data, Vasilev21_dic, data_name='Vasilev21')\n",
    "paper_age[\"Vasilev21\"] = 2021"
   ]
  },
  {
   "cell_type": "markdown",
   "id": "c4446db4-e862-4281-a85f-479c87cf74aa",
   "metadata": {},
   "source": [
    "## Baumb Distances"
   ]
  },
  {
   "cell_type": "code",
   "execution_count": 6,
   "id": "a35c03f6-9485-48a0-9e71-004439e9bc36",
   "metadata": {},
   "outputs": [
    {
     "name": "stdout",
     "output_type": "stream",
     "text": [
      "Unknown labels:\n",
      "['name', 'ra0', 'dec0', 'l', 'b', 'dist0', 'dist_err', 'R_GC', 'vlos0', 'vlos_err', 'pmra0', 'pmra_err', 'pmdec0', 'pmdec_err', 'pmcorr']\n",
      "Number of total GCs: 175\n"
     ]
    },
    {
     "name": "stderr",
     "output_type": "stream",
     "text": [
      "/tmp/ipykernel_4168/2189038902.py:119: FutureWarning: elementwise comparison failed; returning scalar instead, but in the future will perform elementwise comparison\n",
      "  x[x == '-'] = 'NAN'\n",
      "/tmp/ipykernel_4168/2189038902.py:120: FutureWarning: elementwise comparison failed; returning scalar instead, but in the future will perform elementwise comparison\n",
      "  x[x == ''] = 'NAN'\n"
     ]
    }
   ],
   "source": [
    "def Baumgardt_GC_obs_load_sky():\n",
    "    tab = np.loadtxt(\"Baumgardt21_sky.txt\", dtype=str, skiprows=2)\n",
    "    sky_data = {}\n",
    "    Name = tab[:, 0].astype('<U20')   # 0th column is the cluster name (string)\n",
    "    Name = np.char.replace(Name, ' ', '')\n",
    "    Name = np.char.replace(Name, '_', '')\n",
    "    Name = np.char.replace(Name, '-', '')\n",
    "    Name = np.char.replace(Name, 'Ter', 'Terzan')\n",
    "    Name = np.char.replace(Name, 'Lae', 'Laevens')\n",
    "    Name = np.char.replace(Name, 'Djor', 'Djorg')\n",
    "    Name = np.char.replace(Name, 'Lil', 'Liller')\n",
    "    sky_data['name'] = Name\n",
    "    tab = tab[:, 1:].astype(float)  # remaining columns are numbers\n",
    "    sky_data['ra0'] = tab[:, 0]   # coordinates of cluster centers [deg]\n",
    "    sky_data['dec0'] = tab[:, 1]\n",
    "    sky_data['l'] = tab[:, 2]   # coordinates of cluster centers [deg]\n",
    "    sky_data['b'] = tab[:, 3]   # coordinates of cluster centers [deg]\n",
    "    sky_data['dist0'] = tab[:, 4]   # distance [kpc]\n",
    "    diste = tab[:, 5]   # distance error [kpc]\n",
    "    diste[~np.isfinite(diste)] = sky_data['dist0'][~np.isfinite(diste)] * 0.05\n",
    "    sky_data['dist_err'] = diste   # distance error [kpc]\n",
    "    sky_data['R_GC'] = tab[:, 6]   # distance error [kpc]\n",
    "    sky_data['vlos0'] = tab[:, 7]   # line-of-sight velocity [km/s]\n",
    "    vlose = tab[:, 8]   # its error estimate\n",
    "    # np.maximum(vlose, 2.0)  # assumed error of at least 2 km/s on line-of-sight velocity\n",
    "    sky_data['vlos_err'] = vlose\n",
    "    sky_data['pmra0'] = tab[:, 9]   # mean proper motion [mas/yr]\n",
    "    sky_data['pmra_err'] = tab[:, 10]   # its uncertainty\n",
    "    sky_data['pmdec0'] = tab[:, 11]\n",
    "    sky_data['pmdec_err'] = tab[:, 12]\n",
    "    # correlation coefficient for errors in two PM components\n",
    "    sky_data['pmcorr'] = tab[:, 13]\n",
    "    # assumed error of 0.1 mag in distance modulus when not known\n",
    "    return sky_data\n",
    "\n",
    "\n",
    "Baumgardt21_data_dic = Baumgardt_GC_obs_load_sky()\n",
    "Baumgardt21_dic = data_dic_to_gc_dic(Baumgardt21_data_dic)\n",
    "data = data_add_function(data, Baumgardt21_dic, data_name='Baumgardt21')\n",
    "paper_age[\"Baumgardt21\"] = 2021.5"
   ]
  },
  {
   "cell_type": "markdown",
   "id": "6f60b73e-1aa0-48f6-a6cb-4175ae18f8e4",
   "metadata": {},
   "source": [
    "## Gran?"
   ]
  },
  {
   "cell_type": "markdown",
   "id": "e0ab5cb3-baf6-4178-84aa-5f9d1b1bb163",
   "metadata": {},
   "source": [
    "# AMR + Mass/Magnitude"
   ]
  },
  {
   "cell_type": "markdown",
   "id": "48fe49a7-8af1-469d-8d9f-66d94e35708f",
   "metadata": {},
   "source": [
    "## Baumgardt Cluster Mass\n",
    "https://ui.adsabs.harvard.edu/abs/2018MNRAS.478.1520B/abstract  \n",
    "https://people.smp.uq.edu.au/HolgerBaumgardt/globular/parameter.html"
   ]
  },
  {
   "cell_type": "code",
   "execution_count": 7,
   "id": "230e2959-35d1-444e-82ef-a8157ab8c1bf",
   "metadata": {
    "scrolled": true,
    "tags": []
   },
   "outputs": [
    {
     "name": "stdout",
     "output_type": "stream",
     "text": [
      "(161, 2)\n",
      "Number of total GCs: 176\n"
     ]
    }
   ],
   "source": [
    "Baumgardt_GC_array = np.loadtxt(\"Baumgardt_GC_Mass.csv\",\n",
    "                                skiprows=1, dtype=str, delimiter=',')\n",
    "Baumgardt_GC_Columns = [\"Name\", \"Mass\"]\n",
    "print(np.shape(Baumgardt_GC_array))\n",
    "Baumgardt_GC_dic = data_array_to_gc_dic(Baumgardt_GC_array, Baumgardt_GC_Columns)\n",
    "data = data_add_function(data, Baumgardt_GC_dic, data_name='Baumgardt_Mass18')\n",
    "paper_age[\"Baumgardt_Mass18\"] = 2018"
   ]
  },
  {
   "cell_type": "markdown",
   "id": "447bd2b1-fec4-45bd-8bdf-32ac97c65c2c",
   "metadata": {
    "tags": []
   },
   "source": [
    "## Kruijssen Sample\n",
    "Data used in Kruijssen19. 3 Sources, Kuijssen takes average of available. Use all from sources, as some missing data added by other sources."
   ]
  },
  {
   "cell_type": "code",
   "execution_count": 8,
   "id": "a4e4061a-aed3-4e1b-9e27-090106b2e315",
   "metadata": {},
   "outputs": [
    {
     "name": "stdout",
     "output_type": "stream",
     "text": [
      "Number of total GCs: 176\n"
     ]
    }
   ],
   "source": [
    "Kruijssen19_array = np.loadtxt(\"Kruijssen19.csv\", skiprows=1, dtype=str, delimiter=',')\n",
    "# Name, Met, Alpha, Age, Age Err\n",
    "Kruijssen19_Columns = ['Name', 'Mv', 'Mass', 'Age', 'Age_Err', 'Fe_H']\n",
    "Kruijssen19_array[:, 2] = (10 ** np.array(Kruijssen19_array[:, 2].astype(float))).astype(str)\n",
    "Kruijssen19_dic = data_array_to_gc_dic(Kruijssen19_array, Kruijssen19_Columns)\n",
    "data = data_add_function(data, Kruijssen19_dic, data_name='Kruijssen19')\n",
    "paper_age[\"Kruijssen19\"] = 2019"
   ]
  },
  {
   "cell_type": "markdown",
   "id": "94eb98f1-faef-4230-af85-1964f4c6702d",
   "metadata": {},
   "source": [
    "### Dotter\n",
    "Dotter 11 added onto the back  \n",
    "https://ui.adsabs.harvard.edu/abs/2010ApJ...708..698D/abstract  \n",
    "https://ui.adsabs.harvard.edu/abs/2011ApJ...738...74D/abstract  "
   ]
  },
  {
   "cell_type": "code",
   "execution_count": 9,
   "id": "8fb4356d-1b30-4515-8092-39186e23a8bf",
   "metadata": {},
   "outputs": [
    {
     "name": "stdout",
     "output_type": "stream",
     "text": [
      "(62, 5)\n",
      "Number of total GCs: 178\n"
     ]
    }
   ],
   "source": [
    "Dotter10_array = np.loadtxt(\"Dotter10.csv\", skiprows=1, dtype=str, delimiter=',')\n",
    "# Name, Met, Alpha, Age, Age Err\n",
    "Dotter10_Columns = ['Name', 'Fe_H', 'Alpha_Fe', 'Age', 'Age_Err']\n",
    "print(np.shape(Dotter10_array))\n",
    "Dotter10_dic = data_array_to_gc_dic(Dotter10_array, Dotter10_Columns)\n",
    "data = data_add_function(data, Dotter10_dic, data_name='Dotter10')\n",
    "paper_age['Dotter10'] = 2010"
   ]
  },
  {
   "cell_type": "markdown",
   "id": "b6615365-4925-495e-a257-520a2a22ea75",
   "metadata": {},
   "source": [
    "### Forbes+Bridges\n",
    "https://ui.adsabs.harvard.edu/abs/2010MNRAS.404.1203F/abstract  \n",
    "Note No Age errors?"
   ]
  },
  {
   "cell_type": "code",
   "execution_count": 10,
   "id": "e23af079-2ebb-46ce-8258-3517d91bd98c",
   "metadata": {
    "scrolled": true,
    "tags": []
   },
   "outputs": [
    {
     "name": "stdout",
     "output_type": "stream",
     "text": [
      "(88, 3)\n",
      "Number of total GCs: 183\n"
     ]
    }
   ],
   "source": [
    "Forbes10_array = np.loadtxt(\"Forbes10.csv\", skiprows=1, dtype=str, delimiter=',')\n",
    "Forbes10_Columns = ['Name', 'Age', 'Met']\n",
    "# No Age error?\n",
    "print(np.shape(Forbes10_array))\n",
    "Forbes10_dic = data_array_to_gc_dic(Forbes10_array, Forbes10_Columns)\n",
    "data = data_add_function(data, Forbes10_dic, data_name='Forbes10')\n",
    "paper_age[\"Forbes10\"] = 2010"
   ]
  },
  {
   "cell_type": "markdown",
   "id": "c46de527-aa7c-4d7d-b4bf-ffedb16de2f4",
   "metadata": {},
   "source": [
    "### VandenBerg\n",
    "https://ui.adsabs.harvard.edu/abs/2013ApJ...775..134V/abstract  \n",
    "Following Kruijssen, +1Gyr Uncertainty"
   ]
  },
  {
   "cell_type": "code",
   "execution_count": 11,
   "id": "88870695-16ff-406b-81cb-e6275575a82d",
   "metadata": {
    "scrolled": true,
    "tags": []
   },
   "outputs": [
    {
     "name": "stdout",
     "output_type": "stream",
     "text": [
      "(55, 6)\n",
      "Adding 1GYR to errors\n",
      "Number of total GCs: 183\n"
     ]
    }
   ],
   "source": [
    "VandenBerg13_array = np.loadtxt(\"VandenBerg13.csv\", skiprows=1, dtype=str, delimiter=',')\n",
    "#NGC, Name, Met, Age, Age_Err, Mv\n",
    "VandenBerg13_Columns = ['NGC', 'Name', 'Met', 'Age', 'Age_Err', 'Mv']\n",
    "print(np.shape(VandenBerg13_array))\n",
    "print(\"Adding 1GYR to errors\")\n",
    "VandenBerg13_array[:, 4] = (VandenBerg13_array[:, 4].astype(float) + 1).astype(str)\n",
    "VandenBerg13_dic = data_array_to_gc_dic(VandenBerg13_array, VandenBerg13_Columns)\n",
    "data = data_add_function(data, VandenBerg13_dic, data_name='VandenBerg13')\n",
    "paper_age[\"VandenBerg13\"] = 2013"
   ]
  },
  {
   "cell_type": "markdown",
   "id": "1f00e975-da2e-4fac-8a06-2de2a7f58593",
   "metadata": {},
   "source": [
    "## Harris\n",
    "https://physics.mcmaster.ca/~harris/mwgc.dat"
   ]
  },
  {
   "cell_type": "code",
   "execution_count": 12,
   "id": "6fcb7cdb-a5e1-4d93-923f-fa61d982b0e5",
   "metadata": {
    "scrolled": true,
    "tags": []
   },
   "outputs": [
    {
     "name": "stdout",
     "output_type": "stream",
     "text": [
      "Number of total GCs: 187\n"
     ]
    }
   ],
   "source": [
    "Harris10_array = np.loadtxt(\"Harris10.csv\", skiprows=1, dtype=str, delimiter=',')\n",
    "#Name,Met, Mvt\n",
    "Harris10_Columns = ['Name', 'Met', 'Mvt']\n",
    "Harris10_dic = data_array_to_gc_dic(Harris10_array, Harris10_Columns)\n",
    "data = data_add_function(data, Harris10_dic, data_name='Harris10')\n",
    "\n",
    "paper_age[\"Harris10\"] = 2010"
   ]
  },
  {
   "cell_type": "markdown",
   "id": "c3c863cb-f97a-4045-8629-bcc1d7ceca1b",
   "metadata": {},
   "source": [
    "## Roediger\n",
    "https://ui.adsabs.harvard.edu/abs/2014ApJS..210...10R/abstract"
   ]
  },
  {
   "cell_type": "code",
   "execution_count": 13,
   "id": "a75141ff-e6de-4ec9-b8ee-861a96374860",
   "metadata": {
    "scrolled": true,
    "tags": []
   },
   "outputs": [
    {
     "name": "stdout",
     "output_type": "stream",
     "text": [
      "(41, 5)\n",
      "Number of total GCs: 187\n"
     ]
    }
   ],
   "source": [
    "Roediger13_array = np.loadtxt(\"Roediger13.csv\", skiprows=1, dtype=str, delimiter=',')\n",
    "Roediger13_Columns = ['Name', 'Age', 'Age_Err', 'Fe_H', 'Fe_H_err']\n",
    "print(np.shape(Roediger13_array))\n",
    "Roediger13_dic = data_array_to_gc_dic(Roediger13_array, Roediger13_Columns)\n",
    "data = data_add_function(data, Roediger13_dic, data_name='Roediger13')\n",
    "paper_age[\"Roediger13\"] = 2013"
   ]
  },
  {
   "cell_type": "markdown",
   "id": "667cdd3d-3866-4d4d-9a5d-82dcbe68b480",
   "metadata": {},
   "source": [
    "## OMalley\n",
    "https://ui.adsabs.harvard.edu/abs/2017ApJ...838..162O/abstract"
   ]
  },
  {
   "cell_type": "code",
   "execution_count": 14,
   "id": "cbe7e90a-8d0b-4109-af9f-107e3a4d27f8",
   "metadata": {
    "scrolled": true,
    "tags": []
   },
   "outputs": [
    {
     "name": "stdout",
     "output_type": "stream",
     "text": [
      "(22, 6)\n",
      "Number of total GCs: 187\n"
     ]
    }
   ],
   "source": [
    "OMalley17_array = np.loadtxt(\"OMalley17.csv\", skiprows=1, dtype=str, delimiter=',')\n",
    "#Name, m_Mv, Age, Age_Err, Fe_H\n",
    "OMalley17_Columns = [\"Name\", \"m_Mv\", \"m_Mv_Err\", \"Age\", \"Age_Err\", \"Fe_H\"]\n",
    "print(np.shape(OMalley17_array))\n",
    "OMalley17_dic = data_array_to_gc_dic(OMalley17_array, OMalley17_Columns)\n",
    "data = data_add_function(data, OMalley17_dic, data_name='OMalley17')\n",
    "\n",
    "paper_age[\"OMalley17\"] = 2017"
   ]
  },
  {
   "cell_type": "markdown",
   "id": "1aea29da-1fbf-4159-8de7-c753b4cef67d",
   "metadata": {
    "tags": []
   },
   "source": [
    "## Vasquez18\n",
    "https://ui.adsabs.harvard.edu/abs/2018A%26A...619A..13V/abstract  \n",
    "Use  the most recent Fe_H_D16 data?"
   ]
  },
  {
   "cell_type": "code",
   "execution_count": 15,
   "id": "ddf6e2ae-a5ce-4701-9f0d-e8273e1826ee",
   "metadata": {
    "scrolled": true,
    "tags": []
   },
   "outputs": [
    {
     "name": "stdout",
     "output_type": "stream",
     "text": [
      "(48, 3)\n",
      "Number of total GCs: 187\n"
     ]
    }
   ],
   "source": [
    "Vasquez18_array = np.loadtxt(\"Vasquez18.csv\", skiprows=1, dtype=str, delimiter=',')\n",
    "# Name, Fe_H D16, Fe_H_err, Fe_H_S12, Fe_H_err, Fe_H_V15, Fe_H_err, Fe_H_C09\n",
    "Vasquez18_array = Vasquez18_array[:, :3]\n",
    "Vasquez18_Columns = [\"Name\", \"Fe_H\", \"Fe_H_err\"]\n",
    "print(np.shape(Vasquez18_array))\n",
    "Vasquez18_dic = data_array_to_gc_dic(Vasquez18_array, Vasquez18_Columns)\n",
    "data = data_add_function(data, Vasquez18_dic, data_name='Vasquez18')\n",
    "\n",
    "paper_age[\"Vasquez18\"] = 2018"
   ]
  },
  {
   "cell_type": "markdown",
   "id": "7a274f23-e585-4d77-92f8-ddd04395fe07",
   "metadata": {
    "tags": []
   },
   "source": [
    "## Saviane12\n",
    "https://ui.adsabs.harvard.edu/abs/2012A%26A...540A..27S/abstract\n",
    "\n",
    "Use Fe_H_C09 data?"
   ]
  },
  {
   "cell_type": "code",
   "execution_count": 16,
   "id": "550a9b4e-1300-443f-a0df-6b4052136843",
   "metadata": {
    "scrolled": true,
    "tags": []
   },
   "outputs": [
    {
     "name": "stdout",
     "output_type": "stream",
     "text": [
      "(71, 4)\n",
      "Number of total GCs: 187\n"
     ]
    }
   ],
   "source": [
    "Saviane12_array = np.loadtxt(\"Saviane12.csv\", skiprows=1, dtype=str, delimiter=',')\n",
    "#Name, Name2, W, sigmaW, Fe_H_C09, err, Fe_H_H10, H10wt, Fe_H_C09_AP1, e\n",
    "Saviane12_array = Saviane12_array[:, [0, 1, 4, 5]]\n",
    "print(np.shape(Saviane12_array))\n",
    "Saviane12_Columns = [\"Name\", \"Name2\", \"Fe_H\", \"Fe_H_err\"]\n",
    "Saviane12_dic = data_array_to_gc_dic(Saviane12_array, Saviane12_Columns)\n",
    "data = data_add_function(data, Saviane12_dic, data_name='Saviane12')\n",
    "\n",
    "paper_age[\"Saviane12\"] = 2012"
   ]
  },
  {
   "cell_type": "markdown",
   "id": "bdbc9578-e326-45e6-8833-ddc60a1a150c",
   "metadata": {},
   "source": [
    "## Oliveria20\n",
    "https://ui.adsabs.harvard.edu/abs/2020ApJ...891...37O/abstract  \n",
    "HST\n"
   ]
  },
  {
   "cell_type": "code",
   "execution_count": 17,
   "id": "6640b5e0-be09-40b6-90e5-55eca86d7584",
   "metadata": {},
   "outputs": [
    {
     "name": "stdout",
     "output_type": "stream",
     "text": [
      "Unknown labels:\n",
      "['Name', 'Age', 'Age_Err_1os', 'Age_Err_1us', 'Fe_H', 'Fe_H_Err_1os', 'Fe_H_Err_1us']\n",
      "Number of total GCs: 187\n"
     ]
    }
   ],
   "source": [
    "Oliveria20_array = np.loadtxt(\"Oliveria20.csv\", skiprows=1, dtype=str, delimiter=',')\n",
    "Oliveria20_Columns = [\"Name\",\"Age\",\"Age_Err_1os\",\"Age_Err_1us\",\"Fe_H\",\"Fe_H_Err_1os\",\"Fe_H_Err_1us\"]\n",
    "Oliveria20_array[:, 2] = (10 ** np.array(Oliveria20_array[:, 2].astype(float))).astype(str)\n",
    "Oliveria20_dic = data_array_to_gc_dic(Oliveria20_array, Oliveria20_Columns)\n",
    "data = data_add_function(data, Oliveria20_dic, data_name='Oliveria20')\n",
    "paper_age[\"Oliveria20\"] = 2020"
   ]
  },
  {
   "cell_type": "markdown",
   "id": "ce0ac9d5-16ea-4aed-9381-bb7a2ca17bac",
   "metadata": {},
   "source": [
    "## CAPOS21\n",
    "https://ui.adsabs.harvard.edu/abs/2021A%26A...652A.157G/abstract\n"
   ]
  },
  {
   "cell_type": "code",
   "execution_count": 18,
   "id": "66c44556-a0ab-4ca5-9815-83eb144494d8",
   "metadata": {},
   "outputs": [
    {
     "name": "stdout",
     "output_type": "stream",
     "text": [
      "Unknown labels:\n",
      "['Name', 'Fe_H', 'Fe_H_Err', 'Alpha_H', 'Alpha_H_Err']\n",
      "Number of total GCs: 187\n"
     ]
    }
   ],
   "source": [
    "CAPOS21_array = np.loadtxt(\"CAPOS21.csv\", skiprows=1, dtype=str, delimiter=',')\n",
    "CAPOS21_Columns = [\"Name\",\"Fe_H\", \"Fe_H_Err\", \"Alpha_H\", \"Alpha_H_Err\"]\n",
    "CAPOS21_array[:, 2] = (10 ** np.array(CAPOS21_array[:, 2].astype(float))).astype(str)\n",
    "CAPOS21_dic = data_array_to_gc_dic(CAPOS21_array, CAPOS21_Columns)\n",
    "data = data_add_function(data, CAPOS21_dic, data_name='CAPOS21')\n",
    "paper_age[\"CAPOS21\"] = 2020"
   ]
  },
  {
   "cell_type": "markdown",
   "id": "4c07c9c1-8f1a-4957-95ba-8eed89dc0993",
   "metadata": {},
   "source": [
    "## Valenti"
   ]
  },
  {
   "cell_type": "markdown",
   "id": "3ed0cce2-d661-4ca5-a880-f48c6b2c006a",
   "metadata": {},
   "source": [
    "## GRAN?"
   ]
  },
  {
   "cell_type": "markdown",
   "id": "d9b4be3b-963b-4763-b2fa-81f39d5b0620",
   "metadata": {},
   "source": [
    "# Individual_Data\n",
    "Individual papers and sources"
   ]
  },
  {
   "cell_type": "code",
   "execution_count": 19,
   "id": "851a13b6-752f-43d0-9f6e-d8f5c81a54e6",
   "metadata": {},
   "outputs": [],
   "source": [
    "def add_individual_data(data, individual_data):\n",
    "    papers = list(individual_data.keys())\n",
    "    for p in papers:\n",
    "        print(p)\n",
    "        data = data_add_function(data, individual_data[p], data_name=p)\n",
    "\n",
    "    return data"
   ]
  },
  {
   "cell_type": "code",
   "execution_count": 20,
   "id": "1354fab5-df52-4de6-a02d-ebe026bcca62",
   "metadata": {},
   "outputs": [],
   "source": [
    "individual_data = {}"
   ]
  },
  {
   "cell_type": "markdown",
   "id": "5d74030a-be9f-4202-8f69-af27f92fef99",
   "metadata": {},
   "source": [
    "### Pal2\n",
    "https://ui.adsabs.harvard.edu/abs/2020MNRAS.493.2688B/abstract"
   ]
  },
  {
   "cell_type": "code",
   "execution_count": 21,
   "id": "5b9df2de-c9db-4be0-b4ab-99ae8ef5f48f",
   "metadata": {},
   "outputs": [],
   "source": [
    "individual_data[\"Bonatto20\"] = {\"Pal2\": {'Age': 13.25, 'Age_Err': 0.12, \"Fe_H\": -1.58, \"Fe_H_Err\": 0.08,\n",
    "                                         \"Mass\": 1.4e5, \"Mass_Err\": 0.4e5, \"Mvt\": -7.8}}\n",
    "paper_age[\"Bonatto20\"] = 2020"
   ]
  },
  {
   "cell_type": "markdown",
   "id": "caead0f0-8d10-48b1-91f4-fc69ec4f7298",
   "metadata": {},
   "source": [
    "### Crater/Lavens1\n",
    "Crater  \n",
    "https://ui.adsabs.harvard.edu/abs/2016ApJ...822...32W/abstract"
   ]
  },
  {
   "cell_type": "code",
   "execution_count": 22,
   "id": "44262b40-38ff-4b71-b317-3b8803c5485f",
   "metadata": {},
   "outputs": [],
   "source": [
    "name_parse['Laevens1'] = \"Crater\"\n",
    "\n",
    "individual_data[\"Weisz16\"] = {\"Crater\": {'Age': 7.5, 'Age_Err': 0.4,\n",
    "                                         \"Fe_H\": -1.66, \"Fe_H_Err\": 0.04,\n",
    "                                         \"Mass\": 9.9e3, \"Mvt\": -5.3}}\n",
    "paper_age[\"Weisz16\"] = 2016"
   ]
  },
  {
   "cell_type": "markdown",
   "id": "3b7ed250-8dfd-4639-8d7c-c35c141645ed",
   "metadata": {},
   "source": [
    "### Bliss1\n",
    "https://ui.adsabs.harvard.edu/abs/2019ApJ...875..154M/abstract"
   ]
  },
  {
   "cell_type": "code",
   "execution_count": 23,
   "id": "e11536ed-17a8-4d81-a4a2-a5dd030332e1",
   "metadata": {},
   "outputs": [],
   "source": [
    "individual_data[\"Hempel14\"] = {\"Bliss1\": {'Age': 9.2, 'Age_Err_1os': 1.6, \"Age_Err_1us\": -0.8,\n",
    "                                          \"Fe_H\": -1.4,\n",
    "                                          \"Mass\": 143, \"Mass_Err\": 37,\n",
    "                                          \"Mvt\": 0, \"Mvt_Err_1os\": 1.7, \"Mvt_Err_1us\": -0.7}}\n",
    "paper_age[\"Hempel14\"] = 2014"
   ]
  },
  {
   "cell_type": "markdown",
   "id": "192f7604-a510-45b9-80e7-77c7dd0ac971",
   "metadata": {},
   "source": [
    "### Kim3\n",
    "https://ui.adsabs.harvard.edu/abs/2016ApJ...820..119K/abstract"
   ]
  },
  {
   "cell_type": "code",
   "execution_count": 24,
   "id": "98194bd6-9790-4fe8-956d-d733028f984f",
   "metadata": {},
   "outputs": [],
   "source": [
    "individual_data[\"Kim16\"] = {\"Kim3\": {'Age': 9.5, 'Age_Err_1os': 3, \"Age_Err_1us\": -1.6,\n",
    "                                     \"Fe_H\": -1.6, \"Fe_H_1os\": 0.45, \"Fe_H_1us\": -0.3,\n",
    "                                     \"Mvt\": 0.7, \"Mvt_Err\": 0.3}}\n",
    "paper_age[\"Kim16\"] = 2016"
   ]
  },
  {
   "cell_type": "markdown",
   "id": "04f5700d-f3b1-4e47-9986-d895aee8c5ab",
   "metadata": {},
   "source": [
    "### Munoz1\n",
    "https://ui.adsabs.harvard.edu/abs/2012ApJ...753L..15M/abstract"
   ]
  },
  {
   "cell_type": "code",
   "execution_count": 25,
   "id": "774291d8-6ccb-42e0-b7e6-6a41933793f8",
   "metadata": {},
   "outputs": [],
   "source": [
    "individual_data[\"Munoz12\"] = {\"Munoz1\": {'Age': 12.5,\n",
    "                                         \"Fe_H\": -1.5,\n",
    "                                         \"Mvt\": -0.4, \"Mvt_Err\": 0.9}}\n",
    "\n",
    "paper_age[\"Kim16\"] = 2016"
   ]
  },
  {
   "cell_type": "markdown",
   "id": "9a810e8e-cb31-4b7a-abd5-76eb7062cff5",
   "metadata": {},
   "source": [
    "### BH176\n",
    "https://ui.adsabs.harvard.edu/abs/2011A%26A...528A..70D/abstract"
   ]
  },
  {
   "cell_type": "code",
   "execution_count": 26,
   "id": "32f383ed-9321-4095-b590-9954b87a6cad",
   "metadata": {},
   "outputs": [],
   "source": [
    "individual_data[\"Davoust11\"] = {\"BH176\": {'Age': 6.5, \"Age_Err\": 0.5,\n",
    "                                          \"Fe_H\": -0.1, \"Fe_H_Err\": 0.1,\n",
    "                                          \"Mvt\": -3.82}}\n",
    "\n",
    "paper_age[\"Davoust11\"] = 2011"
   ]
  },
  {
   "cell_type": "markdown",
   "id": "70d4224a-6918-495f-a692-7dc26231711d",
   "metadata": {},
   "source": [
    "### FSR1716\n",
    "https://ui.adsabs.harvard.edu/abs/2017A%26A...605A.128K/abstract\n",
    "\n",
    "Age given as 10-12 in:\n",
    "https://ui.adsabs.harvard.edu/abs/2016arXiv161103753B/abstract"
   ]
  },
  {
   "cell_type": "code",
   "execution_count": 27,
   "id": "d177e948-22f9-4f60-bd42-f450bb78e8ab",
   "metadata": {},
   "outputs": [],
   "source": [
    "individual_data[\"Andreas17\"] = {\"FSR1716\": {  # 'Age': ?,\n",
    "    \"Fe_H\": -1.38, \"Fe_H_Err\": 0.2,\n",
    "    \"Mass\": 1.4e4, \"Mass_Err_1os\": 1.2e4, \"Mass_Err_1us\": 0.8e4,\n",
    "    \"Mvt\": -5.1, \"Mvt_Err\": 1}}\n",
    "\n",
    "paper_age[\"Andreas17\"] = 2017\n",
    "\n",
    "individual_data[\"Buckner16\"] = {\"FSR1716\": {'Age': 11, \"Age_Err\": 1}}\n",
    "paper_age[\"Buckner16\"] = 2016"
   ]
  },
  {
   "cell_type": "markdown",
   "id": "0a513e1f-e6b9-460e-bde1-fb6ec4ea8a05",
   "metadata": {},
   "source": [
    "### Ryu 1 and 2\n",
    "https://ui.adsabs.harvard.edu/abs/2018ApJ...863L..38R/abstract  \n",
    "Age assumed 12.6, as an average of metal poor GCs. Could include it and have very wide errors?"
   ]
  },
  {
   "cell_type": "code",
   "execution_count": 28,
   "id": "d7a3c1d0-2e1b-421a-8e4a-594c81a45e47",
   "metadata": {},
   "outputs": [],
   "source": [
    "name_parse[\"RLGC1\"] = \"Ryu059\"\n",
    "name_parse[\"RLGC2\"] = \"Ryu879\"\n",
    "individual_data[\"Ryu18\"] = {\"RLGC1\": {  # 'Age': 12.6,\n",
    "    \"Fe_H\": -2.2, \"Fe_H_Err\": 0.2, },\n",
    "    \"RLGC2\": {  # 'Age': 12.6,\n",
    "    \"Fe_H\": -2.1, \"Fe_H_Err\": 0.3, }\n",
    "}\n",
    "\n",
    "paper_age[\"Ryu18\"] = 2018"
   ]
  },
  {
   "cell_type": "markdown",
   "id": "97305258-51b9-453d-9e7f-75639acaca01",
   "metadata": {},
   "source": [
    "### NGC6139\n",
    "https://ui.adsabs.harvard.edu/abs/2015A%26A...583A..69B/abstract\n",
    "errors of +- 0.015 +- 0.058  \n",
    "Combine in Quadrature"
   ]
  },
  {
   "cell_type": "code",
   "execution_count": 29,
   "id": "7e9f8972-16f1-445a-a6c6-b8bb7d90f79e",
   "metadata": {},
   "outputs": [],
   "source": [
    "individual_data[\"Bragaglia15\"] = {\"NGC6139\": {\n",
    "    \"Fe_H\": -1.579, \"Fe_H_Err\": np.sqrt((0.015**2) + (0.058**2)),\n",
    "    \"Mvt\": -3.82}}\n",
    "\n",
    "paper_age[\"Davoust11\"] = 2011"
   ]
  },
  {
   "cell_type": "markdown",
   "id": "32581d6e-795e-4c34-b83d-58f415617444",
   "metadata": {},
   "source": [
    "### ESO452\n",
    "Simpson 17\n",
    "https://ui.adsabs.harvard.edu/abs/2017MNRAS.472.2856S/abstract\n",
    "\n",
    "\n",
    "Cornish 06. \n",
    "Fits multiple isochrones, find a large range of metallicity and ages.\n",
    "https://ui.adsabs.harvard.edu/abs/2006AJ....131.2543C/abstract"
   ]
  },
  {
   "cell_type": "code",
   "execution_count": 30,
   "id": "1bd2df0b-3895-4157-a4b9-952f962eb640",
   "metadata": {},
   "outputs": [],
   "source": [
    "individual_data[\"Simpson17\"] = {\"ESO452\": {\n",
    "    \"Fe_H\": -0.81, \"Fe_H_Err\": 0.13,\n",
    "    \"Mass\": 6.8e3, \"Mass_Err\": 3.4e3\n",
    "}\n",
    "}\n",
    "\n",
    "paper_age[\"Simpson17\"] = 2017\n",
    "\n",
    "individual_data[\"Cornish06\"] = {\"ESO452\": {\"Age\": 12.5, \"Age_Err\": 3.5,\n",
    "                                           }\n",
    "                                }\n",
    "paper_age[\"Cornish06\"] = 2006"
   ]
  },
  {
   "cell_type": "markdown",
   "id": "ac1391e5-fb6d-4204-bdc3-3f37e8f494aa",
   "metadata": {},
   "source": [
    "### NGC6229\n",
    "Johnson17: https://ui.adsabs.harvard.edu/abs/2017AJ....154..155J/abstract\n",
    "\n",
    "Arlleno15: https://ui.adsabs.harvard.edu/abs/2015MNRAS.452..727A/abstract  \n",
    "Gives age as consistent with 12+-1\n"
   ]
  },
  {
   "cell_type": "code",
   "execution_count": 31,
   "id": "d729f958-6835-4a24-a3d4-b70119af382f",
   "metadata": {},
   "outputs": [],
   "source": [
    "individual_data[\"Johnson17\"] = {\"NGC6229\": {\n",
    "    \"Fe_H\": -1.13, \"Fe_H_Err\": 0.06,\n",
    "}}\n",
    "\n",
    "paper_age[\"Johnson17\"] = 2017\n",
    "\n",
    "individual_data[\"Arellano15\"] = {\"NGC6229\": {\"Age\": 12, \"Age_Err\": 1,\n",
    "                                             \"Fe_H\": -1.31, \"Fe_H_Err\": 0.12,\n",
    "                                             }}\n",
    "paper_age[\"Arellano15\"] = 2015"
   ]
  },
  {
   "cell_type": "markdown",
   "id": "874e6565-922d-4764-b8e8-54721c047dfb",
   "metadata": {},
   "source": [
    "### NGC6256\n",
    "Cardelano20: https://ui.adsabs.harvard.edu/abs/2020ApJ...895...54C/abstract  \n",
    "Isochrone fitting using Vasq18 Metallicity\n"
   ]
  },
  {
   "cell_type": "code",
   "execution_count": 32,
   "id": "efc17451-9bde-49da-8354-dfec1daec85a",
   "metadata": {},
   "outputs": [],
   "source": [
    "individual_data[\"Cardelano20\"] = {\"NGC6256\": {\n",
    "    \"Age\":13, \"Age_Err\":0.5,\n",
    "        \"Fe_H\": -1.62\n",
    "}}\n",
    "\n",
    "paper_age[\"Cardelano20\"] = 2020"
   ]
  },
  {
   "cell_type": "markdown",
   "id": "5073c651-becf-4ac5-bea9-05c21690270f",
   "metadata": {},
   "source": [
    "### HP1\n",
    "Kerber20: https://ui.adsabs.harvard.edu/abs/2019MNRAS.484.5530K/abstract\n",
    "\n",
    "Barbuy16: https://ui.adsabs.harvard.edu/abs/2016A%26A...591A..53B/abstract"
   ]
  },
  {
   "cell_type": "code",
   "execution_count": 33,
   "id": "ca14a78f-42b3-4089-83b9-e6de2bef9bde",
   "metadata": {},
   "outputs": [],
   "source": [
    "individual_data[\"Kerber20\"] = {\"HP1\": {\n",
    "    \"Age\":12.75, \"Age_Err_1os\":0.86, \"Age_Err_1us\":-0.81,\n",
    "        \"Fe_H\": -1.09, \"Fe_H_Err_1os\":0.07, \"Fe_H_Err_1us\":-0.09,\n",
    "    \"Alpha_Fe\":0.4\n",
    "}}\n",
    "\n",
    "paper_age[\"Kerber20\"] = 2020\n",
    "\n",
    "individual_data[\"Barbuy16\"] = {\"HP1\": {\n",
    "        \"Fe_H\": -1.06, \"Fe_H_Err\":0.1,\n",
    "}}\n",
    "\n",
    "paper_age[\"Barbuy16\"] = 2016\n"
   ]
  },
  {
   "cell_type": "markdown",
   "id": "0925c8ad-9e8e-4998-8154-7a9fc4738ca6",
   "metadata": {},
   "source": [
    "### FSR1758\n",
    "Romero21: https://ui.adsabs.harvard.edu/abs/2021A%26A...652A.158R/abstract  \n",
    "Fits Isochrone, CAPOS APOGEE \n",
    "\n",
    "Vilanova19: https://ui.adsabs.harvard.edu/abs/2019ApJ...882..174V/abstract  \n",
    "High Res Spectra. Prefered?\n",
    "\n",
    "Barba19: https://ui.adsabs.harvard.edu/abs/2019ApJ...870L..24B/abstract"
   ]
  },
  {
   "cell_type": "code",
   "execution_count": 34,
   "id": "ab66e7f5-2d8f-4279-8637-5ad4fbcc97bf",
   "metadata": {},
   "outputs": [],
   "source": [
    "individual_data[\"Romero21\"] = {\"FSR1758\": {\n",
    "    \"Age\":11.6, \"Age_Err_1os\":1.25, \"Age_Err_1us\": -1.31,\n",
    "        \"Fe_H\": -1.36, \"Fe_H_Err\":0.05\n",
    "}}\n",
    "\n",
    "paper_age[\"Romero21\"] = 2021\n",
    "\n",
    "individual_data[\"Vilanova19\"] = {\"FSR1758\": {\n",
    "        \"Fe_H\": -1.58, \"Fe_H_Err\":0.03,\n",
    "    \"Alpha_Fe\":0.32, \"Alpha_Fe_Err\":0.01\n",
    "}}\n",
    "\n",
    "paper_age[\"Vilanova19\"] = 2019\n",
    "\n",
    "individual_data[\"Barba19\"] = {\"FSR1758\": {\n",
    "        \"Fe_H\": -1.5, \"Fe_H\":0.3\n",
    "}}\n",
    "\n",
    "paper_age[\"Barba19\"] = 2019"
   ]
  },
  {
   "cell_type": "markdown",
   "id": "2cd786a7-bcb7-47a4-a0d8-de2b75ebd6b1",
   "metadata": {},
   "source": [
    "### NGC6402\n",
    "DAntona22: https://ui.adsabs.harvard.edu/abs/2022ApJ...925..192D/abstract  \n",
    "Johnson19: https://ui.adsabs.harvard.edu/abs/2019MNRAS.485.4311J/abstract"
   ]
  },
  {
   "cell_type": "code",
   "execution_count": 35,
   "id": "4ad530bd-ec85-4848-ad15-58104304a194",
   "metadata": {},
   "outputs": [],
   "source": [
    "individual_data[\"DAntona22\"] = {\"NGC6402\": {\n",
    "    \"Age\":12.5, \"Age_Err\":0.75,\n",
    "}}\n",
    "\n",
    "paper_age[\"Johnson19\"] = 2019\n",
    "individual_data[\"Johnon19\"] = {\"NGC6402\": {\n",
    "    \"Fe_H\":-1.13, \"Fe_H_Err\":0.05,\n",
    "    \"Alpha_Fe\":0.3\n",
    "}}\n",
    "\n",
    "paper_age[\"Johnson19\"] = 2019"
   ]
  },
  {
   "cell_type": "markdown",
   "id": "aa16cc1f-ed45-4ad3-9f2f-373aa8d5d7fb",
   "metadata": {},
   "source": [
    "### Palomar 6\n",
    "Souza21: https://ui.adsabs.harvard.edu/abs/2021A%26A...656A..78S/abstract"
   ]
  },
  {
   "cell_type": "code",
   "execution_count": 36,
   "id": "a37ce51d-000f-48c4-9712-b2ba79f2756c",
   "metadata": {},
   "outputs": [],
   "source": [
    "individual_data[\"Souza21\"] = {\"Pal6\": {\n",
    "    \"Age\":12.4, \"Age_Err\":0.9,\n",
    "    \"Fe_H\":-1.10, \"Fe_H_Err\":0.09,\n",
    "    \"Mvt\":-6.79\n",
    "}}\n",
    "\n",
    "paper_age[\"Souza21\"] = 2021"
   ]
  },
  {
   "cell_type": "markdown",
   "id": "188b94ef-a797-48aa-b809-62d4b02cfbc1",
   "metadata": {},
   "source": [
    "### NGC6440\n",
    "Pallanca21: https://ui.adsabs.harvard.edu/abs/2021ApJ...913..137P/abstract\n",
    "\n",
    "Munoz17: https://ui.adsabs.harvard.edu/abs/2017A%26A...605A..12M/abstract  \n",
    "Na-0 anticorrelation  "
   ]
  },
  {
   "cell_type": "code",
   "execution_count": 44,
   "id": "7c374b32-dac3-444f-9ebc-34fcd71a279d",
   "metadata": {},
   "outputs": [],
   "source": [
    "individual_data[\"Pallanca21\"] = {\"NGC6440\": {\n",
    "    \"Age\":13, \"Age_Err\":1.5,\n",
    "    \"Fe_H\":-1.34, \"Fe_H_Err\":0.36,\n",
    "    \"Mvt\" : 1.12, \"Mvt_Err\":0.12\n",
    "}}\n",
    "\n",
    "paper_age[\"Pallanca21\"] = 2021\n",
    "\n",
    "individual_data[\"Munoz17\"] = {\"NGC6440\": {\n",
    "    \"Fe_H\":-0.5, \"Fe_H_Err\":0.03,\n",
    "    \"Age\":13\n",
    "}}\n",
    "\n",
    "paper_age[\"Munoz17\"] = 2017"
   ]
  },
  {
   "cell_type": "markdown",
   "id": "97845284-e2df-4d59-b3ff-03b86ffab27d",
   "metadata": {},
   "source": [
    "### UKS1\n",
    "Fernandez20: https://ui.adsabs.harvard.edu/abs/2020A%26A...643A.145F/abstract  \n",
    "Spectra of 6 stars, fit isochrone for age"
   ]
  },
  {
   "cell_type": "code",
   "execution_count": 54,
   "id": "ac17e13f-09dd-4225-baf8-647d114743da",
   "metadata": {},
   "outputs": [],
   "source": [
    "individual_data[\"Fernandez20\"] = {\"UKS1\": {\n",
    "    \"Age\":13.1, \"Age_Err_1os\":0.93, \"Age_Err_1us\":-1.29,\n",
    "    \"Fe_H\":-0.98, \"Fe_H_Err\":0.11,\n",
    "}}\n",
    "\n",
    "paper_age[\"Fernandez20\"] = 2020"
   ]
  },
  {
   "cell_type": "markdown",
   "id": "4132dcdf-8d91-4cb7-a607-f27f7b699c50",
   "metadata": {},
   "source": [
    "### VVVCL001\n",
    "Fernandez21: https://ui.adsabs.harvard.edu/abs/2021ApJ...908L..42F/abstract\n",
    "High resolution abundance analysis + isochrone fitting"
   ]
  },
  {
   "cell_type": "code",
   "execution_count": 54,
   "id": "bd509de0-c0c0-4aab-b111-17e38d716632",
   "metadata": {},
   "outputs": [],
   "source": [
    "individual_data[\"Fernandez20\"] = {\"UKS1\": {\n",
    "    \"Age\":13.1, \"Age_Err_1os\":0.93, \"Age_Err_1us\":-1.29,\n",
    "    \"Fe_H\":-0.98, \"Fe_H_Err\":0.11,\n",
    "}}\n",
    "\n",
    "paper_age[\"Fernandez20\"] = 2020"
   ]
  },
  {
   "cell_type": "code",
   "execution_count": 47,
   "id": "09753b82-bfd4-4d8f-85c6-150ff83722b8",
   "metadata": {},
   "outputs": [
    {
     "ename": "KeyError",
     "evalue": "'Age'",
     "output_type": "error",
     "traceback": [
      "\u001b[0;31m---------------------------------------------------------------------------\u001b[0m",
      "\u001b[0;31mKeyError\u001b[0m                                  Traceback (most recent call last)",
      "\u001b[0;32m/tmp/ipykernel_4168/2277907767.py\u001b[0m in \u001b[0;36m<module>\u001b[0;34m\u001b[0m\n\u001b[0;32m----> 1\u001b[0;31m \u001b[0mprint\u001b[0m\u001b[0;34m(\u001b[0m\u001b[0mdata\u001b[0m\u001b[0;34m[\u001b[0m\u001b[0;34m\"Liller1\"\u001b[0m\u001b[0;34m]\u001b[0m\u001b[0;34m[\u001b[0m\u001b[0;34m\"Age\"\u001b[0m\u001b[0;34m]\u001b[0m\u001b[0;34m)\u001b[0m\u001b[0;34m\u001b[0m\u001b[0;34m\u001b[0m\u001b[0m\n\u001b[0m",
      "\u001b[0;31mKeyError\u001b[0m: 'Age'"
     ]
    }
   ],
   "source": [
    "print(data[\"Liller1\"][\"Age\"])"
   ]
  },
  {
   "cell_type": "markdown",
   "id": "653a20a4-431b-47fd-8d88-988dabe1dae1",
   "metadata": {},
   "source": [
    "## Add Indiviudal Data"
   ]
  },
  {
   "cell_type": "code",
   "execution_count": 45,
   "id": "d8d2a6ab-3637-4245-8e37-ec78f3dabca0",
   "metadata": {},
   "outputs": [
    {
     "name": "stdout",
     "output_type": "stream",
     "text": [
      "Bonatto20\n",
      "Number of total GCs: 187\n",
      "Weisz16\n",
      "Number of total GCs: 187\n",
      "Hempel14\n",
      "Number of total GCs: 187\n",
      "Kim16\n",
      "Number of total GCs: 187\n",
      "Munoz12\n",
      "Number of total GCs: 187\n",
      "Davoust11\n",
      "Number of total GCs: 187\n",
      "Andreas17\n",
      "Number of total GCs: 187\n",
      "Buckner16\n",
      "Number of total GCs: 187\n",
      "Ryu18\n",
      "Number of total GCs: 189\n",
      "Bragaglia15\n",
      "Number of total GCs: 189\n",
      "Simpson17\n",
      "Number of total GCs: 190\n",
      "Cornish06\n",
      "Number of total GCs: 190\n",
      "Johnson17\n",
      "Number of total GCs: 190\n",
      "Arellano15\n",
      "Number of total GCs: 190\n",
      "Cardelano20\n",
      "Number of total GCs: 190\n",
      "Kerber20\n",
      "Number of total GCs: 190\n",
      "Barbuy16\n",
      "Number of total GCs: 190\n",
      "Romero21\n",
      "Number of total GCs: 190\n",
      "Vilanova19\n",
      "Number of total GCs: 190\n",
      "Barba19\n",
      "Number of total GCs: 190\n",
      "DAntona22\n",
      "Number of total GCs: 190\n",
      "Johnon19\n",
      "Number of total GCs: 190\n",
      "Souza21\n",
      "Number of total GCs: 190\n",
      "Pallanca21\n",
      "Number of total GCs: 190\n",
      "Munoz17\n",
      "Number of total GCs: 190\n"
     ]
    }
   ],
   "source": [
    "data = add_individual_data(data, individual_data)"
   ]
  },
  {
   "cell_type": "code",
   "execution_count": null,
   "id": "b968793b-e9df-44b7-9fd9-0c7825ffee84",
   "metadata": {
    "scrolled": true,
    "tags": []
   },
   "outputs": [],
   "source": [
    "for g in data.keys():\n",
    "    print(g)"
   ]
  },
  {
   "cell_type": "markdown",
   "id": "bc2fa913-77b7-4fe3-8e0a-305757df6669",
   "metadata": {},
   "source": [
    "CHECK: RLGC and RYU\n",
    "2MASS, 2MASSGC02, 2MS-GC01, GLIMPSE2\n",
    "SagittariusII\n",
    "ESO280SC06, ESO280"
   ]
  },
  {
   "cell_type": "markdown",
   "id": "93349f87-127b-4321-a05d-0106c803fd5a",
   "metadata": {},
   "source": [
    "# Combining AMR Data\n",
    "- Check Prefered status. If none found, then:\n",
    "- Prefer the most recent data\n",
    "- If age-metallicity found together, prefer the result\n",
    "- Average the result?"
   ]
  },
  {
   "cell_type": "markdown",
   "id": "c26e8821-2e66-42ef-bb0f-021d04be6598",
   "metadata": {},
   "source": [
    "## List Data"
   ]
  },
  {
   "cell_type": "code",
   "execution_count": null,
   "id": "51ecd324-0608-4174-b630-994cf1e897e7",
   "metadata": {},
   "outputs": [],
   "source": [
    "names = list(data.keys())\n",
    "N_Met = 0\n",
    "N_Age = 0\n",
    "N_Mass = 0\n",
    "for n in names:\n",
    "    gc_data = data[n]\n",
    "    props = list(gc_data.keys())\n",
    "    if \"Fe_H\" in props:\n",
    "        N_Met += 1\n",
    "        # print(n, gc_data[\"Fe_H\"])\n",
    "    if \"Age\" in props:\n",
    "        N_Age += 1\n",
    "    if \"Mass\" in props:\n",
    "        N_Mass += 1\n",
    "print(f\"N Met: {N_Met}\")\n",
    "print(f\"N Age: {N_Age}\")\n",
    "print(f\"N Mass: {N_Mass}\")"
   ]
  },
  {
   "cell_type": "markdown",
   "id": "f3aa2c71-4026-45c8-8cba-f526cc2ddd0c",
   "metadata": {},
   "source": [
    "# Final Data"
   ]
  },
  {
   "cell_type": "markdown",
   "id": "a10745d9-2c5d-44de-8d4c-831adadb7cb2",
   "metadata": {},
   "source": [
    "## List Data"
   ]
  },
  {
   "cell_type": "markdown",
   "id": "4bd9d65b-2c14-4825-b512-3a6dc1c3351f",
   "metadata": {},
   "source": [
    "## Require Dynamics"
   ]
  },
  {
   "cell_type": "markdown",
   "id": "969e6243-9785-4070-998e-94f73c6697a9",
   "metadata": {},
   "source": [
    "## Require Dynamics, AMR, Mass/Mv"
   ]
  },
  {
   "cell_type": "code",
   "execution_count": null,
   "id": "f6efaea5-07ae-4f4d-9d85-98f7d16bb7fc",
   "metadata": {},
   "outputs": [],
   "source": []
  }
 ],
 "metadata": {
  "kernelspec": {
   "display_name": "Python 3 (ipykernel)",
   "language": "python",
   "name": "python3"
  },
  "language_info": {
   "codemirror_mode": {
    "name": "ipython",
    "version": 3
   },
   "file_extension": ".py",
   "mimetype": "text/x-python",
   "name": "python",
   "nbconvert_exporter": "python",
   "pygments_lexer": "ipython3",
   "version": "3.9.7"
  },
  "toc-autonumbering": true
 },
 "nbformat": 4,
 "nbformat_minor": 5
}
