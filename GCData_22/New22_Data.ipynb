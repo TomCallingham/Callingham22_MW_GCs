{
 "cells": [
  {
   "cell_type": "code",
   "execution_count": 1,
   "id": "a8b53011-61cb-4b3a-875f-2ad9793b34db",
   "metadata": {},
   "outputs": [],
   "source": [
    "import numpy as np"
   ]
  },
  {
   "cell_type": "markdown",
   "id": "659e74dd-db88-432e-9c1f-f6bb0a6ef2d7",
   "metadata": {},
   "source": [
    "# Notebook compilation of data\n",
    "An attempt to compile known GC data, and select the best/latest available."
   ]
  },
  {
   "cell_type": "markdown",
   "id": "938dc64c-c61b-4c69-9f23-e2c7ce3e657a",
   "metadata": {},
   "source": [
    "## TODO\n",
    "- [ ] Check Names, some alternate but same cluster\n",
    "- [ ] Make sensible selection of best\n",
    "- [ ] Check Gran Physical Coords\n",
    "- [ ] Check Systematics of AMR  \n",
    "    - [ ] Differences in Isochrones, BaSTi, DSED, BaSTi Alpha enhanced, BaSTI sometimes corrected BaSTi with an age shift due to atomic diffusion ect\n",
    "    "
   ]
  },
  {
   "cell_type": "markdown",
   "id": "b0e531b2-a015-4aaa-b1fe-40d8e71b5ace",
   "metadata": {},
   "source": [
    "## Name Preferencse\n",
    "Alt Names gives preferences of  variants on a single name  \n",
    "name_parse gives the preferences of alternative names of a GC\n"
   ]
  },
  {
   "cell_type": "code",
   "execution_count": 2,
   "id": "a6841bb3-8de6-4ae3-8656-701864482d84",
   "metadata": {
    "tags": []
   },
   "outputs": [],
   "source": [
    "alt_name_parse = {f\"Ter{i}\": f\"Terzan{i}\" for i in np.arange(1, 15)}\n",
    "alt_name_parse = alt_name_parse | {f\"Palomar{i}\": f\"Pal{i}\" for i in np.arange(1, 20)}\n",
    "alt_name_parse = alt_name_parse | {f\"Djor{i}\": f\"Djorg{i}\" for i in np.arange(1, 4)}\n",
    "alt_name_parse = alt_name_parse | {f\"Dor{i}\": f\"Djorg{i}\" for i in np.arange(1, 4)}\n",
    "alt_name_parse[\"2MS-GC01\"] = \"GLIMPSE01\"\n",
    "alt_name_parse[\"2MASSGC01\"] = \"GLIMPSE01\"\n",
    "alt_name_parse[\"2MS-GC02\"] = \"GLIMPSE02\"\n",
    "alt_name_parse[\"2MASSGC02\"] = \"GLIMPSE02\"\n",
    "alt_name_parse[\"NGC0104\"] = \"NGC104\"\n",
    "alt_name_parse[\"NGC0288\"] = \"NGC288\"\n",
    "alt_name_parse[\"NGC0362\"] = \"NGC362\"\n",
    "\n",
    "alt_name_parse[\"ESO280SC06\"] = \"ESO-SC06\"\n",
    "alt_name_parse[\"ESO452SC11\"] = \"ESO452\"\n",
    "\n",
    "alt_name_parse[\"Ryu05\"] = \"Ryu059\"\n",
    "alt_name_parse[\"Ryu87\"] = \"Ryu879\"\n"
   ]
  },
  {
   "cell_type": "code",
   "execution_count": 3,
   "id": "da7aa972-3b61-42c7-a57a-11e014ed09a7",
   "metadata": {
    "tags": []
   },
   "outputs": [],
   "source": [
    "name_parse = {}\n",
    "name_parse[\"1636-283\"] = \"ESO452\"\n",
    "name_parse[\"NGC104\"] = \"47Tuc\"\n",
    "name_parse[\"NGC1904\"] = \"M79\"\n",
    "name_parse[\"ESO371\"] = \"E3\"\n",
    "name_parse['Laevens1'] = \"Crater\"\n",
    "name_parse[\"NGC4590\"] = \"M68\"\n",
    "name_parse[\"NGC5024\"] = \"M53\"\n",
    "name_parse[\"NGC5139\"] = \"oCen\"\n",
    "name_parse[\"NGC5272\"] = \"M3\"\n",
    "name_parse[\"NGC5904\"] = \"M5\"\n",
    "name_parse[\"Arp1\"] = \"Pal14\"\n",
    "name_parse[\"NGC6838\"] = \"M71\"\n",
    "\n",
    "name_parse[\"NGC7078\"] = \"M15\"\n",
    "name_parse[\"NGC6341\"] = \"M92\"\n",
    "\n",
    "name_parse[\"RLGC1\"] = \"Ryu059\"\n",
    "name_parse[\"RLGC2\"] = \"Ryu879\"\n",
    "\n",
    "name_parse[\"Ryu05\"] = \"Ryu059\"\n",
    "name_parse[\"Ryu87\"] = \"Ryu879\"\n",
    "name_parse[\"ESO280\"] = \"ESO-SC06\"\n",
    "\n",
    "# M71\n",
    "# M15, M92\n",
    "# RLGC1, RLGC2\n",
    "# ESO280"
   ]
  },
  {
   "cell_type": "markdown",
   "id": "c4a7cd9d-8d54-48c4-89b4-6131573feeea",
   "metadata": {},
   "source": [
    "## Funcs to Add data"
   ]
  },
  {
   "cell_type": "code",
   "execution_count": 4,
   "id": "3ec7085c-02fa-4ee6-98c0-dd4ae59163e5",
   "metadata": {
    "tags": []
   },
   "outputs": [],
   "source": [
    "paper_age = {}\n",
    "data = {}\n",
    "\n",
    "\n",
    "def data_add_function(data, new_data, data_name, check_GCs = [\"ESO280\"]):\n",
    "    names = np.array(list(new_data.keys()), dtype=\"<U50\")\n",
    "    names = process_names(names)\n",
    "    known_names = np.array(list(data.keys()), dtype=\"<U50\")\n",
    "    new_filt = np.isin(names,known_names,invert=True)\n",
    "    if new_filt.sum()>0:\n",
    "        N_new = new_filt.sum()\n",
    "        print(\"Number New GCs:\",N_new)\n",
    "        print(\"New GCs:\")\n",
    "        print(names[new_filt])\n",
    "        \n",
    "    for name in names:\n",
    "        gc_data = data.get(name, {})\n",
    "        keys = list(new_data[name].keys())\n",
    "        for k in keys:\n",
    "            prop_data = gc_data.get(k, {})\n",
    "            x = new_data[name][k]\n",
    "            if x not in ['', '-']:\n",
    "                prop_data[data_name] = x\n",
    "            gc_data[k] = prop_data\n",
    "        data[name] = gc_data\n",
    "    gcs = np.array(list(data.keys()))\n",
    "    Ngcs = len(gcs)\n",
    "    print(f\"Number of total GCs: {Ngcs}\")\n",
    "    check_filt = np.isin(gcs, check_GCs)\n",
    "    if check_filt.sum() > 0:\n",
    "        print(\"Check GCs present!\")\n",
    "        print(gcs[check_filt])\n",
    "\n",
    "    return data\n",
    "\n",
    "def process_names(names):\n",
    "    known_names = list(name_parse.keys())\n",
    "    new_names = np.empty_like(names)\n",
    "    for i, n in enumerate(names):\n",
    "        n = alt_name_parse.get(n, n)\n",
    "        if n not in known_names:\n",
    "            print(f\"New GC: {n}\")\n",
    "            name_parse[n] = n\n",
    "            print(name_parse[n])\n",
    "        if n == '':\n",
    "            print(\"Blank name error!\")\n",
    "        new_names[i] = name_parse[n]\n",
    "    return new_names\n",
    "\n",
    "def data_array_to_gc_dic(data_array, original_columns):\n",
    "    columns = parse_columns(original_columns)\n",
    "    name_column = (columns == 'name')\n",
    "    known_names = list(name_parse.keys())\n",
    "    Nrow = np.shape(data_array)[0]\n",
    "    Nname_col = name_column.sum()\n",
    "    '''Process Names'''\n",
    "    if Nname_col == 0:\n",
    "        print('Error, No names found')\n",
    "    elif Nname_col == 1:\n",
    "        names = data_array[:, name_column].reshape(-1)\n",
    "        names = process_names(names)\n",
    "    elif Nname_col > 1:\n",
    "        alt_names = data_array[:, name_column].reshape(-1, Nname_col)\n",
    "        names = np.empty((Nrow), dtype='<U50')\n",
    "        for i in range(Nrow):\n",
    "            gc_names = alt_names[i, :]\n",
    "            in_filt = np.isin(gc_names, known_names) * (gc_names != '')\n",
    "            if in_filt.sum() > 0:\n",
    "                n = gc_names[in_filt][0]\n",
    "                names[i] = name_parse[alt_name_parse.get(n, n)]\n",
    "                for n in gc_names:\n",
    "                    name_parse[n] = names[i]\n",
    "            else:\n",
    "                # print(f\"New GC: {gc_names}\")\n",
    "                gc_nam = gc_names[gc_names != ''][0]\n",
    "                gc_nam = alt_name_parse.get(gc_nam, gc_nam)\n",
    "                for n in gc_names:\n",
    "                    name_parse[n] = gc_nam\n",
    "                names[i] = gc_nam\n",
    "            if names[i] == '':\n",
    "                print(\"Blank Error!\")\n",
    "                print(names[i])\n",
    "\n",
    "    '''Process Data'''\n",
    "    not_name = np.logical_not(name_column)\n",
    "    props = columns[not_name]\n",
    "    props_data = data_array[:, not_name]  # .astype(float)\n",
    "    props_data[props_data == '-'] = 'NAN'\n",
    "    props_data[props_data == ''] = 'NAN'\n",
    "    props_data = props_data.astype(float)\n",
    "    gc_dic = {}\n",
    "    for ind_name, name in enumerate(names):\n",
    "        gc_dic[name] = {}\n",
    "        for (ind_p, p) in enumerate(props):\n",
    "            x = props_data[ind_name, ind_p]\n",
    "            if x != np.nan:\n",
    "                if np.isfinite(x):\n",
    "                    gc_dic[name][p] = x\n",
    "        # gc_dic[name] = {p: props_data[ind_name, ind_p]\n",
    "        #                 for (ind_p, p) in enumerate(props)}\n",
    "    return gc_dic\n",
    "\n",
    "\n",
    "def data_dic_to_gc_dic(data_dic):\n",
    "    original_columns = list(data_dic.keys())\n",
    "    Ncols = len(original_columns)\n",
    "    Nrows = len(data_dic[original_columns[0]])\n",
    "    data_array = np.empty((Nrows, Ncols), dtype=\"<U50\")\n",
    "    for n, col in enumerate(original_columns):\n",
    "        data_array[:, n] = np.array(data_dic[col])\n",
    "    return data_array_to_gc_dic(data_array, original_columns)"
   ]
  },
  {
   "cell_type": "code",
   "execution_count": 5,
   "id": "75de3dbb-a46d-4bc5-9bda-def0931f5f13",
   "metadata": {
    "tags": []
   },
   "outputs": [],
   "source": [
    "def create_col_parse_dic():\n",
    "    labels = {}\n",
    "    labels[\"name\"] = [\"Name\", \"Names\", \"name\", \"names\", \"cluster\", \"NGC\", \"ngc\", \"name2\", \"Name2\"]\n",
    "    labels[\"Fe_H\"] = [\"Fe_H\", \"Met\", \"Metallicity\"]\n",
    "    labels[\"Fe_H_err\"] = [\"Fe_H_err\", \"Met_err\", \"Metallicity_err\",\n",
    "                          \"Fe_H_Err\", \"Met_Err\", \"Metallicity_Err\"]\n",
    "    labels[\"Age\"] = [\"Age\"]\n",
    "    labels[\"Age_err\"] = [\"Age_err\", \"Age_Err\"]\n",
    "    labels[\"Alpha_Fe\"] = [\"Alpha_Fe\", \"Alpha\"]\n",
    "\n",
    "    labels[\"Mv\"] = [\"Mv\", \"Mvt\"]\n",
    "    labels[\"m_Mv\"] = [\"m_Mv\"]\n",
    "    labels[\"m_Mv_Err\"] = [\"m_Mv_Err\"]\n",
    "    labels[\"Mass\"] = [\"Mass\"]\n",
    "\n",
    "    labels[\"dist\"] = [\"dsun\", \"dist\"]\n",
    "    parse_dic = {}\n",
    "    for l in list(labels.keys()):\n",
    "        for n in labels[l]:\n",
    "            parse_dic[n] = l\n",
    "    return parse_dic\n",
    "\n",
    "\n",
    "col_parse_dic = create_col_parse_dic()\n",
    "\n",
    "\n",
    "def parse_columns(original_columns):\n",
    "    known_labels = np.array(list(col_parse_dic.keys()))\n",
    "    unknown = np.isin(original_columns, known_labels, invert=True)\n",
    "    if unknown.sum() > 0:\n",
    "        print(\"Unknown labels:\")\n",
    "        print(np.array(original_columns)[unknown])\n",
    "    parse_columns = np.array([col_parse_dic.get(c, c) for c in original_columns])\n",
    "    return parse_columns"
   ]
  },
  {
   "cell_type": "markdown",
   "id": "2b976207-516c-4ce8-9262-d907fda24129",
   "metadata": {},
   "source": [
    "# Larger Data Files\n",
    "Read in csv/txt files\n",
    "## Dynamics"
   ]
  },
  {
   "cell_type": "markdown",
   "id": "df79f6ef-8a2d-484f-977e-a568c8f0ae4e",
   "metadata": {},
   "source": [
    "### Vasiliev"
   ]
  },
  {
   "cell_type": "code",
   "execution_count": 6,
   "id": "induced-small",
   "metadata": {
    "scrolled": true,
    "tags": []
   },
   "outputs": [
    {
     "name": "stdout",
     "output_type": "stream",
     "text": [
      "NGC104 47Tuc\n",
      "NGC288 -\n",
      "NGC362 -\n",
      "Whiting1 -\n",
      "NGC1261 -\n",
      "Pal1 -\n",
      "AM1 -\n",
      "Eridanus -\n",
      "Pal2 -\n",
      "NGC1851 -\n",
      "NGC1904 M79\n",
      "NGC2298 -\n",
      "NGC2419 -\n",
      "Ko2 -\n",
      "Pyxis -\n",
      "NGC2808 -\n",
      "E3 -\n",
      "Pal3 -\n",
      "NGC3201 -\n",
      "ESO93 -\n",
      "Pal4 -\n",
      "Crater -\n",
      "Bliss1 -\n",
      "Ko1 -\n",
      "NGC4147 -\n",
      "NGC4372 -\n",
      "Rup106 -\n",
      "NGC4590 M68\n",
      "BH140 -\n",
      "NGC4833 -\n",
      "NGC5024 M53\n",
      "NGC5053 -\n",
      "Kim3 -\n",
      "NGC5139 oCen\n",
      "NGC5272 M3\n",
      "NGC5286 -\n",
      "AM4 -\n",
      "NGC5466 -\n",
      "NGC5634 -\n",
      "NGC5694 -\n",
      "IC4499 -\n",
      "Munoz1 -\n",
      "NGC5824 -\n",
      "Pal5 -\n",
      "NGC5897 -\n",
      "NGC5904 M5\n",
      "NGC5927 -\n",
      "NGC5946 -\n",
      "BH176 -\n",
      "NGC5986 -\n",
      "FSR1716 -\n",
      "Pal14 -\n",
      "Lynga7 BH184\n",
      "NGC6093 M80\n",
      "Ryu059 RLGC1\n",
      "NGC6121 M4\n",
      "NGC6101 -\n",
      "NGC6144 -\n",
      "NGC6139 -\n",
      "Terzan3 -\n",
      "NGC6171 M107\n",
      "1636-283 ESO452\n",
      "NGC6205 M13\n",
      "NGC6229 -\n",
      "NGC6218 M12\n",
      "FSR1735 -\n",
      "NGC6235 -\n",
      "NGC6254 M10\n",
      "NGC6256 -\n",
      "Pal15 -\n",
      "NGC6266 M62\n",
      "NGC6273 M19\n",
      "NGC6284 -\n",
      "NGC6287 -\n",
      "NGC6293 -\n",
      "NGC6304 -\n",
      "NGC6316 -\n",
      "NGC6341 M92\n",
      "NGC6325 -\n",
      "NGC6333 M9\n",
      "NGC6342 -\n",
      "NGC6356 -\n",
      "NGC6355 -\n",
      "NGC6352 -\n",
      "IC1257 -\n",
      "Terzan2 HP3\n",
      "NGC6366 -\n",
      "Terzan4 HP4\n",
      "HP1 BH229\n",
      "FSR1758 -\n",
      "NGC6362 -\n",
      "Liller1 -\n",
      "NGC6380 Ton1\n",
      "Terzan1 HP2\n",
      "Ton2 Pismis26\n",
      "NGC6388 -\n",
      "NGC6402 M14\n",
      "NGC6401 -\n",
      "NGC6397 -\n",
      "VVVCL002 -\n",
      "Pal6 -\n",
      "NGC6426 -\n",
      "Djorg1 -\n",
      "Terzan5 11\n",
      "NGC6440 -\n",
      "NGC6441 -\n",
      "Terzan6 HP5\n",
      "NGC6453 -\n",
      "UKS1 -\n",
      "VVVCL001 -\n",
      "Gran1 -\n",
      "Pfleiderer2 -\n",
      "NGC6496 -\n",
      "Terzan9 -\n",
      "Djorg2 ESO456\n",
      "NGC6517 -\n",
      "Terzan10 -\n",
      "NGC6522 -\n",
      "NGC6535 -\n",
      "NGC6528 -\n",
      "NGC6539 -\n",
      "NGC6540 Djorg3\n",
      "NGC6544 -\n",
      "NGC6541 -\n",
      "ESO-SC06 ESO280\n",
      "NGC6553 -\n",
      "NGC6558 -\n",
      "IC1276 Pal7\n",
      "Terzan12 -\n",
      "NGC6569 -\n",
      "BH261 AL3\n",
      "NGC6584 -\n",
      "Mercer5 -\n",
      "NGC6624 -\n",
      "NGC6626 M28\n",
      "NGC6638 -\n",
      "NGC6637 M69\n",
      "NGC6642 -\n",
      "NGC6652 -\n",
      "NGC6656 M22\n",
      "Pal8 -\n",
      "NGC6681 M70\n",
      "Ryu879 RLGC2\n",
      "NGC6712 -\n",
      "NGC6715 M54\n",
      "NGC6717 Pal9\n",
      "NGC6723 -\n",
      "NGC6749 -\n",
      "NGC6752 -\n",
      "NGC6760 -\n",
      "NGC6779 M56\n",
      "Terzan7 -\n",
      "Pal10 -\n",
      "Arp2 -\n",
      "NGC6809 M55\n",
      "Terzan8 -\n",
      "Pal11 -\n",
      "NGC6838 M71\n",
      "NGC6864 M75\n",
      "NGC6934 -\n",
      "NGC6981 M72\n",
      "NGC7006 -\n",
      "Laevens3 -\n",
      "Segue3 -\n",
      "NGC7078 M15\n",
      "NGC7089 M2\n",
      "NGC7099 M30\n",
      "Pal12 -\n",
      "Pal13 -\n",
      "NGC7492 -\n",
      "Unknown labels:\n",
      "['ra_deg' 'dec_deg' 'dist_err' 'vlos' 'vlos_err' 'pmra' 'pmdec' 'pmra_err'\n",
      " 'pmdec_err' 'pmcorr']\n",
      "Number New GCs: 170\n",
      "New GCs:\n",
      "['47Tuc' 'NGC288' 'NGC362' 'Whiting1' 'NGC1261' 'Pal1' 'AM1' 'Eridanus'\n",
      " 'Pal2' 'NGC1851' 'M79' 'NGC2298' 'NGC2419' 'Ko2' 'Pyxis' 'NGC2808' 'E3'\n",
      " 'Pal3' 'NGC3201' 'ESO93' 'Pal4' 'Crater' 'Bliss1' 'Ko1' 'NGC4147'\n",
      " 'NGC4372' 'Rup106' 'M68' 'BH140' 'NGC4833' 'M53' 'NGC5053' 'Kim3' 'oCen'\n",
      " 'M3' 'NGC5286' 'AM4' 'NGC5466' 'NGC5634' 'NGC5694' 'IC4499' 'Munoz1'\n",
      " 'NGC5824' 'Pal5' 'NGC5897' 'M5' 'NGC5927' 'NGC5946' 'BH176' 'NGC5986'\n",
      " 'FSR1716' 'Pal14' 'Lynga7' 'NGC6093' 'Ryu059' 'NGC6121' 'NGC6101'\n",
      " 'NGC6144' 'NGC6139' 'Terzan3' 'NGC6171' 'ESO452' 'NGC6205' 'NGC6229'\n",
      " 'NGC6218' 'FSR1735' 'NGC6235' 'NGC6254' 'NGC6256' 'Pal15' 'NGC6266'\n",
      " 'NGC6273' 'NGC6284' 'NGC6287' 'NGC6293' 'NGC6304' 'NGC6316' 'M92'\n",
      " 'NGC6325' 'NGC6333' 'NGC6342' 'NGC6356' 'NGC6355' 'NGC6352' 'IC1257'\n",
      " 'Terzan2' 'NGC6366' 'Terzan4' 'HP1' 'FSR1758' 'NGC6362' 'Liller1'\n",
      " 'NGC6380' 'Terzan1' 'Ton2' 'NGC6388' 'NGC6402' 'NGC6401' 'NGC6397'\n",
      " 'VVVCL002' 'Pal6' 'NGC6426' 'Djorg1' 'Terzan5' 'NGC6440' 'NGC6441'\n",
      " 'Terzan6' 'NGC6453' 'UKS1' 'VVVCL001' 'Gran1' 'Pfleiderer2' 'NGC6496'\n",
      " 'Terzan9' 'Djorg2' 'NGC6517' 'Terzan10' 'NGC6522' 'NGC6535' 'NGC6528'\n",
      " 'NGC6539' 'NGC6540' 'NGC6544' 'NGC6541' 'ESO-SC06' 'NGC6553' 'NGC6558'\n",
      " 'IC1276' 'Terzan12' 'NGC6569' 'BH261' 'NGC6584' 'Mercer5' 'NGC6624'\n",
      " 'NGC6626' 'NGC6638' 'NGC6637' 'NGC6642' 'NGC6652' 'NGC6656' 'Pal8'\n",
      " 'NGC6681' 'Ryu879' 'NGC6712' 'NGC6715' 'NGC6717' 'NGC6723' 'NGC6749'\n",
      " 'NGC6752' 'NGC6760' 'NGC6779' 'Terzan7' 'Pal10' 'Arp2' 'NGC6809'\n",
      " 'Terzan8' 'Pal11' 'M71' 'NGC6864' 'NGC6934' 'NGC6981' 'NGC7006'\n",
      " 'Laevens3' 'Segue3' 'M15' 'NGC7089' 'NGC7099' 'Pal12' 'Pal13' 'NGC7492']\n",
      "Number of total GCs: 170\n"
     ]
    }
   ],
   "source": [
    "def load_Vasilev21_Data_Dic():\n",
    "    # Eugene Vasilev read script\n",
    "    tab = np.loadtxt('GC_Sky_Vasilev2021.txt', dtype=str)\n",
    "    sky_data = {}\n",
    "    sky_data['name'] = tab[:, 0]   # 0th column is the cluster name (string)\n",
    "    sky_data['name2'] = tab[:, 1]   # 0th column is the cluster name (string)\n",
    "    tab = tab[:, 2:].astype(float)  # remaining columns are numbers\n",
    "    sky_data['ra_deg'] = tab[:, 0]   # coordinates of cluster centers [deg]\n",
    "    sky_data['dec_deg'] = tab[:, 1]\n",
    "    sky_data['dist'] = tab[:, 2]   # distance [kpc]\n",
    "    diste = tab[:, 3]   # distance error [kpc]\n",
    "    diste[~np.isfinite(diste)] = sky_data['dist'][~np.isfinite(diste)] * 0.05\n",
    "    sky_data['dist_err'] = diste   # distance error [kpc]\n",
    "    sky_data['vlos'] = tab[:, 4]   # line-of-sight velocity [km/s]\n",
    "    vlose = tab[:, 5]   # its error estimate\n",
    "    # assumed error of at least 2 km/s on line-of-sight velocity\n",
    "    sky_data['vlos_err'] = np.maximum(vlose, 2.0)\n",
    "    sky_data['pmra'] = tab[:, 8]   # mean proper motion [mas/yr]\n",
    "    sky_data['pmdec'] = tab[:, 9]\n",
    "    sky_data['pmra_err'] = tab[:, 10]   # its uncertainty\n",
    "    sky_data['pmdec_err'] = tab[:, 11]\n",
    "    # correlation coefficient for errors in two PM components\n",
    "    sky_data['pmcorr'] = tab[:, 12]\n",
    "    # assumed error of 0.1 mag in distance modulus when not known\n",
    "    for (n1,n2) in zip(sky_data[\"name\"], sky_data[\"name2\"]):\n",
    "        print(n1,n2)\n",
    "    return sky_data\n",
    "\n",
    "\n",
    "Vasilev21_data_dic = load_Vasilev21_Data_Dic()\n",
    "Vasilev21_dic = data_dic_to_gc_dic(Vasilev21_data_dic)\n",
    "data = data_add_function(data, Vasilev21_dic, data_name='Vasilev21')\n",
    "paper_age[\"Vasilev21\"] = 2021"
   ]
  },
  {
   "cell_type": "markdown",
   "id": "c4446db4-e862-4281-a85f-479c87cf74aa",
   "metadata": {},
   "source": [
    "### Baumb Distances"
   ]
  },
  {
   "cell_type": "code",
   "execution_count": 7,
   "id": "a35c03f6-9485-48a0-9e71-004439e9bc36",
   "metadata": {},
   "outputs": [
    {
     "name": "stdout",
     "output_type": "stream",
     "text": [
      "Unknown labels:\n",
      "['ra_deg' 'dec_deg' 'l_deg' 'b_deg' 'dist_err' 'R_GC' 'vlos' 'vlos_err'\n",
      " 'pmra' 'pmra_err' 'pmdec' 'pmdec_err' 'pmcorr']\n",
      "New GC: GLIMPSE01\n",
      "GLIMPSE01\n",
      "New GC: GLIMPSE02\n",
      "GLIMPSE02\n",
      "New GC: SagittariusII\n",
      "SagittariusII\n",
      "Number New GCs: 3\n",
      "New GCs:\n",
      "['GLIMPSE01' 'GLIMPSE02' 'SagittariusII']\n",
      "Number of total GCs: 173\n"
     ]
    }
   ],
   "source": [
    "def Baumgardt_GC_obs_load_sky():\n",
    "    tab = np.loadtxt(\"Baumgardt21_sky.txt\", dtype=str, skiprows=2)\n",
    "    sky_data = {}\n",
    "    Name = tab[:, 0].astype('<U20')   # 0th column is the cluster name (string)\n",
    "    Name = np.char.replace(Name, ' ', '')\n",
    "    Name = np.char.replace(Name, '_', '')\n",
    "    Name = np.char.replace(Name, '-', '')\n",
    "    Name = np.char.replace(Name, 'Ter', 'Terzan')\n",
    "    Name = np.char.replace(Name, 'Lae', 'Laevens')\n",
    "    Name = np.char.replace(Name, 'Djor', 'Djorg')\n",
    "    Name = np.char.replace(Name, 'Lil', 'Liller')\n",
    "    sky_data['name'] = Name\n",
    "    tab = tab[:, 1:].astype(float)  # remaining columns are numbers\n",
    "    sky_data['ra_deg'] = tab[:, 0]   # coordinates of cluster centers [deg]\n",
    "    sky_data['dec_deg'] = tab[:, 1]\n",
    "    sky_data['l_deg'] = tab[:, 2]   # coordinates of cluster centers [deg]\n",
    "    sky_data['b_deg'] = tab[:, 3]   # coordinates of cluster centers [deg]\n",
    "    sky_data['dist'] = tab[:, 4]   # distance [kpc]\n",
    "    diste = tab[:, 5]   # distance error [kpc]\n",
    "    diste[~np.isfinite(diste)] = sky_data['dist'][~np.isfinite(diste)] * 0.05\n",
    "    sky_data['dist_err'] = diste   # distance error [kpc]\n",
    "    sky_data['R_GC'] = tab[:, 6]   # distance error [kpc]\n",
    "    sky_data['vlos'] = tab[:, 7]   # line-of-sight velocity [km/s]\n",
    "    vlose = tab[:, 8]   # its error estimate\n",
    "    # np.maximum(vlose, 2.0)  # assumed error of at least 2 km/s on line-of-sight velocity\n",
    "    sky_data['vlos_err'] = vlose\n",
    "    sky_data['pmra'] = tab[:, 9]   # mean proper motion [mas/yr]\n",
    "    sky_data['pmra_err'] = tab[:, 10]   # its uncertainty\n",
    "    sky_data['pmdec'] = tab[:, 11]\n",
    "    sky_data['pmdec_err'] = tab[:, 12]\n",
    "    # correlation coefficient for errors in two PM components\n",
    "    sky_data['pmcorr'] = tab[:, 13]\n",
    "    # assumed error of 0.1 mag in distance modulus when not known\n",
    "    return sky_data\n",
    "\n",
    "\n",
    "Baumgardt21_data_dic = Baumgardt_GC_obs_load_sky()\n",
    "Baumgardt21_dic = data_dic_to_gc_dic(Baumgardt21_data_dic)\n",
    "data = data_add_function(data, Baumgardt21_dic, data_name='Baumgardt21')\n",
    "paper_age[\"Baumgardt21\"] = 2021.5\n"
   ]
  },
  {
   "cell_type": "markdown",
   "id": "e0ab5cb3-baf6-4178-84aa-5f9d1b1bb163",
   "metadata": {},
   "source": [
    "## AMR + Mass/Magnitude"
   ]
  },
  {
   "cell_type": "markdown",
   "id": "48fe49a7-8af1-469d-8d9f-66d94e35708f",
   "metadata": {},
   "source": [
    "### Baumgardt Cluster Mass\n",
    "https://ui.adsabs.harvard.edu/abs/2018MNRAS.478.1520B/abstract  \n",
    "https://people.smp.uq.edu.au/HolgerBaumgardt/globular/parameter.html"
   ]
  },
  {
   "cell_type": "code",
   "execution_count": 8,
   "id": "230e2959-35d1-444e-82ef-a8157ab8c1bf",
   "metadata": {
    "scrolled": true,
    "tags": []
   },
   "outputs": [
    {
     "name": "stdout",
     "output_type": "stream",
     "text": [
      "(161, 2)\n",
      "New GC: 2MASS\n",
      "2MASS\n",
      "New GC: 2MASS\n",
      "2MASS\n",
      "Number New GCs: 1\n",
      "New GCs:\n",
      "['2MASS']\n",
      "Number of total GCs: 174\n"
     ]
    }
   ],
   "source": [
    "Baumgardt_GC_array = np.loadtxt(\"Baumgardt_GC_Mass.csv\",\n",
    "                                skiprows=1, dtype=str, delimiter=',')\n",
    "Baumgardt_GC_Columns = [\"Name\", \"Mass\"]\n",
    "print(np.shape(Baumgardt_GC_array))\n",
    "Baumgardt_GC_dic = data_array_to_gc_dic(Baumgardt_GC_array, Baumgardt_GC_Columns)\n",
    "data = data_add_function(data, Baumgardt_GC_dic, data_name='Baumgardt_Mass18')\n",
    "paper_age[\"Baumgardt_Mass18\"] = 2018"
   ]
  },
  {
   "cell_type": "code",
   "execution_count": null,
   "id": "89dd8083-1f4b-4898-9b37-f52dfcad8e49",
   "metadata": {},
   "outputs": [],
   "source": []
  },
  {
   "cell_type": "markdown",
   "id": "447bd2b1-fec4-45bd-8bdf-32ac97c65c2c",
   "metadata": {
    "tags": []
   },
   "source": [
    "### Kruijssen19 Sample\n",
    "Data used in Kruijssen19. 3 Sources, Kuijssen takes average of available. Use all from sources, as some missing data added by other sources."
   ]
  },
  {
   "cell_type": "code",
   "execution_count": 9,
   "id": "a4e4061a-aed3-4e1b-9e27-090106b2e315",
   "metadata": {},
   "outputs": [
    {
     "name": "stdout",
     "output_type": "stream",
     "text": [
      "Number of total GCs: 174\n"
     ]
    }
   ],
   "source": [
    "Kruijssen19_array = np.loadtxt(\"Kruijssen19.csv\", skiprows=1, dtype=str, delimiter=',')\n",
    "# Name, Met, Alpha, Age, Age Err\n",
    "Kruijssen19_Columns = ['Name', 'Mv', 'Mass', 'Age', 'Age_Err', 'Fe_H']\n",
    "Kruijssen19_array[:, 2] = (10 ** np.array(Kruijssen19_array[:, 2].astype(float))).astype(str)\n",
    "Kruijssen19_dic = data_array_to_gc_dic(Kruijssen19_array, Kruijssen19_Columns)\n",
    "data = data_add_function(data, Kruijssen19_dic, data_name='Kruijssen19')\n",
    "paper_age[\"Kruijssen19\"] = 2013"
   ]
  },
  {
   "cell_type": "markdown",
   "id": "94eb98f1-faef-4230-af85-1964f4c6702d",
   "metadata": {},
   "source": [
    "#### Dotter\n",
    "Dotter 11 added onto the back  \n",
    "https://ui.adsabs.harvard.edu/abs/2010ApJ...708..698D/abstract  \n",
    "https://ui.adsabs.harvard.edu/abs/2011ApJ...738...74D/abstract  "
   ]
  },
  {
   "cell_type": "code",
   "execution_count": 10,
   "id": "8fb4356d-1b30-4515-8092-39186e23a8bf",
   "metadata": {},
   "outputs": [
    {
     "name": "stdout",
     "output_type": "stream",
     "text": [
      "(62, 5)\n",
      "New GC: Ruprecht106\n",
      "Ruprecht106\n",
      "Number New GCs: 1\n",
      "New GCs:\n",
      "['Ruprecht106']\n",
      "Number of total GCs: 175\n"
     ]
    }
   ],
   "source": [
    "Dotter10_array = np.loadtxt(\"Dotter10.csv\", skiprows=1, dtype=str, delimiter=',')\n",
    "# Name, Met, Alpha, Age, Age Err\n",
    "Dotter10_Columns = ['Name', 'Fe_H', 'Alpha_Fe', 'Age', 'Age_Err']\n",
    "print(np.shape(Dotter10_array))\n",
    "Dotter10_dic = data_array_to_gc_dic(Dotter10_array, Dotter10_Columns)\n",
    "data = data_add_function(data, Dotter10_dic, data_name='Dotter10')\n",
    "paper_age['Dotter10'] = 2010"
   ]
  },
  {
   "cell_type": "markdown",
   "id": "b6615365-4925-495e-a257-520a2a22ea75",
   "metadata": {},
   "source": [
    "#### Forbes+Bridges10\n",
    "https://ui.adsabs.harvard.edu/abs/2010MNRAS.404.1203F/abstract  \n",
    "Note No Age errors?"
   ]
  },
  {
   "cell_type": "code",
   "execution_count": 11,
   "id": "e23af079-2ebb-46ce-8258-3517d91bd98c",
   "metadata": {
    "scrolled": true,
    "tags": []
   },
   "outputs": [
    {
     "name": "stdout",
     "output_type": "stream",
     "text": [
      "(88, 3)\n",
      "New GC: Berk29\n",
      "Berk29\n",
      "New GC: Saurer1\n",
      "Saurer1\n",
      "Number New GCs: 2\n",
      "New GCs:\n",
      "['Berk29' 'Saurer1']\n",
      "Number of total GCs: 177\n"
     ]
    }
   ],
   "source": [
    "Forbes10_array = np.loadtxt(\"Forbes10.csv\", skiprows=1, dtype=str, delimiter=',')\n",
    "Forbes10_Columns = ['Name', 'Age', 'Met']\n",
    "# No Age error?\n",
    "print(np.shape(Forbes10_array))\n",
    "Forbes10_dic = data_array_to_gc_dic(Forbes10_array, Forbes10_Columns)\n",
    "data = data_add_function(data, Forbes10_dic, data_name='Forbes10')\n",
    "paper_age[\"Forbes10\"] = 2010"
   ]
  },
  {
   "cell_type": "markdown",
   "id": "c46de527-aa7c-4d7d-b4bf-ffedb16de2f4",
   "metadata": {},
   "source": [
    "#### VandenBerg13\n",
    "https://ui.adsabs.harvard.edu/abs/2013ApJ...775..134V/abstract  \n",
    "Following Kruijssen, +1Gyr Uncertainty"
   ]
  },
  {
   "cell_type": "code",
   "execution_count": 12,
   "id": "88870695-16ff-406b-81cb-e6275575a82d",
   "metadata": {
    "scrolled": true,
    "tags": []
   },
   "outputs": [
    {
     "name": "stdout",
     "output_type": "stream",
     "text": [
      "(55, 6)\n",
      "Adding 1GYR to errors\n",
      "Number of total GCs: 177\n"
     ]
    }
   ],
   "source": [
    "VandenBerg13_array = np.loadtxt(\"VandenBerg13.csv\", skiprows=1, dtype=str, delimiter=',')\n",
    "#NGC, Name, Met, Age, Age_Err, Mv\n",
    "VandenBerg13_Columns = ['NGC', 'Name', 'Met', 'Age', 'Age_Err', 'Mv']\n",
    "print(np.shape(VandenBerg13_array))\n",
    "print(\"Adding 1GYR to errors\")\n",
    "VandenBerg13_array[:, 4] = (VandenBerg13_array[:, 4].astype(float) + 1).astype(str)\n",
    "VandenBerg13_dic = data_array_to_gc_dic(VandenBerg13_array, VandenBerg13_Columns)\n",
    "data = data_add_function(data, VandenBerg13_dic, data_name='VandenBerg13')\n",
    "paper_age[\"VandenBerg13\"] = 2013"
   ]
  },
  {
   "cell_type": "markdown",
   "id": "1f00e975-da2e-4fac-8a06-2de2a7f58593",
   "metadata": {},
   "source": [
    "### Harris10\n",
    "https://physics.mcmaster.ca/~harris/mwgc.dat"
   ]
  },
  {
   "cell_type": "code",
   "execution_count": 13,
   "id": "6fcb7cdb-a5e1-4d93-923f-fa61d982b0e5",
   "metadata": {
    "scrolled": true,
    "tags": []
   },
   "outputs": [
    {
     "name": "stdout",
     "output_type": "stream",
     "text": [
      "Number of total GCs: 177\n"
     ]
    }
   ],
   "source": [
    "Harris10_array = np.loadtxt(\"Harris10.csv\", skiprows=1, dtype=str, delimiter=',')\n",
    "#Name,Met, Mvt\n",
    "Harris10_Columns = ['Name', 'Met', 'Mvt']\n",
    "Harris10_dic = data_array_to_gc_dic(Harris10_array, Harris10_Columns)\n",
    "data = data_add_function(data, Harris10_dic, data_name='Harris10')\n",
    "\n",
    "paper_age[\"Harris10\"] = 2010"
   ]
  },
  {
   "cell_type": "markdown",
   "id": "c3c863cb-f97a-4045-8629-bcc1d7ceca1b",
   "metadata": {},
   "source": [
    "### Roediger13\n",
    "https://ui.adsabs.harvard.edu/abs/2014ApJS..210...10R/abstract"
   ]
  },
  {
   "cell_type": "code",
   "execution_count": 14,
   "id": "a75141ff-e6de-4ec9-b8ee-861a96374860",
   "metadata": {
    "scrolled": true,
    "tags": []
   },
   "outputs": [
    {
     "name": "stdout",
     "output_type": "stream",
     "text": [
      "(41, 5)\n",
      "Number of total GCs: 177\n"
     ]
    }
   ],
   "source": [
    "Roediger13_array = np.loadtxt(\"Roediger13.csv\", skiprows=1, dtype=str, delimiter=',')\n",
    "Roediger13_Columns = ['Name', 'Age', 'Age_Err', 'Fe_H', 'Fe_H_err']\n",
    "print(np.shape(Roediger13_array))\n",
    "Roediger13_dic = data_array_to_gc_dic(Roediger13_array, Roediger13_Columns)\n",
    "data = data_add_function(data, Roediger13_dic, data_name='Roediger13')\n",
    "paper_age[\"Roediger13\"] = 2013"
   ]
  },
  {
   "cell_type": "markdown",
   "id": "667cdd3d-3866-4d4d-9a5d-82dcbe68b480",
   "metadata": {},
   "source": [
    "### OMalley17\n",
    "https://ui.adsabs.harvard.edu/abs/2017ApJ...838..162O/abstract"
   ]
  },
  {
   "cell_type": "code",
   "execution_count": 15,
   "id": "cbe7e90a-8d0b-4109-af9f-107e3a4d27f8",
   "metadata": {
    "scrolled": true,
    "tags": []
   },
   "outputs": [
    {
     "name": "stdout",
     "output_type": "stream",
     "text": [
      "(22, 6)\n",
      "Number of total GCs: 177\n"
     ]
    }
   ],
   "source": [
    "OMalley17_array = np.loadtxt(\"OMalley17.csv\", skiprows=1, dtype=str, delimiter=',')\n",
    "#Name, m_Mv, Age, Age_Err, Fe_H\n",
    "OMalley17_Columns = [\"Name\", \"m_Mv\", \"m_Mv_Err\", \"Age\", \"Age_Err\", \"Fe_H\"]\n",
    "print(np.shape(OMalley17_array))\n",
    "OMalley17_dic = data_array_to_gc_dic(OMalley17_array, OMalley17_Columns)\n",
    "data = data_add_function(data, OMalley17_dic, data_name='OMalley17')\n",
    "\n",
    "paper_age[\"OMalley17\"] = 2017"
   ]
  },
  {
   "cell_type": "markdown",
   "id": "1aea29da-1fbf-4159-8de7-c753b4cef67d",
   "metadata": {
    "tags": []
   },
   "source": [
    "### Vasquez18\n",
    "https://ui.adsabs.harvard.edu/abs/2018A%26A...619A..13V/abstract  \n",
    "Use  the most recent Fe_H_D16 data?  \n",
    "Also contains radial velocities!"
   ]
  },
  {
   "cell_type": "code",
   "execution_count": 16,
   "id": "ddf6e2ae-a5ce-4701-9f0d-e8273e1826ee",
   "metadata": {
    "scrolled": true,
    "tags": []
   },
   "outputs": [
    {
     "name": "stdout",
     "output_type": "stream",
     "text": [
      "(48, 3)\n",
      "Number of total GCs: 177\n"
     ]
    }
   ],
   "source": [
    "Vasquez18_array = np.loadtxt(\"Vasquez18.csv\", skiprows=1, dtype=str, delimiter=',')\n",
    "# Name, Fe_H D16, Fe_H_err, Fe_H_S12, Fe_H_err, Fe_H_V15, Fe_H_err, Fe_H_C09\n",
    "Vasquez18_array = Vasquez18_array[:, :3]\n",
    "Vasquez18_Columns = [\"Name\", \"Fe_H\", \"Fe_H_err\"]\n",
    "print(np.shape(Vasquez18_array))\n",
    "Vasquez18_dic = data_array_to_gc_dic(Vasquez18_array, Vasquez18_Columns)\n",
    "data = data_add_function(data, Vasquez18_dic, data_name='Vasquez18')\n",
    "\n",
    "paper_age[\"Vasquez18\"] = 2018"
   ]
  },
  {
   "cell_type": "markdown",
   "id": "7a274f23-e585-4d77-92f8-ddd04395fe07",
   "metadata": {
    "tags": []
   },
   "source": [
    "### Saviane12\n",
    "https://ui.adsabs.harvard.edu/abs/2012A%26A...540A..27S/abstract\n",
    "\n",
    "Use Fe_H_C09 data?"
   ]
  },
  {
   "cell_type": "code",
   "execution_count": 17,
   "id": "550a9b4e-1300-443f-a0df-6b4052136843",
   "metadata": {
    "scrolled": true,
    "tags": []
   },
   "outputs": [
    {
     "name": "stdout",
     "output_type": "stream",
     "text": [
      "(71, 4)\n",
      "Number of total GCs: 177\n"
     ]
    }
   ],
   "source": [
    "Saviane12_array = np.loadtxt(\"Saviane12.csv\", skiprows=1, dtype=str, delimiter=',')\n",
    "#Name, Name2, W, sigmaW, Fe_H_C09, err, Fe_H_H10, H10wt, Fe_H_C09_AP1, e\n",
    "Saviane12_array = Saviane12_array[:, [0, 1, 4, 5]]\n",
    "print(np.shape(Saviane12_array))\n",
    "Saviane12_Columns = [\"Name\", \"Name2\", \"Fe_H\", \"Fe_H_err\"]\n",
    "Saviane12_dic = data_array_to_gc_dic(Saviane12_array, Saviane12_Columns)\n",
    "data = data_add_function(data, Saviane12_dic, data_name='Saviane12')\n",
    "\n",
    "paper_age[\"Saviane12\"] = 2012"
   ]
  },
  {
   "cell_type": "markdown",
   "id": "bdbc9578-e326-45e6-8833-ddc60a1a150c",
   "metadata": {},
   "source": [
    "### Oliveria20\n",
    "https://ui.adsabs.harvard.edu/abs/2020ApJ...891...37O/abstract  \n",
    "HST\n"
   ]
  },
  {
   "cell_type": "code",
   "execution_count": 18,
   "id": "6640b5e0-be09-40b6-90e5-55eca86d7584",
   "metadata": {},
   "outputs": [
    {
     "name": "stdout",
     "output_type": "stream",
     "text": [
      "Unknown labels:\n",
      "['Age_Err_1os' 'Age_Err_1us' 'Fe_H_Err_1os' 'Fe_H_Err_1us']\n",
      "Number of total GCs: 177\n"
     ]
    }
   ],
   "source": [
    "Oliveria20_array = np.loadtxt(\"Oliveria20.csv\", skiprows=1, dtype=str, delimiter=',')\n",
    "Oliveria20_Columns = [\"Name\", \"Age\", \"Age_Err_1os\",\n",
    "                      \"Age_Err_1us\", \"Fe_H\", \"Fe_H_Err_1os\", \"Fe_H_Err_1us\"]\n",
    "Oliveria20_array[:, 2] = (10 ** np.array(Oliveria20_array[:, 2].astype(float))).astype(str)\n",
    "Oliveria20_dic = data_array_to_gc_dic(Oliveria20_array, Oliveria20_Columns)\n",
    "data = data_add_function(data, Oliveria20_dic, data_name='Oliveria20')\n",
    "paper_age[\"Oliveria20\"] = 2020"
   ]
  },
  {
   "cell_type": "markdown",
   "id": "ce0ac9d5-16ea-4aed-9381-bb7a2ca17bac",
   "metadata": {},
   "source": [
    "### CAPOS21\n",
    "https://ui.adsabs.harvard.edu/abs/2021A%26A...652A.157G/abstract\n"
   ]
  },
  {
   "cell_type": "code",
   "execution_count": 19,
   "id": "66c44556-a0ab-4ca5-9815-83eb144494d8",
   "metadata": {},
   "outputs": [
    {
     "name": "stdout",
     "output_type": "stream",
     "text": [
      "Unknown labels:\n",
      "['Alpha_H' 'Alpha_H_Err']\n",
      "Number of total GCs: 177\n"
     ]
    }
   ],
   "source": [
    "CAPOS21_array = np.loadtxt(\"CAPOS21.csv\", skiprows=1, dtype=str, delimiter=',')\n",
    "CAPOS21_Columns = [\"Name\", \"Fe_H\", \"Fe_H_Err\", \"Alpha_H\", \"Alpha_H_Err\"]\n",
    "CAPOS21_array[:, 2] = (10 ** np.array(CAPOS21_array[:, 2].astype(float))).astype(str)\n",
    "CAPOS21_dic = data_array_to_gc_dic(CAPOS21_array, CAPOS21_Columns)\n",
    "data = data_add_function(data, CAPOS21_dic, data_name='CAPOS21')\n",
    "paper_age[\"CAPOS21\"] = 2020"
   ]
  },
  {
   "cell_type": "markdown",
   "id": "3ed0cce2-d661-4ca5-a880-f48c6b2c006a",
   "metadata": {
    "tags": []
   },
   "source": [
    "### GRAN22\n",
    "Gran22: https://ui.adsabs.harvard.edu/abs/2022MNRAS.509.4962G/abstract  \n",
    "Errors?  \n",
    "Correct form of PMs?"
   ]
  },
  {
   "cell_type": "code",
   "execution_count": 20,
   "id": "4730bad5-2443-4713-ae18-d8ddf89b39d0",
   "metadata": {},
   "outputs": [
    {
     "name": "stdout",
     "output_type": "stream",
     "text": [
      "Unknown labels:\n",
      "['l_deg' 'b_deg' 'ra_deg' 'dec_deg' 'mua_cos' 'mud' 'mul_cosb' 'mub'\n",
      " 'Mass_Err' 'Dist' 'vlos' 'vlos_Err']\n",
      "New GC: Gran2\n",
      "Gran2\n",
      "New GC: Gran3\n",
      "Gran3\n",
      "New GC: Gran4\n",
      "Gran4\n",
      "New GC: Gran5\n",
      "Gran5\n",
      "Number New GCs: 4\n",
      "New GCs:\n",
      "['Gran2' 'Gran3' 'Gran4' 'Gran5']\n",
      "Number of total GCs: 181\n"
     ]
    }
   ],
   "source": [
    "\n",
    "Gran22_array = np.loadtxt(\"Gran22.csv\", skiprows=1, dtype=str, delimiter=',')\n",
    "Gran22_Columns = [\"Name\", \"l_deg\", \"b_deg\", \"ra_deg\", \"dec_deg\", \"mua_cos\", \"mud\",\n",
    "                  \"mul_cosb\", \"mub\", \"Fe_H\", \"Fe_H_Err\", \"Mass\", \"Mass_Err\", \"Dist\", \"Mv\", \"vlos\", \"vlos_Err\"]\n",
    "\n",
    "Gran22_array[:, 2] = (10 ** np.array(Gran22_array[:, 2].astype(float))).astype(str)\n",
    "Gran22_dic = data_array_to_gc_dic(Gran22_array, Gran22_Columns)\n",
    "data = data_add_function(data, Gran22_dic, data_name='Gran22')\n",
    "paper_age[\"Gran22\"] = 2020"
   ]
  },
  {
   "cell_type": "markdown",
   "id": "4c07c9c1-8f1a-4957-95ba-8eed89dc0993",
   "metadata": {},
   "source": [
    "### Valenti09\n",
    "Colour magnitude  \n",
    "Paper: https://ui.adsabs.harvard.edu/abs/2010MNRAS.402.1729V/abstract  \n",
    "Data: http://www.bo.astro.it/~GC/ir_archive/  \n",
    "Compilation of Previous Valenti data - should be updated reguarly?"
   ]
  },
  {
   "cell_type": "code",
   "execution_count": 21,
   "id": "d5b29512-1f7f-4e13-9f6c-22df79100f9e",
   "metadata": {},
   "outputs": [
    {
     "name": "stdout",
     "output_type": "stream",
     "text": [
      "Unknown labels:\n",
      "['l_deg' 'b_deg' 'RGC' 'X' 'Y' 'Z' 'E(B-V)' '(m-M)0' '[M/H]' 'JRC' 'HRC'\n",
      " 'KRC' 'JBump' 'HBump' 'KBump' 'JTip' 'HTip' 'KTip' 'MBolBump' 'MBolTip']\n",
      "New GC: Dorg1\n",
      "Dorg1\n",
      "New GC: Dorg2\n",
      "Dorg2\n",
      "Number New GCs: 2\n",
      "New GCs:\n",
      "['Dorg1' 'Dorg2']\n",
      "Number of total GCs: 183\n"
     ]
    }
   ],
   "source": [
    "Valenti09_array = np.loadtxt(\"Valenti09.csv\", skiprows=1, dtype=str, delimiter=',')\n",
    "Valenti09_Columns = [\"Name\", \"l_deg\", \"b_deg\", \"ra_deg\", \"dec_deg\", \"mua_cos\", \"mud\",\n",
    "                     \"mul_cosb\", \"mub\", \"Fe_H\", \"Fe_H_Err\", \"Mass\", \"Mass_Err\", \"Dist\",\n",
    "                     \"Mv\", \"vlos\", \"vlos_Err\"]\n",
    "\n",
    "\n",
    "Valenti09_Columns = [\"Name\", \"l_deg\", \"b_deg\", \"dsun\", \"RGC\", \"X\", \"Y\", \"Z\", \"E(B-V)\", \"(m-M)0\", \"Fe_H\",\n",
    "                     \"[M/H]\", \"JRC\", \"HRC\", \"KRC\", \"JBump\", \"HBump\", \"KBump\", \"JTip\", \"HTip\", \"KTip\",\n",
    "                     \"MBolBump\", \"MBolTip\"]\n",
    "\n",
    "\n",
    "Valenti09_array[:, 2] = (10 ** np.array(Valenti09_array[:, 2].astype(float))).astype(str)\n",
    "Valenti09_dic = data_array_to_gc_dic(Valenti09_array, Valenti09_Columns)\n",
    "data = data_add_function(data, Valenti09_dic, data_name='Valenti09')\n",
    "paper_age[\"Valenti09\"] = 2009"
   ]
  },
  {
   "cell_type": "markdown",
   "id": "44aab627-e11e-4642-9737-02576012987d",
   "metadata": {},
   "source": [
    "### Bica16\n",
    "https://ui.adsabs.harvard.edu/abs/2016PASA...33...28B/abstract\n",
    "Candidate GCs with sky, Metallicity and further Chem data.  \n",
    "Not clear which are actually GCs or not\n"
   ]
  },
  {
   "cell_type": "markdown",
   "id": "d9b4be3b-963b-4763-b2fa-81f39d5b0620",
   "metadata": {},
   "source": [
    "# Individual_Data\n",
    "Individual papers and sources"
   ]
  },
  {
   "cell_type": "code",
   "execution_count": 22,
   "id": "851a13b6-752f-43d0-9f6e-d8f5c81a54e6",
   "metadata": {},
   "outputs": [],
   "source": [
    "def add_individual_data(data, individual_data):\n",
    "    papers = list(individual_data.keys())\n",
    "    for p in papers:\n",
    "        print(p)\n",
    "        original_new_data =individual_data[p]\n",
    "        original_names = np.array(list(original_new_data.keys()))\n",
    "        names = process_names(original_names)\n",
    "        try:\n",
    "            new_data = {new_n:original_new_data[old_n] for (new_n, old_n) in zip(names, original_names)}\n",
    "            data = data_add_function(data, new_data, data_name=p)\n",
    "        except Exception as e:\n",
    "            print(e)\n",
    "            print(names)\n",
    "            print(original_names)\n",
    "            print(original_new_data.keys())\n",
    "\n",
    "    return data"
   ]
  },
  {
   "cell_type": "code",
   "execution_count": 23,
   "id": "1354fab5-df52-4de6-a02d-ebe026bcca62",
   "metadata": {},
   "outputs": [],
   "source": [
    "individual_data = {}"
   ]
  },
  {
   "cell_type": "markdown",
   "id": "d02d2308-23fd-4443-aefb-44ff86cd9c33",
   "metadata": {},
   "source": [
    "## Small Papers"
   ]
  },
  {
   "cell_type": "markdown",
   "id": "584fce02-4cd2-47c5-ae8e-7b2bf412de08",
   "metadata": {},
   "source": [
    "### Kerber18\n",
    "NGC6522, NGC6626(M28), NGC6362  \n",
    "Kerber18: https://ui.adsabs.harvard.edu/abs/2018ApJ...853...15K/abstract  \n",
    "Alpha enhanced BASTI or DSED sochrone fitting. Use DSED to avoid attomic difusion problems.  \n",
    "Take the smallest ChiSq."
   ]
  },
  {
   "cell_type": "code",
   "execution_count": 24,
   "id": "3a806016-fd30-4216-8321-a20f706feef3",
   "metadata": {},
   "outputs": [],
   "source": [
    "individual_data[\"Kerber18\"] = {\n",
    "    \"NGC6522\": {\n",
    "        \"Age\": 11.4, \"Age_Err\": 1.0,\n",
    "        \"Fe_H\": -1.15,\n",
    "        # \"Fe_H\":-2.37, \"Fe_H_Err_1os\":0.19,\"Fe_H_Err_1us\":-0.14,\n",
    "        \"dist\": 7.05, \"dist_err\": 0.16\n",
    "    },\n",
    "    \"NGC6626\": {\n",
    "        \"Age\": 11.1, \"Age_Err\": 0.9,\n",
    "        \"Fe_H\": -1.3,\n",
    "        # \"Fe_H\":-2.37, \"Fe_H_Err_1os\":0.19,\"Fe_H_Err_1us\":-0.14,\n",
    "        \"dist\": 5.18, \"dist_err\": 0.14\n",
    "    },\n",
    "    \"NGC6362\": {\n",
    "        \"Age\": 12.8, \"Age_Err\": 1.0,\n",
    "        \"Fe_H\": -1.15,\n",
    "        # \"Fe_H\":-2.37, \"Fe_H_Err_1os\":0.19,\"Fe_H_Err_1us\":-0.14,\n",
    "        \"dist\": 7.73, \"dist_err\": 0.18\n",
    "    }\n",
    "}\n",
    "\n",
    "paper_age[\"Kerber18\"] = 2018"
   ]
  },
  {
   "cell_type": "markdown",
   "id": "9eb6e79c-6714-44b0-ac72-e78746987fac",
   "metadata": {},
   "source": [
    "### Dias15\n",
    "NGC6528, NGC6553, M71, NGC6558, NGC6426, Terzan8\n",
    "Dias15: https://ui.adsabs.harvard.edu/abs/2015A%26A...573A..13D/abstract  \n",
    "Fe_H, Alpha_Fe, Mg, vlos"
   ]
  },
  {
   "cell_type": "code",
   "execution_count": 25,
   "id": "f6dc751d-f70c-4c69-8138-9f31650c3e43",
   "metadata": {},
   "outputs": [],
   "source": [
    "individual_data[\"Dias15\"] = {\n",
    "    \"NGC6528\": {\n",
    "        \"Fe_H\": -0.13, \"Fe_H_Err\": 0.05,\n",
    "        \"vlos\": 185, \"vlos_err\": 10,\n",
    "        \"Mg_Fe\": 0.05, \"Mg_Fe_Err\": 0.09,\n",
    "        \"Alpha_Fe\": 0.26, \"Alpha_Fe_Err\": 0.05,\n",
    "    },\n",
    "    \"NGC6553\": {\n",
    "        \"Fe_H\": -0.133, \"Fe_H_Err\": 0.017,\n",
    "        \"vlos\": 6, \"vlos_err\": 8,\n",
    "        \"Mg_Fe\": 0.107, \"Mg_Fe_Err\": 0.009,\n",
    "        \"Alpha_Fe\": 0.302, \"Alpha_Fe_Err\": 0.025,\n",
    "    },\n",
    "    \"M71\": {\n",
    "        \"Fe_H\": -0.63, \"Fe_H_Err\": 0.05,\n",
    "        \"vlos\": -42, \"vlos_err\": 18,\n",
    "        \"Mg_Fe\": 0.25, \"Mg_Fe_Err\": 0.07,\n",
    "        \"Alpha_Fe\": 0.293, \"Alpha_Fe_Err\": 0.032,\n",
    "    },\n",
    "    \"NGC6558\": {\n",
    "        \"Fe_H\": -1.012, \"Fe_H_Err\": 0.013,\n",
    "        \"vlos\": -210, \"vlos_err\": 16,\n",
    "        \"Mg_Fe\": 0.26, \"Mg_Fe_Err\": 0.06,\n",
    "        \"Alpha_Fe\": 0.23, \"Alpha_Fe_Err\": 0.06,\n",
    "    },\n",
    "    \"NGC6426\": {\n",
    "        \"Fe_H\": -2.39, \"Fe_H_Err\": 0.11,\n",
    "        \"vlos\": -242, \"vlos_err\": 11,\n",
    "        \"Mg_Fe\": 0.38, \"Mg_Fe_Err\": 0.06,\n",
    "        \"Alpha_Fe\": 0.24, \"Alpha_Fe_Err\": 0.05,\n",
    "    },\n",
    "    \"Terzan8\": {\n",
    "        \"Fe_H\": -2.06, \"Fe_H_Err\": 0.17,\n",
    "        \"vlos\": 135, \"vlos_err\": 19,\n",
    "        \"Mg_Fe\": 0.41, \"Mg_Fe_Err\": 0.04,\n",
    "        \"Alpha_Fe\": 0.21, \"Alpha_Fe_Err\": 0.04,\n",
    "    }\n",
    "}\n",
    "\n",
    "paper_age[\"Dias15\"] = 2015"
   ]
  },
  {
   "cell_type": "markdown",
   "id": "54db95e4-ed2a-412a-ba56-f1512f1ba4c8",
   "metadata": {},
   "source": [
    "### VandenBerg16\n",
    "https://ui.adsabs.harvard.edu/abs/2016ApJ...827....2V/abstract  \n",
    "M3, M15, M92. More information, but not very clear?"
   ]
  },
  {
   "cell_type": "code",
   "execution_count": 26,
   "id": "70980a6d-e76d-42b1-bcf6-a68a4a731a5b",
   "metadata": {},
   "outputs": [],
   "source": [
    "individual_data[\"Vandenberg16\"] = {\n",
    "    \"M3\": {\n",
    "        \"Age\": 12.5\n",
    "    },\n",
    "    \"M15\": {\n",
    "        \"Age\": 12.5\n",
    "    },\n",
    "    \"M92\": {\n",
    "        \"Age\": 12.5\n",
    "    },\n",
    "}\n",
    "\n",
    "paper_age[\"Vandenberg16\"] = 2016"
   ]
  },
  {
   "cell_type": "markdown",
   "id": "30c1c8f3-6b4f-4be3-b594-b17ab779c75f",
   "metadata": {},
   "source": [
    "## Individual Clusters"
   ]
  },
  {
   "cell_type": "markdown",
   "id": "5d74030a-be9f-4202-8f69-af27f92fef99",
   "metadata": {},
   "source": [
    "### Pal2\n",
    "https://ui.adsabs.harvard.edu/abs/2020MNRAS.493.2688B/abstract"
   ]
  },
  {
   "cell_type": "code",
   "execution_count": 27,
   "id": "5b9df2de-c9db-4be0-b4ab-99ae8ef5f48f",
   "metadata": {},
   "outputs": [],
   "source": [
    "individual_data[\"Bonatto20\"] = {\"Pal2\": {'Age': 13.25, 'Age_Err': 0.12, \"Fe_H\": -1.58, \"Fe_H_Err\": 0.08,\n",
    "                                         \"Mass\": 1.4e5, \"Mass_Err\": 0.4e5, \"Mvt\": -7.8}}\n",
    "paper_age[\"Bonatto20\"] = 2020"
   ]
  },
  {
   "cell_type": "markdown",
   "id": "caead0f0-8d10-48b1-91f4-fc69ec4f7298",
   "metadata": {},
   "source": [
    "### Crater/Lavens1\n",
    "Crater  \n",
    "https://ui.adsabs.harvard.edu/abs/2016ApJ...822...32W/abstract"
   ]
  },
  {
   "cell_type": "code",
   "execution_count": 28,
   "id": "44262b40-38ff-4b71-b317-3b8803c5485f",
   "metadata": {},
   "outputs": [],
   "source": [
    "\n",
    "individual_data[\"Weisz16\"] = {\"Crater\": {'Age': 7.5, 'Age_Err': 0.4,\n",
    "                                         \"Fe_H\": -1.66, \"Fe_H_Err\": 0.04,\n",
    "                                         \"Mass\": 9.9e3, \"Mvt\": -5.3}}\n",
    "paper_age[\"Weisz16\"] = 2016"
   ]
  },
  {
   "cell_type": "markdown",
   "id": "3b7ed250-8dfd-4639-8d7c-c35c141645ed",
   "metadata": {},
   "source": [
    "### Bliss1\n",
    "https://ui.adsabs.harvard.edu/abs/2019ApJ...875..154M/abstract"
   ]
  },
  {
   "cell_type": "code",
   "execution_count": 29,
   "id": "e11536ed-17a8-4d81-a4a2-a5dd030332e1",
   "metadata": {},
   "outputs": [],
   "source": [
    "individual_data[\"Hempel14\"] = {\"Bliss1\": {'Age': 9.2, 'Age_Err_1os': 1.6, \"Age_Err_1us\": -0.8,\n",
    "                                          \"Fe_H\": -1.4,\n",
    "                                          \"Mass\": 143, \"Mass_Err\": 37,\n",
    "                                          \"Mvt\": 0, \"Mvt_Err_1os\": 1.7, \"Mvt_Err_1us\": -0.7}}\n",
    "paper_age[\"Hempel14\"] = 2014"
   ]
  },
  {
   "cell_type": "markdown",
   "id": "192f7604-a510-45b9-80e7-77c7dd0ac971",
   "metadata": {},
   "source": [
    "### Kim3\n",
    "https://ui.adsabs.harvard.edu/abs/2016ApJ...820..119K/abstract"
   ]
  },
  {
   "cell_type": "code",
   "execution_count": 30,
   "id": "98194bd6-9790-4fe8-956d-d733028f984f",
   "metadata": {},
   "outputs": [],
   "source": [
    "individual_data[\"Kim16\"] = {\"Kim3\": {'Age': 9.5, 'Age_Err_1os': 3, \"Age_Err_1us\": -1.6,\n",
    "                                     \"Fe_H\": -1.6, \"Fe_H_1os\": 0.45, \"Fe_H_1us\": -0.3,\n",
    "                                     \"Mvt\": 0.7, \"Mvt_Err\": 0.3}}\n",
    "paper_age[\"Kim16\"] = 2016"
   ]
  },
  {
   "cell_type": "markdown",
   "id": "04f5700d-f3b1-4e47-9986-d895aee8c5ab",
   "metadata": {},
   "source": [
    "### Munoz1\n",
    "https://ui.adsabs.harvard.edu/abs/2012ApJ...753L..15M/abstract"
   ]
  },
  {
   "cell_type": "code",
   "execution_count": 31,
   "id": "774291d8-6ccb-42e0-b7e6-6a41933793f8",
   "metadata": {},
   "outputs": [],
   "source": [
    "individual_data[\"Munoz12\"] = {\"Munoz1\": {'Age': 12.5,\n",
    "                                         \"Fe_H\": -1.5,\n",
    "                                         \"Mvt\": -0.4, \"Mvt_Err\": 0.9}}\n",
    "\n",
    "paper_age[\"Kim16\"] = 2016"
   ]
  },
  {
   "cell_type": "markdown",
   "id": "9a810e8e-cb31-4b7a-abd5-76eb7062cff5",
   "metadata": {},
   "source": [
    "### BH176\n",
    "https://ui.adsabs.harvard.edu/abs/2011A%26A...528A..70D/abstract"
   ]
  },
  {
   "cell_type": "code",
   "execution_count": 32,
   "id": "32f383ed-9321-4095-b590-9954b87a6cad",
   "metadata": {},
   "outputs": [],
   "source": [
    "individual_data[\"Davoust11\"] = {\"BH176\": {'Age': 6.5, \"Age_Err\": 0.5,\n",
    "                                          \"Fe_H\": -0.1, \"Fe_H_Err\": 0.1,\n",
    "                                          \"Mvt\": -3.82}}\n",
    "\n",
    "paper_age[\"Davoust11\"] = 2011"
   ]
  },
  {
   "cell_type": "markdown",
   "id": "70d4224a-6918-495f-a692-7dc26231711d",
   "metadata": {},
   "source": [
    "### FSR1716\n",
    "https://ui.adsabs.harvard.edu/abs/2017A%26A...605A.128K/abstract\n",
    "\n",
    "Age given as 10-12 in:\n",
    "https://ui.adsabs.harvard.edu/abs/2016arXiv161103753B/abstract"
   ]
  },
  {
   "cell_type": "code",
   "execution_count": 33,
   "id": "d177e948-22f9-4f60-bd42-f450bb78e8ab",
   "metadata": {},
   "outputs": [],
   "source": [
    "individual_data[\"Andreas17\"] = {\"FSR1716\": {  # 'Age': ?,\n",
    "    \"Fe_H\": -1.38, \"Fe_H_Err\": 0.2,\n",
    "    \"Mass\": 1.4e4, \"Mass_Err_1os\": 1.2e4, \"Mass_Err_1us\": 0.8e4,\n",
    "    \"Mvt\": -5.1, \"Mvt_Err\": 1}}\n",
    "\n",
    "paper_age[\"Andreas17\"] = 2017\n",
    "\n",
    "individual_data[\"Buckner16\"] = {\"FSR1716\": {'Age': 11, \"Age_Err\": 1}}\n",
    "paper_age[\"Buckner16\"] = 2016"
   ]
  },
  {
   "cell_type": "markdown",
   "id": "0a513e1f-e6b9-460e-bde1-fb6ec4ea8a05",
   "metadata": {},
   "source": [
    "### Ryu 1 and 2\n",
    "https://ui.adsabs.harvard.edu/abs/2018ApJ...863L..38R/abstract  \n",
    "Age assumed 12.6, as an average of metal poor GCs. Could include it and have very wide errors?"
   ]
  },
  {
   "cell_type": "code",
   "execution_count": 34,
   "id": "d7a3c1d0-2e1b-421a-8e4a-594c81a45e47",
   "metadata": {},
   "outputs": [],
   "source": [
    "individual_data[\"Ryu18\"] = {\n",
    "    \"Ryu059\": {  # 'Age': 12.6,\n",
    "        \"Fe_H\": -2.2, \"Fe_H_Err\": 0.2, },\n",
    "    \"Ryu879\": {  # 'Age': 12.6,\n",
    "        \"Fe_H\": -2.1, \"Fe_H_Err\": 0.3, }\n",
    "}\n",
    "\n",
    "paper_age[\"Ryu18\"] = 2018"
   ]
  },
  {
   "cell_type": "markdown",
   "id": "97305258-51b9-453d-9e7f-75639acaca01",
   "metadata": {},
   "source": [
    "### NGC6139\n",
    "https://ui.adsabs.harvard.edu/abs/2015A%26A...583A..69B/abstract\n",
    "errors of +- 0.015 +- 0.058  \n",
    "Combine in Quadrature"
   ]
  },
  {
   "cell_type": "code",
   "execution_count": 35,
   "id": "7e9f8972-16f1-445a-a6c6-b8bb7d90f79e",
   "metadata": {},
   "outputs": [],
   "source": [
    "individual_data[\"Bragaglia15\"] = {\"NGC6139\": {\n",
    "    \"Fe_H\": -1.579, \"Fe_H_Err\": np.sqrt((0.015**2) + (0.058**2)),\n",
    "    \"Mvt\": -3.82}}\n",
    "\n",
    "paper_age[\"Davoust11\"] = 2011"
   ]
  },
  {
   "cell_type": "markdown",
   "id": "32581d6e-795e-4c34-b83d-58f415617444",
   "metadata": {},
   "source": [
    "### ESO452\n",
    "Simpson 17\n",
    "https://ui.adsabs.harvard.edu/abs/2017MNRAS.472.2856S/abstract\n",
    "\n",
    "\n",
    "Cornish 06. \n",
    "Fits multiple isochrones, find a large range of metallicity and ages.\n",
    "https://ui.adsabs.harvard.edu/abs/2006AJ....131.2543C/abstract"
   ]
  },
  {
   "cell_type": "code",
   "execution_count": 36,
   "id": "1bd2df0b-3895-4157-a4b9-952f962eb640",
   "metadata": {},
   "outputs": [],
   "source": [
    "individual_data[\"Simpson17\"] = {\"ESO452\": {\n",
    "    \"Fe_H\": -0.81, \"Fe_H_Err\": 0.13,\n",
    "    \"Mass\": 6.8e3, \"Mass_Err\": 3.4e3\n",
    "}\n",
    "}\n",
    "\n",
    "paper_age[\"Simpson17\"] = 2017\n",
    "\n",
    "individual_data[\"Cornish06\"] = {\"ESO452\": {\"Age\": 12.5, \"Age_Err\": 3.5,\n",
    "                                           }\n",
    "                                }\n",
    "paper_age[\"Cornish06\"] = 2006"
   ]
  },
  {
   "cell_type": "markdown",
   "id": "ac1391e5-fb6d-4204-bdc3-3f37e8f494aa",
   "metadata": {},
   "source": [
    "### NGC6229\n",
    "Johnson17: https://ui.adsabs.harvard.edu/abs/2017AJ....154..155J/abstract\n",
    "\n",
    "Arlleno15: https://ui.adsabs.harvard.edu/abs/2015MNRAS.452..727A/abstract  \n",
    "Gives age as consistent with 12+-1\n"
   ]
  },
  {
   "cell_type": "code",
   "execution_count": 37,
   "id": "d729f958-6835-4a24-a3d4-b70119af382f",
   "metadata": {},
   "outputs": [],
   "source": [
    "individual_data[\"Johnson17\"] = {\"NGC6229\": {\n",
    "    \"Fe_H\": -1.13, \"Fe_H_Err\": 0.06,\n",
    "}}\n",
    "\n",
    "paper_age[\"Johnson17\"] = 2017\n",
    "\n",
    "individual_data[\"Arellano15\"] = {\"NGC6229\": {\"Age\": 12, \"Age_Err\": 1,\n",
    "                                             \"Fe_H\": -1.31, \"Fe_H_Err\": 0.12,\n",
    "                                             }}\n",
    "paper_age[\"Arellano15\"] = 2015"
   ]
  },
  {
   "cell_type": "markdown",
   "id": "874e6565-922d-4764-b8e8-54721c047dfb",
   "metadata": {},
   "source": [
    "### NGC6256\n",
    "Cardelano20: https://ui.adsabs.harvard.edu/abs/2020ApJ...895...54C/abstract  \n",
    "Isochrone fitting using Vasq18 Metallicity\n"
   ]
  },
  {
   "cell_type": "code",
   "execution_count": 38,
   "id": "efc17451-9bde-49da-8354-dfec1daec85a",
   "metadata": {},
   "outputs": [],
   "source": [
    "individual_data[\"Cardelano20\"] = {\"NGC6256\": {\n",
    "    \"Age\": 13, \"Age_Err\": 0.5,\n",
    "    \"Fe_H\": -1.62\n",
    "}}\n",
    "\n",
    "paper_age[\"Cardelano20\"] = 2020"
   ]
  },
  {
   "cell_type": "markdown",
   "id": "5073c651-becf-4ac5-bea9-05c21690270f",
   "metadata": {},
   "source": [
    "### HP1\n",
    "Kerber20: https://ui.adsabs.harvard.edu/abs/2019MNRAS.484.5530K/abstract\n",
    "\n",
    "Barbuy16: https://ui.adsabs.harvard.edu/abs/2016A%26A...591A..53B/abstract"
   ]
  },
  {
   "cell_type": "code",
   "execution_count": 39,
   "id": "ca14a78f-42b3-4089-83b9-e6de2bef9bde",
   "metadata": {},
   "outputs": [],
   "source": [
    "individual_data[\"Kerber20\"] = {\"HP1\": {\n",
    "    \"Age\": 12.75, \"Age_Err_1os\": 0.86, \"Age_Err_1us\": -0.81,\n",
    "    \"Fe_H\": -1.09, \"Fe_H_Err_1os\": 0.07, \"Fe_H_Err_1us\": -0.09,\n",
    "    \"Alpha_Fe\": 0.4\n",
    "}}\n",
    "\n",
    "paper_age[\"Kerber20\"] = 2020\n",
    "\n",
    "individual_data[\"Barbuy16\"] = {\"HP1\": {\n",
    "    \"Fe_H\": -1.06, \"Fe_H_Err\": 0.1,\n",
    "}}\n",
    "\n",
    "paper_age[\"Barbuy16\"] = 2016"
   ]
  },
  {
   "cell_type": "markdown",
   "id": "0925c8ad-9e8e-4998-8154-7a9fc4738ca6",
   "metadata": {},
   "source": [
    "### FSR1758\n",
    "Romero21: https://ui.adsabs.harvard.edu/abs/2021A%26A...652A.158R/abstract  \n",
    "Fits Isochrone, CAPOS APOGEE \n",
    "\n",
    "Vilanova19: https://ui.adsabs.harvard.edu/abs/2019ApJ...882..174V/abstract  \n",
    "High Res Spectra. Prefered?\n",
    "\n",
    "Barba19: https://ui.adsabs.harvard.edu/abs/2019ApJ...870L..24B/abstract"
   ]
  },
  {
   "cell_type": "code",
   "execution_count": 40,
   "id": "ab66e7f5-2d8f-4279-8637-5ad4fbcc97bf",
   "metadata": {},
   "outputs": [],
   "source": [
    "individual_data[\"Romero21\"] = {\"FSR1758\": {\n",
    "    \"Age\": 11.6, \"Age_Err_1os\": 1.25, \"Age_Err_1us\": -1.31,\n",
    "    \"Fe_H\": -1.36, \"Fe_H_Err\": 0.05\n",
    "}}\n",
    "\n",
    "paper_age[\"Romero21\"] = 2021\n",
    "\n",
    "individual_data[\"Vilanova19\"] = {\"FSR1758\": {\n",
    "    \"Fe_H\": -1.58, \"Fe_H_Err\": 0.03,\n",
    "    \"Alpha_Fe\": 0.32, \"Alpha_Fe_Err\": 0.01\n",
    "}}\n",
    "\n",
    "paper_age[\"Vilanova19\"] = 2019\n",
    "\n",
    "individual_data[\"Barba19\"] = {\"FSR1758\": {\n",
    "    \"Fe_H\": -1.5, \"Fe_H\": 0.3\n",
    "}}\n",
    "\n",
    "paper_age[\"Barba19\"] = 2019"
   ]
  },
  {
   "cell_type": "markdown",
   "id": "2cd786a7-bcb7-47a4-a0d8-de2b75ebd6b1",
   "metadata": {},
   "source": [
    "### NGC6402\n",
    "DAntona22: https://ui.adsabs.harvard.edu/abs/2022ApJ...925..192D/abstract  \n",
    "Johnson19: https://ui.adsabs.harvard.edu/abs/2019MNRAS.485.4311J/abstract"
   ]
  },
  {
   "cell_type": "code",
   "execution_count": 41,
   "id": "4ad530bd-ec85-4848-ad15-58104304a194",
   "metadata": {},
   "outputs": [],
   "source": [
    "individual_data[\"DAntona22\"] = {\"NGC6402\": {\n",
    "    \"Age\": 12.5, \"Age_Err\": 0.75,\n",
    "}}\n",
    "\n",
    "paper_age[\"Johnson19\"] = 2019\n",
    "individual_data[\"Johnon19\"] = {\"NGC6402\": {\n",
    "    \"Fe_H\": -1.13, \"Fe_H_Err\": 0.05,\n",
    "    \"Alpha_Fe\": 0.3\n",
    "}}\n",
    "\n",
    "paper_age[\"Johnson19\"] = 2019"
   ]
  },
  {
   "cell_type": "markdown",
   "id": "aa16cc1f-ed45-4ad3-9f2f-373aa8d5d7fb",
   "metadata": {},
   "source": [
    "### Palomar 6\n",
    "Souza21: https://ui.adsabs.harvard.edu/abs/2021A%26A...656A..78S/abstract"
   ]
  },
  {
   "cell_type": "code",
   "execution_count": 42,
   "id": "a37ce51d-000f-48c4-9712-b2ba79f2756c",
   "metadata": {},
   "outputs": [],
   "source": [
    "individual_data[\"Souza21\"] = {\"Pal6\": {\n",
    "    \"Age\": 12.4, \"Age_Err\": 0.9,\n",
    "    \"Fe_H\": -1.10, \"Fe_H_Err\": 0.09,\n",
    "    \"Mvt\": -6.79\n",
    "}}\n",
    "\n",
    "paper_age[\"Souza21\"] = 2021"
   ]
  },
  {
   "cell_type": "markdown",
   "id": "188b94ef-a797-48aa-b809-62d4b02cfbc1",
   "metadata": {},
   "source": [
    "### NGC6440\n",
    "Pallanca21: https://ui.adsabs.harvard.edu/abs/2021ApJ...913..137P/abstract\n",
    "\n",
    "Munoz17: https://ui.adsabs.harvard.edu/abs/2017A%26A...605A..12M/abstract  \n",
    "Na-0 anticorrelation  "
   ]
  },
  {
   "cell_type": "code",
   "execution_count": 43,
   "id": "7c374b32-dac3-444f-9ebc-34fcd71a279d",
   "metadata": {},
   "outputs": [],
   "source": [
    "individual_data[\"Pallanca21\"] = {\"NGC6440\": {\n",
    "    \"Age\": 13, \"Age_Err\": 1.5,\n",
    "    \"Fe_H\": -1.34, \"Fe_H_Err\": 0.36,\n",
    "    \"Mvt\": 1.12, \"Mvt_Err\": 0.12\n",
    "}}\n",
    "\n",
    "paper_age[\"Pallanca21\"] = 2021\n",
    "\n",
    "individual_data[\"Munoz17\"] = {\"NGC6440\": {\n",
    "    \"Fe_H\": -0.5, \"Fe_H_Err\": 0.03,\n",
    "    \"Age\": 13\n",
    "}}\n",
    "\n",
    "paper_age[\"Munoz17\"] = 2017"
   ]
  },
  {
   "cell_type": "markdown",
   "id": "97845284-e2df-4d59-b3ff-03b86ffab27d",
   "metadata": {},
   "source": [
    "### UKS1\n",
    "Fernandez20: https://ui.adsabs.harvard.edu/abs/2020A%26A...643A.145F/abstract  \n",
    "Spectra of 6 stars, fit isochrone for age"
   ]
  },
  {
   "cell_type": "code",
   "execution_count": 44,
   "id": "ac17e13f-09dd-4225-baf8-647d114743da",
   "metadata": {},
   "outputs": [],
   "source": [
    "individual_data[\"Fernandez20\"] = {\"UKS1\": {\n",
    "    \"Age\": 13.1, \"Age_Err_1os\": 0.93, \"Age_Err_1us\": -1.29,\n",
    "    \"Fe_H\": -0.98, \"Fe_H_Err\": 0.11,\n",
    "}}\n",
    "\n",
    "paper_age[\"Fernandez20\"] = 2020"
   ]
  },
  {
   "cell_type": "markdown",
   "id": "4132dcdf-8d91-4cb7-a607-f27f7b699c50",
   "metadata": {},
   "source": [
    "### VVVCL001\n",
    "Fernandez21: https://ui.adsabs.harvard.edu/abs/2021ApJ...908L..42F/abstract  \n",
    "High resolution abundance analysis + isochrone fitting  \n",
    "Alpha Available\n"
   ]
  },
  {
   "cell_type": "code",
   "execution_count": 45,
   "id": "bd509de0-c0c0-4aab-b111-17e38d716632",
   "metadata": {},
   "outputs": [],
   "source": [
    "individual_data[\"Fernandez21\"] = {\"VVVCL001\": {\n",
    "    \"Age\": 11.9, \"Age_Err_1os\": 3.12, \"Age_Err_1us\": -4.05,\n",
    "    \"Fe_H\": -2.45, \"Fe_H_Err\": 0.24,\n",
    "    # \"Fe_H\":-2.37, \"Fe_H_Err_1os\":0.19,\"Fe_H_Err_1us\":-0.14,\n",
    "    \"dist0\": 8.22, \"dist_err_1os\": 1.84, \"dist_err_1us\": -1.93\n",
    "}}\n",
    "\n",
    "paper_age[\"Fernandez21\"] = 2020"
   ]
  },
  {
   "cell_type": "markdown",
   "id": "bc8fce74-3a81-4010-8422-1a1401bb0a72",
   "metadata": {},
   "source": [
    "### Djorg2\n",
    "Ortolani19: https://ui.adsabs.harvard.edu/abs/2019A%26A...627A.145O/abstract   \n",
    "Isochrone fitting, BaSTi uncorrected?"
   ]
  },
  {
   "cell_type": "code",
   "execution_count": 46,
   "id": "87f43d6e-7f31-41d0-a4d3-174e3fcf17ca",
   "metadata": {},
   "outputs": [],
   "source": [
    "individual_data[\"Ortolani19\"] = {\"Djorg2\": {\n",
    "    \"Age\": 12.7, \"Age_Err_1os\": 0.72, \"Age_Err_1us\": -0.69,\n",
    "    \"Fe_H\": -1.11, \"Fe_H_Err\": 0.03,\n",
    "    # \"Fe_H\":-2.37, \"Fe_H_Err_1os\":0.19,\"Fe_H_Err_1us\":-0.14,\n",
    "    \"dist\": 8.75, \"dist_err\": 0.12\n",
    "}}\n",
    "\n",
    "paper_age[\"Ortolani19\"] = 2019"
   ]
  },
  {
   "cell_type": "markdown",
   "id": "6886f81d-e061-4c83-b32a-b4ed6ccebbfd",
   "metadata": {},
   "source": [
    "### NGC6522\n",
    "Barbuy21: https://ui.adsabs.harvard.edu/abs/2021A%26A...654A..29B/abstract\n",
    "Spectra, Flames GIRAFEE  \n",
    "Alpha available"
   ]
  },
  {
   "cell_type": "code",
   "execution_count": 47,
   "id": "b8b7b39d-09a6-4be8-af9f-caf5be945cdd",
   "metadata": {},
   "outputs": [],
   "source": [
    "individual_data[\"Barbuy21\"] = {\"NGC6522\": {\n",
    "    \"Age\": 12.7, \"Age_Err_1os\": 0.72, \"Age_Err_1us\": -0.69,\n",
    "    \"Fe_H\": -1.05, \"Fe_H_Err\": 0.20,\n",
    "    # \"Fe_H\":-2.37, \"Fe_H_Err_1os\":0.19,\"Fe_H_Err_1us\":-0.14,\n",
    "    \"dist\": 8.75, \"dist_err\": 0.12,\n",
    "    \"vlos\": -15.62, \"vlos_err\": 7.7\n",
    "}}\n",
    "\n",
    "paper_age[\"Barbuy21\"] = 2021"
   ]
  },
  {
   "cell_type": "markdown",
   "id": "50c8ff76-67bd-48b8-b064-b4886e87c952",
   "metadata": {},
   "source": [
    "### NGC6528\n",
    "Munoz18: https://ui.adsabs.harvard.edu/abs/2018A%26A...620A..96M/abstract   \n",
    "Alpha available too."
   ]
  },
  {
   "cell_type": "code",
   "execution_count": 48,
   "id": "2cef22c6-d531-429c-b4ef-a154be1dfbcb",
   "metadata": {},
   "outputs": [],
   "source": [
    "individual_data[\"Munoz18\"] = {\"NGC6528\": {\n",
    "    \"Fe_H\": -0.14, \"Fe_H_Err\": 0.03,\n",
    "}}\n",
    "\n",
    "paper_age[\"Munoz18\"] = 2018"
   ]
  },
  {
   "cell_type": "markdown",
   "id": "7f50c2a5-7c0c-4249-907c-ed9df2f90a8b",
   "metadata": {},
   "source": [
    "### NGC6544\n",
    "Gran21: https://ui.adsabs.harvard.edu/abs/2021MNRAS.504.3494G/abstract"
   ]
  },
  {
   "cell_type": "code",
   "execution_count": 49,
   "id": "25cbff37-a422-4a26-b426-d99fe24a060f",
   "metadata": {
    "tags": []
   },
   "outputs": [],
   "source": [
    "individual_data[\"Gran21\"] = {\"NGC6544\": {\n",
    "    \"Fe_H\": -1.44, \"Fe_H_Err\": 0.04,\n",
    "    \"Alpha_Fe\": 0.2, \"Alpha_Fe_Err\": 0.04\n",
    "}}\n",
    "\n",
    "paper_age[\"Gran21\"] = 2021"
   ]
  },
  {
   "cell_type": "markdown",
   "id": "1838e3fb-9693-4b9c-965f-39a9ccb9bf35",
   "metadata": {},
   "source": [
    "### ESO280\n",
    "Simpson18:  https://ui.adsabs.harvard.edu/abs/2018MNRAS.477.4565S/abstract   \n",
    "High Res Spectra"
   ]
  },
  {
   "cell_type": "code",
   "execution_count": 50,
   "id": "99cab663-d6c0-4842-9e9d-d5342b6890d2",
   "metadata": {
    "tags": []
   },
   "outputs": [],
   "source": [
    "individual_data[\"Simpson18\"] = {\"ESO-SC06\": {\n",
    "    \"Fe_H\": -2.48, \"Fe_H_Err_u1s\": -0.11, \"Fe_H_Err_o1s\": 0.06,\n",
    "    \"Mass\": 12e3, \"Mass_Err\": 2e3,\n",
    "    \"Alpha_Fe\": 0.2, \"Alpha_Fe_Err\": 0.04,\n",
    "    \"dist\": 15.2, \"dist_err\": 2.1,\n",
    "    \"vlos\": 92.5, \"vlos_err_o1s\": 2.4, \"vlos_err_u1s\": -1.6\n",
    "}}\n",
    "\n",
    "paper_age[\"Simpson18\"] = 2018"
   ]
  },
  {
   "cell_type": "markdown",
   "id": "278d46f0-bc7e-4810-8c5e-6aedd0c474f1",
   "metadata": {
    "tags": []
   },
   "source": [
    "### NGC6553\n",
    "Munoz20: https://ui.adsabs.harvard.edu/abs/2020MNRAS.492.3742M/abstract\n",
    "High Res Spectra"
   ]
  },
  {
   "cell_type": "code",
   "execution_count": 51,
   "id": "8ebf0056-1cab-430b-a1d7-fb4c440ef82d",
   "metadata": {
    "tags": []
   },
   "outputs": [],
   "source": [
    "individual_data[\"Munoz20\"] = {\"NGC6553\": {\n",
    "    \"Fe_H\": -0.14, \"Fe_H_Err\": 0.07,\n",
    "    \"Alpha_Fe\": 0.11, \"Alpha_Fe_Err\": 0.05\n",
    "}}\n",
    "\n",
    "paper_age[\"Munoz20\"] = 2020"
   ]
  },
  {
   "cell_type": "markdown",
   "id": "7d96c900-e0bd-4c16-9985-1387c00c8bc6",
   "metadata": {
    "tags": []
   },
   "source": [
    "### NGC6558\n",
    "Barbuy18: https://ui.adsabs.harvard.edu/abs/2018A%26A...619A.178B/abstract\n",
    "High Res Spectra  \n",
    "Alpha Available"
   ]
  },
  {
   "cell_type": "code",
   "execution_count": 52,
   "id": "1bb15f97-e281-4371-ac2c-1f251bb7a713",
   "metadata": {
    "tags": []
   },
   "outputs": [],
   "source": [
    "individual_data[\"Barbuy18\"] = {\"NGC6558\": {\n",
    "    \"Fe_H\": -1.17, \"Fe_H_Err\": 0.10,\n",
    "}}\n",
    "\n",
    "paper_age[\"Barbuy18\"] = 2018"
   ]
  },
  {
   "cell_type": "markdown",
   "id": "af3086bb-77f4-4dc7-bed5-f718c3d10065",
   "metadata": {
    "tags": []
   },
   "source": [
    "### Valenti11\n",
    "Valenti11: https://ui.adsabs.harvard.edu/abs/2011MNRAS.414.2690V/abstract\n",
    "High res infrared spectra"
   ]
  },
  {
   "cell_type": "code",
   "execution_count": 53,
   "id": "da7405fb-0c8e-4042-9e72-9f7124ffd91d",
   "metadata": {
    "tags": []
   },
   "outputs": [],
   "source": [
    "individual_data[\"Valenti11\"] = {\n",
    "    \"NGC6624\": {\"Fe_H\": -0.69, \"Fe_H_Err\": 0.02,\n",
    "                \"Alpha_Fe\": 0.39, \"Alpha_Fe_Err\": 0.02,\n",
    "                \"vlos\": 51, \"vlos_Err\": 3\n",
    "                },\n",
    "    \"NGC6569\": {\"Fe_H\": -0.79, \"Fe_H_Err\": 0.02,\n",
    "                \"Alpha_Fe\": 0.43, \"Alpha_Fe_Err\": 0.02,\n",
    "                \"vlos\": 47, \"vlos_Err\": 4\n",
    "                }\n",
    "}\n",
    "\n",
    "paper_age[\"Valenti11\"] = 2011"
   ]
  },
  {
   "cell_type": "markdown",
   "id": "99fdeff3-e316-44cc-8b0a-51927509dc73",
   "metadata": {
    "tags": []
   },
   "source": [
    "### NGC6569\n",
    "Saracino19: https://ui.adsabs.harvard.edu/abs/2019ApJ...874...86S/abstract\n",
    "Age from averaged isochorne from DSED, VR, and BaSTI"
   ]
  },
  {
   "cell_type": "code",
   "execution_count": 54,
   "id": "b3468e11-6876-415d-97e9-8a3d331d6c59",
   "metadata": {
    "tags": []
   },
   "outputs": [],
   "source": [
    "individual_data[\"Saracino19\"] = {\"NGC6569\": {\n",
    "    \"dist\": 10.1, \"dist_err\": 0.2,\n",
    "    \"Age\": 12.8, \"Age_Err\": 1,\n",
    "    \"Fe_H\": -1.17, \"Fe_H_Err\": 0.10,\n",
    "}}\n",
    "\n",
    "paper_age[\"Saracino19\"] = 2019"
   ]
  },
  {
   "cell_type": "markdown",
   "id": "b2935f41-b3d7-4fde-b817-d77b1d633b2d",
   "metadata": {
    "tags": []
   },
   "source": [
    "### NGC6642\n",
    "Balbinot10: https://ui.adsabs.harvard.edu/abs/2010IAUS..266..357B/abstract"
   ]
  },
  {
   "cell_type": "code",
   "execution_count": 55,
   "id": "88ba03da-d8a2-4601-bb7b-dfd5cf708005",
   "metadata": {
    "tags": []
   },
   "outputs": [],
   "source": [
    "individual_data[\"Balbinot10\"] = {\"NGC6642\": {\n",
    "    \"Age\": 10 * 10.14, \"Age_Err_o1s\": ((10**1.19) - (10**1.14)), \"Age_Err_u1s\": ((10**1.14) - (10**1.05)),\n",
    "    \"Fe_H\": -1.80, \"Fe_H_Err\": 0.2,\n",
    "    \"dist\": 8.05, \"dist_err\": 0.66,\n",
    "}}\n",
    "\n",
    "paper_age[\"Balbinot10\"] = 2010"
   ]
  },
  {
   "cell_type": "markdown",
   "id": "312e4494-9602-498d-aac8-85bb3066c7be",
   "metadata": {
    "tags": []
   },
   "source": [
    "### NGC6809\n",
    "Rain19: https://ui.adsabs.harvard.edu/abs/2019MNRAS.483.1674R/abstract  \n",
    "Spectra, Chemical \n",
    "\n",
    "Diakogiannis14: https://ui.adsabs.harvard.edu/abs/2014MNRAS.437.3172D/abstract  \n",
    "Dynamical Mass  "
   ]
  },
  {
   "cell_type": "code",
   "execution_count": 56,
   "id": "f18d75bb-96ae-4e68-8dab-02dac88fe5ec",
   "metadata": {
    "tags": []
   },
   "outputs": [],
   "source": [
    "individual_data[\"Rain19\"] = {\"NGC6809\": {\n",
    "    \"Fe_H\": -2.01, \"Fe_H_Err\": 0.02,\n",
    "    \"Alpha_Fe\": 0.4, \"Alpha_Fe_Err\": 0.04,\n",
    "}}\n",
    "\n",
    "paper_age[\"Rain19\"] = 2019\n",
    "\n",
    "individual_data[\"Diakogiannis14\"] = {\"NGC6809\": {\n",
    "    \"Mass\": 6.1e4, \"Mass_Err_o1s\": 0.51e4, \"Mass_Err_u1s\": -0.88e4,\n",
    "}}\n",
    "\n",
    "paper_age[\"Diakogiannis14\"] = 2014"
   ]
  },
  {
   "cell_type": "markdown",
   "id": "dc814881-8e52-4565-9719-8113ec89d0d5",
   "metadata": {
    "tags": []
   },
   "source": [
    "### Palomar 11\n",
    "Lewis06: https://ui.adsabs.harvard.edu/abs/2006AJ....131.2538L/abstract"
   ]
  },
  {
   "cell_type": "code",
   "execution_count": 57,
   "id": "363dc2c4-c7b1-4b90-98e9-2e0c680766a4",
   "metadata": {
    "tags": []
   },
   "outputs": [],
   "source": [
    "individual_data[\"Lewis06\"] = {\"Pal11\": {\n",
    "    \"Age\": 11.4, \"Age_Err\": 0.5,\n",
    "    \"dist\": 14.3, \"dist_err\": 0.4,\n",
    "}}\n",
    "\n",
    "paper_age[\"Lewis06\"] = 2006"
   ]
  },
  {
   "cell_type": "markdown",
   "id": "834f62cb-3f0c-4d16-996f-4dc921011efd",
   "metadata": {
    "tags": []
   },
   "source": [
    "### Segue3\n",
    "Ortolani13: https://ui.adsabs.harvard.edu/abs/2013MNRAS.433.1966O/abstract\n",
    "\n",
    "Hughes17: https://ui.adsabs.harvard.edu/abs/2017AJ....154...57H/abstract  \n",
    "Dartmouth Geneva Models. Very, very young!"
   ]
  },
  {
   "cell_type": "code",
   "execution_count": 58,
   "id": "fe1c69f4-f3ce-4b3f-a38d-a40c884c6693",
   "metadata": {
    "tags": []
   },
   "outputs": [],
   "source": [
    "individual_data[\"Ortolani13\"] = {\"Segue3\": {\n",
    "    \"Age\": 3.2,\n",
    "    \"Fe_H\": -0.8,\n",
    "}}\n",
    "\n",
    "paper_age[\"Ortolani13\"] = 2013\n",
    "\n",
    "individual_data[\"Hughes17\"] = {\"Segue3\": {\n",
    "    \"Fe_H\": -0.55, \"Fe_H_Err_u1s\": -0.12, \"Fe_H_Err_o1s\": 0.15,\n",
    "    \"Age\": 2.6, \"Age_Err\": 0.4,\n",
    "    \"dist\": 14.3, \"dist_err\": 0.4,\n",
    "}}\n",
    "\n",
    "paper_age[\"Hughes17\"] = 2017"
   ]
  },
  {
   "cell_type": "markdown",
   "id": "f95a1864-f029-4446-8fd3-71e1cd61b06b",
   "metadata": {
    "tags": []
   },
   "source": [
    "### Laevens3\n",
    "Longeard19: https://ui.adsabs.harvard.edu/abs/2019MNRAS.490.1498L/abstract"
   ]
  },
  {
   "cell_type": "code",
   "execution_count": 59,
   "id": "56a61db9-1b34-45f0-a08e-30045fa1448c",
   "metadata": {
    "tags": []
   },
   "outputs": [],
   "source": [
    "individual_data[\"Longeard19\"] = {\"Laevens3\": {\n",
    "    \"Age\": 13.0, \"Age_Err\": 1.0,\n",
    "    \"dist\": 61.4, \"dist_err\": 1.0,\n",
    "    \"Fe_H\": -1.8, \"Fe_H_Err\": 0.1,\n",
    "    \"vlos\": -70.2, \"vlos_err\": 0.5\n",
    "}}\n",
    "\n",
    "paper_age[\"Longeard19\"] = 2019"
   ]
  },
  {
   "cell_type": "markdown",
   "id": "e9e536e7-2953-4c04-bc3d-0c5228c239ae",
   "metadata": {
    "tags": []
   },
   "source": [
    "### Palomar 11\n",
    "Lewis06: https://ui.adsabs.harvard.edu/abs/2006AJ....131.2538L/abstract"
   ]
  },
  {
   "cell_type": "code",
   "execution_count": 60,
   "id": "690b4c8c-ec82-42e9-9fde-f3b50e35f95b",
   "metadata": {
    "tags": []
   },
   "outputs": [],
   "source": [
    "individual_data[\"Lewis06\"] = {\"Pal11\": {\n",
    "    \"Age\": 11.4, \"Age_Err\": 0.5,\n",
    "    \"dist\": 14.3, \"dist_err\": 0.4,\n",
    "}}\n",
    "\n",
    "paper_age[\"Lewis06\"] = 2006"
   ]
  },
  {
   "cell_type": "markdown",
   "id": "3351c30f-e3a6-4138-97c6-167ecdc2965f",
   "metadata": {
    "tags": []
   },
   "source": [
    "### NGC4833\n",
    "Carretta14:  https://ui.adsabs.harvard.edu/abs/2014A%26A...564A..60C/abstract"
   ]
  },
  {
   "cell_type": "code",
   "execution_count": 61,
   "id": "614a4676-5203-4686-b120-2dea7819d5bf",
   "metadata": {
    "tags": []
   },
   "outputs": [],
   "source": [
    "individual_data[\"Carretta14\"] = {\"NGC4833\": {\n",
    "    \"Age\": 11.4, \"Age_Err\": 0.5,\n",
    "    \"dist\": 14.3, \"dist_err\": 0.4,\n",
    "}}\n",
    "\n",
    "paper_age[\"Lewis06\"] = 2006"
   ]
  },
  {
   "cell_type": "markdown",
   "id": "443027f5-9378-43cf-a105-027fb6521c63",
   "metadata": {
    "tags": []
   },
   "source": [
    "### NGC6388\n",
    "Carretta21: https://ui.adsabs.harvard.edu/abs/2021arXiv211112721C/abstract  \n",
    "Metallicity only"
   ]
  },
  {
   "cell_type": "code",
   "execution_count": 62,
   "id": "cddfe079-d53c-435e-bdf0-1e0e24f30a59",
   "metadata": {
    "tags": []
   },
   "outputs": [],
   "source": [
    "# individual_data[\"Carretta21\"] = {\"NGC6388\": {\n",
    "#     \"Fe_H\":-0.480,\n",
    "#     \"Fe_H\":-0.488,\n",
    "# }}\n",
    "\n",
    "# paper_age[\"Caretta21\"] = 2021"
   ]
  },
  {
   "cell_type": "markdown",
   "id": "b10975e4-c8ac-41ad-b777-443f913a911d",
   "metadata": {
    "tags": []
   },
   "source": [
    "### Terzan8\n",
    "Carretta14: https://ui.adsabs.harvard.edu/abs/2014A%26A...561A..87C/abstract"
   ]
  },
  {
   "cell_type": "code",
   "execution_count": 63,
   "id": "e6b15a61-6f82-4b03-8158-81407cf365cd",
   "metadata": {
    "tags": []
   },
   "outputs": [],
   "source": [
    "individual_data[\"Carretta14\"] = {\"Terzan8\":\n",
    "                                 {\"Fe_H\": -2.27, \"Fe_H_Err\": 0.03}\n",
    "                                 }\n",
    "\n",
    "paper_age[\"Caretta14\"] = 2014"
   ]
  },
  {
   "cell_type": "markdown",
   "id": "813f3513-fc62-47a8-b6bb-cf3d16f8707a",
   "metadata": {
    "tags": []
   },
   "source": [
    "### Liller1\n",
    "Ferraro21: https://ui.adsabs.harvard.edu/abs/2021NatAs...5..311F/abstract  \n",
    "Multiple populations, we use the oldest. Not clear if it is a genuine GC?"
   ]
  },
  {
   "cell_type": "code",
   "execution_count": 64,
   "id": "c370fba8-c997-4d0a-8df3-dc07ab138cd4",
   "metadata": {
    "tags": []
   },
   "outputs": [],
   "source": [
    "individual_data[\"Ferraro21\"] = {\"Liller1\":\n",
    "                                {\"Fe_H\": -0.4, \"Alpha_Fe\": 0.2,\n",
    "                                 \"Age\": 12, \"Age_Err\": 1.5,\n",
    "                                 }\n",
    "                                }\n",
    "\n",
    "paper_age[\"Ferraro21\"] = 2021"
   ]
  },
  {
   "cell_type": "code",
   "execution_count": null,
   "id": "bcf0cc07-3966-4c0e-84ab-9bf2f648ac1f",
   "metadata": {},
   "outputs": [],
   "source": []
  },
  {
   "cell_type": "markdown",
   "id": "653a20a4-431b-47fd-8d88-988dabe1dae1",
   "metadata": {},
   "source": [
    "## Add Indiviudal Data"
   ]
  },
  {
   "cell_type": "code",
   "execution_count": 65,
   "id": "d8d2a6ab-3637-4245-8e37-ec78f3dabca0",
   "metadata": {
    "scrolled": true,
    "tags": []
   },
   "outputs": [
    {
     "name": "stdout",
     "output_type": "stream",
     "text": [
      "Kerber18\n",
      "Number of total GCs: 183\n",
      "Dias15\n",
      "Number of total GCs: 183\n",
      "Vandenberg16\n",
      "Number of total GCs: 183\n",
      "Bonatto20\n",
      "Number of total GCs: 183\n",
      "Weisz16\n",
      "Number of total GCs: 183\n",
      "Hempel14\n",
      "Number of total GCs: 183\n",
      "Kim16\n",
      "Number of total GCs: 183\n",
      "Munoz12\n",
      "Number of total GCs: 183\n",
      "Davoust11\n",
      "Number of total GCs: 183\n",
      "Andreas17\n",
      "Number of total GCs: 183\n",
      "Buckner16\n",
      "Number of total GCs: 183\n",
      "Ryu18\n",
      "Number of total GCs: 183\n",
      "Bragaglia15\n",
      "Number of total GCs: 183\n",
      "Simpson17\n",
      "Number of total GCs: 183\n",
      "Cornish06\n",
      "Number of total GCs: 183\n",
      "Johnson17\n",
      "Number of total GCs: 183\n",
      "Arellano15\n",
      "Number of total GCs: 183\n",
      "Cardelano20\n",
      "Number of total GCs: 183\n",
      "Kerber20\n",
      "Number of total GCs: 183\n",
      "Barbuy16\n",
      "Number of total GCs: 183\n",
      "Romero21\n",
      "Number of total GCs: 183\n",
      "Vilanova19\n",
      "Number of total GCs: 183\n",
      "Barba19\n",
      "Number of total GCs: 183\n",
      "DAntona22\n",
      "Number of total GCs: 183\n",
      "Johnon19\n",
      "Number of total GCs: 183\n",
      "Souza21\n",
      "Number of total GCs: 183\n",
      "Pallanca21\n",
      "Number of total GCs: 183\n",
      "Munoz17\n",
      "Number of total GCs: 183\n",
      "Fernandez20\n",
      "Number of total GCs: 183\n",
      "Fernandez21\n",
      "Number of total GCs: 183\n",
      "Ortolani19\n",
      "Number of total GCs: 183\n",
      "Barbuy21\n",
      "Number of total GCs: 183\n",
      "Munoz18\n",
      "Number of total GCs: 183\n",
      "Gran21\n",
      "Number of total GCs: 183\n",
      "Simpson18\n",
      "Number of total GCs: 183\n",
      "Munoz20\n",
      "Number of total GCs: 183\n",
      "Barbuy18\n",
      "Number of total GCs: 183\n",
      "Valenti11\n",
      "Number of total GCs: 183\n",
      "Saracino19\n",
      "Number of total GCs: 183\n",
      "Balbinot10\n",
      "Number of total GCs: 183\n",
      "Rain19\n",
      "Number of total GCs: 183\n",
      "Diakogiannis14\n",
      "Number of total GCs: 183\n",
      "Lewis06\n",
      "Number of total GCs: 183\n",
      "Ortolani13\n",
      "Number of total GCs: 183\n",
      "Hughes17\n",
      "Number of total GCs: 183\n",
      "Longeard19\n",
      "Number of total GCs: 183\n",
      "Carretta14\n",
      "Number of total GCs: 183\n",
      "Ferraro21\n",
      "Number of total GCs: 183\n"
     ]
    }
   ],
   "source": [
    "data = add_individual_data(data, individual_data)"
   ]
  },
  {
   "cell_type": "code",
   "execution_count": 66,
   "id": "be35b475-5bfb-4b52-9210-f4c2d0f0e37e",
   "metadata": {
    "tags": []
   },
   "outputs": [],
   "source": [
    "reverse_alt_name_dic = {}\n",
    "for n in name_parse.keys():\n",
    "    name = name_parse[n]\n",
    "    alt_names = reverse_alt_name_dic.get(name, [])\n",
    "    alt_names.append(n)\n",
    "    reverse_alt_name_dic[name] = alt_names"
   ]
  },
  {
   "cell_type": "code",
   "execution_count": 67,
   "id": "9168e7b6-03b8-4710-977b-c5919e8516c2",
   "metadata": {
    "scrolled": true,
    "tags": []
   },
   "outputs": [
    {
     "name": "stdout",
     "output_type": "stream",
     "text": [
      "47Tuc ['NGC104', '47Tuc']\n",
      "NGC288 ['NGC288']\n",
      "NGC362 ['NGC362']\n",
      "Whiting1 ['Whiting1']\n",
      "NGC1261 ['NGC1261']\n",
      "Pal1 ['Pal1']\n",
      "AM1 ['AM1']\n",
      "Eridanus ['Eridanus']\n",
      "Pal2 ['Pal2']\n",
      "NGC1851 ['NGC1851']\n",
      "M79 ['NGC1904', 'M79']\n",
      "NGC2298 ['NGC2298']\n",
      "NGC2419 ['NGC2419']\n",
      "Ko2 ['Ko2']\n",
      "Pyxis ['Pyxis']\n",
      "NGC2808 ['NGC2808']\n",
      "E3 ['ESO371', 'E3']\n",
      "Pal3 ['Pal3']\n",
      "NGC3201 ['NGC3201']\n",
      "ESO93 ['ESO93']\n",
      "Pal4 ['Pal4']\n",
      "Crater ['Laevens1', 'Crater']\n",
      "Bliss1 ['Bliss1']\n",
      "Ko1 ['Ko1']\n",
      "NGC4147 ['NGC4147']\n",
      "NGC4372 ['NGC4372']\n",
      "Rup106 ['Rup106']\n",
      "M68 ['NGC4590', 'M68']\n",
      "BH140 ['BH140']\n",
      "NGC4833 ['NGC4833']\n",
      "M53 ['NGC5024', 'M53']\n",
      "NGC5053 ['NGC5053']\n",
      "Kim3 ['Kim3']\n",
      "oCen ['NGC5139', 'oCen']\n",
      "M3 ['NGC5272', 'M3']\n",
      "NGC5286 ['NGC5286']\n",
      "AM4 ['AM4']\n",
      "NGC5466 ['NGC5466']\n",
      "NGC5634 ['NGC5634']\n",
      "NGC5694 ['NGC5694']\n",
      "IC4499 ['IC4499']\n",
      "Munoz1 ['Munoz1']\n",
      "NGC5824 ['NGC5824']\n",
      "Pal5 ['Pal5']\n",
      "NGC5897 ['NGC5897']\n",
      "M5 ['NGC5904', 'M5']\n",
      "NGC5927 ['NGC5927']\n",
      "NGC5946 ['NGC5946']\n",
      "BH176 ['BH176']\n",
      "NGC5986 ['NGC5986']\n",
      "FSR1716 ['FSR1716']\n",
      "Pal14 ['Arp1', 'Pal14']\n",
      "Lynga7 ['Lynga7', 'BH184']\n",
      "NGC6093 ['NGC6093', 'M80']\n",
      "Ryu059 ['RLGC1', 'Ryu05', 'Ryu059']\n",
      "NGC6121 ['NGC6121', 'M4']\n",
      "NGC6101 ['NGC6101']\n",
      "NGC6144 ['NGC6144']\n",
      "NGC6139 ['NGC6139']\n",
      "Terzan3 ['Terzan3']\n",
      "NGC6171 ['NGC6171', 'M107']\n",
      "ESO452 ['1636-283', 'ESO452']\n",
      "NGC6205 ['NGC6205', 'M13']\n",
      "NGC6229 ['NGC6229']\n",
      "NGC6218 ['NGC6218', 'M12']\n",
      "FSR1735 ['FSR1735']\n",
      "NGC6235 ['NGC6235']\n",
      "NGC6254 ['NGC6254', 'M10']\n",
      "NGC6256 ['NGC6256']\n",
      "Pal15 ['Pal15']\n",
      "NGC6266 ['NGC6266', 'M62']\n",
      "NGC6273 ['NGC6273', 'M19']\n",
      "NGC6284 ['NGC6284']\n",
      "NGC6287 ['NGC6287']\n",
      "NGC6293 ['NGC6293']\n",
      "NGC6304 ['NGC6304']\n",
      "NGC6316 ['NGC6316']\n",
      "M92 ['NGC6341', 'M92']\n",
      "NGC6325 ['NGC6325']\n",
      "NGC6333 ['NGC6333', 'M9']\n",
      "NGC6342 ['NGC6342']\n",
      "NGC6356 ['NGC6356']\n",
      "NGC6355 ['NGC6355']\n",
      "NGC6352 ['NGC6352']\n",
      "IC1257 ['IC1257']\n",
      "Terzan2 ['Terzan2', 'HP3']\n",
      "NGC6366 ['NGC6366']\n",
      "Terzan4 ['Terzan4', 'HP4']\n",
      "HP1 ['HP1', 'BH229']\n",
      "FSR1758 ['FSR1758']\n",
      "NGC6362 ['NGC6362']\n",
      "Liller1 ['Liller1']\n",
      "NGC6380 ['NGC6380', 'Ton1']\n",
      "Terzan1 ['Terzan1', 'HP2']\n",
      "Ton2 ['Ton2', 'Pismis26']\n",
      "NGC6388 ['NGC6388']\n",
      "NGC6402 ['NGC6402', 'M14']\n",
      "NGC6401 ['NGC6401']\n",
      "NGC6397 ['NGC6397']\n",
      "VVVCL002 ['VVVCL002']\n",
      "Pal6 ['Pal6']\n",
      "NGC6426 ['NGC6426']\n",
      "Djorg1 ['Djorg1']\n",
      "Terzan5 ['Terzan5', '11']\n",
      "NGC6440 ['NGC6440']\n",
      "NGC6441 ['NGC6441']\n",
      "Terzan6 ['Terzan6', 'HP5']\n",
      "NGC6453 ['NGC6453']\n",
      "UKS1 ['UKS1']\n",
      "VVVCL001 ['VVVCL001']\n",
      "Gran1 ['Gran1']\n",
      "Pfleiderer2 ['Pfleiderer2']\n",
      "NGC6496 ['NGC6496']\n",
      "Terzan9 ['Terzan9']\n",
      "Djorg2 ['Djorg2', 'ESO456']\n",
      "NGC6517 ['NGC6517']\n",
      "Terzan10 ['Terzan10']\n",
      "NGC6522 ['NGC6522']\n",
      "NGC6535 ['NGC6535']\n",
      "NGC6528 ['NGC6528']\n",
      "NGC6539 ['NGC6539']\n",
      "NGC6540 ['NGC6540', 'Djorg3']\n",
      "NGC6544 ['NGC6544']\n",
      "NGC6541 ['NGC6541']\n",
      "ESO-SC06 ['ESO280', 'ESO-SC06']\n",
      "NGC6553 ['NGC6553']\n",
      "NGC6558 ['NGC6558']\n",
      "IC1276 ['IC1276', 'Pal7']\n",
      "Terzan12 ['Terzan12']\n",
      "NGC6569 ['NGC6569']\n",
      "BH261 ['BH261', 'AL3']\n",
      "NGC6584 ['NGC6584']\n",
      "Mercer5 ['Mercer5']\n",
      "NGC6624 ['NGC6624']\n",
      "NGC6626 ['NGC6626', 'M28']\n",
      "NGC6638 ['NGC6638']\n",
      "NGC6637 ['NGC6637', 'M69']\n",
      "NGC6642 ['NGC6642']\n",
      "NGC6652 ['NGC6652']\n",
      "NGC6656 ['NGC6656', 'M22']\n",
      "Pal8 ['Pal8']\n",
      "NGC6681 ['NGC6681', 'M70']\n",
      "Ryu879 ['RLGC2', 'Ryu87', 'Ryu879']\n",
      "NGC6712 ['NGC6712']\n",
      "NGC6715 ['NGC6715', 'M54']\n",
      "NGC6717 ['NGC6717', 'Pal9']\n",
      "NGC6723 ['NGC6723']\n",
      "NGC6749 ['NGC6749']\n",
      "NGC6752 ['NGC6752']\n",
      "NGC6760 ['NGC6760']\n",
      "NGC6779 ['NGC6779', 'M56']\n",
      "Terzan7 ['Terzan7', 'Ter7']\n",
      "Pal10 ['Pal10']\n",
      "Arp2 ['Arp2']\n",
      "NGC6809 ['NGC6809', 'M55']\n",
      "Terzan8 ['Terzan8', 'Ter8']\n",
      "Pal11 ['Pal11']\n",
      "M71 ['NGC6838', 'M71']\n",
      "NGC6864 ['NGC6864', 'M75']\n",
      "NGC6934 ['NGC6934']\n",
      "NGC6981 ['NGC6981', 'M72']\n",
      "NGC7006 ['NGC7006']\n",
      "Laevens3 ['Laevens3']\n",
      "Segue3 ['Segue3']\n",
      "M15 ['NGC7078', 'M15']\n",
      "NGC7089 ['NGC7089', 'M2']\n",
      "NGC7099 ['NGC7099', 'M30']\n",
      "Pal12 ['Pal12']\n",
      "Pal13 ['Pal13']\n",
      "NGC7492 ['-', 'NGC7492', '']\n",
      "GLIMPSE01 ['GLIMPSE01']\n",
      "GLIMPSE02 ['GLIMPSE02']\n",
      "SagittariusII ['SagittariusII']\n",
      "2MASS ['2MASS']\n",
      "Ruprecht106 ['Ruprecht106']\n",
      "Berk29 ['Berk29']\n",
      "Saurer1 ['Saurer1']\n",
      "Gran2 ['Gran2']\n",
      "Gran3 ['Gran3']\n",
      "Gran4 ['Gran4']\n",
      "Gran5 ['Gran5']\n",
      "Dorg1 ['Dorg1']\n",
      "Dorg2 ['Dorg2']\n"
     ]
    }
   ],
   "source": [
    "for g in data.keys():\n",
    "    try:\n",
    "        print(g, reverse_alt_name_dic[g])\n",
    "    except Exception as e:\n",
    "        print(\"Failed:\", e)"
   ]
  },
  {
   "cell_type": "markdown",
   "id": "bc2fa913-77b7-4fe3-8e0a-305757df6669",
   "metadata": {},
   "source": [
    "## CHECK:\n",
    "- 2MASS, 2MASSGC02, 2MS-GC01, GLIMPSE2  \n",
    "- RLGC and RYU  \n",
    "- SagittariusII  \n",
    "- ESO280SC06, ESO280  \n",
    "- NGC7492 has '-' and ''?"
   ]
  },
  {
   "cell_type": "code",
   "execution_count": null,
   "id": "4ce2e4d4-222a-4e78-8180-6c895968231b",
   "metadata": {},
   "outputs": [],
   "source": []
  },
  {
   "cell_type": "code",
   "execution_count": 68,
   "id": "129287ae-2a13-49ab-a79d-258fe149df59",
   "metadata": {},
   "outputs": [
    {
     "name": "stdout",
     "output_type": "stream",
     "text": [
      "{'Kruijssen19': -2.18, 'Dotter10': -2.4, 'Forbes10': -1.8, 'VandenBerg13': -2.34, 'Harris10': -2.16, 'Vasquez18': -2.12, 'Saviane12': -2.12, 'Dias15': -2.06, 'Carretta14': -2.27}\n"
     ]
    }
   ],
   "source": [
    "print(data[\"Terzan8\"][\"Fe_H\"])"
   ]
  },
  {
   "cell_type": "code",
   "execution_count": 69,
   "id": "04e0224e-0024-4206-8a22-c7830235fdac",
   "metadata": {},
   "outputs": [],
   "source": [
    "# ngcs = [\"NGC6528\", \"NGC6553\", \"M71\", \"NGC6558\", \"NGC6426\", \"Terzan8\"]\n",
    "ngcs = [\"M3\", \"M15\", \"M92\"]"
   ]
  },
  {
   "cell_type": "code",
   "execution_count": 70,
   "id": "b3dc4d93-888d-48f7-a398-8af50fa1e984",
   "metadata": {},
   "outputs": [
    {
     "name": "stdout",
     "output_type": "stream",
     "text": [
      "{'Kruijssen19': 11.88, 'Dotter10': 12.5, 'Forbes10': 11.39, 'VandenBerg13': 11.75, 'OMalley17': 11.3, 'Vandenberg16': 12.5}\n",
      "{'Kruijssen19': 12.98, 'Dotter10': 13.25, 'Forbes10': 12.93, 'VandenBerg13': 12.75, 'Roediger13': 12.9, 'OMalley17': 12.6, 'Vandenberg16': 12.5}\n",
      "{'Kruijssen19': 13.06, 'Dotter10': 13.25, 'Forbes10': 13.18, 'VandenBerg13': 12.75, 'OMalley17': 13.1, 'Vandenberg16': 12.5}\n"
     ]
    }
   ],
   "source": [
    "for gc in ngcs:\n",
    "    gc = name_parse[gc]\n",
    "    print(data[gc][\"Age\"])"
   ]
  },
  {
   "cell_type": "markdown",
   "id": "93349f87-127b-4321-a05d-0106c803fd5a",
   "metadata": {},
   "source": [
    "# Combining AMR Data\n",
    "- Check Prefered status. If none found, then:\n",
    "- Prefer the most recent data\n",
    "- If age-metallicity found together, prefer the result\n",
    "- Average the result?"
   ]
  },
  {
   "cell_type": "markdown",
   "id": "c26e8821-2e66-42ef-bb0f-021d04be6598",
   "metadata": {},
   "source": [
    "## List Data"
   ]
  },
  {
   "cell_type": "code",
   "execution_count": 71,
   "id": "51ecd324-0608-4174-b630-994cf1e897e7",
   "metadata": {},
   "outputs": [
    {
     "name": "stdout",
     "output_type": "stream",
     "text": [
      "183\n",
      "N Met: 171\n",
      "N Age: 129\n",
      "N Mass: 166\n",
      "N Dyn: 176\n"
     ]
    }
   ],
   "source": [
    "names = list(data.keys())\n",
    "print(len(names))\n",
    "N_Met = 0\n",
    "N_Age = 0\n",
    "N_Mass = 0\n",
    "N_Dyn = 0\n",
    "for n in names:\n",
    "    gc_data = data[n]\n",
    "    props = list(gc_data.keys())\n",
    "    if \"Fe_H\" in props:\n",
    "        N_Met += 1\n",
    "        # print(n, gc_data[\"Fe_H\"])\n",
    "    if \"Age\" in props:\n",
    "        N_Age += 1\n",
    "    if \"Mass\" in props:\n",
    "        N_Mass += 1\n",
    "    if \"vlos\" in props:\n",
    "        N_Dyn += 1\n",
    "print(f\"N Met: {N_Met}\")\n",
    "print(f\"N Age: {N_Age}\")\n",
    "print(f\"N Mass: {N_Mass}\")\n",
    "print(f\"N Dyn: {N_Dyn}\")"
   ]
  },
  {
   "cell_type": "markdown",
   "id": "f3aa2c71-4026-45c8-8cba-f526cc2ddd0c",
   "metadata": {},
   "source": [
    "# Final Data"
   ]
  },
  {
   "cell_type": "code",
   "execution_count": null,
   "id": "8ab8849d-2c34-42ed-bd1b-21e069fb5ee3",
   "metadata": {},
   "outputs": [],
   "source": [
    "def find_latest_data(data):\n",
    "    names = list(data.keys())\n",
    "    latest_data = {}\n",
    "    for gc in names:\n",
    "        latest_data[gc] = find_latest_individual_data(data[gc])\n",
    "    return latest_data\n",
    "\n",
    "def find_latest_individual_data(gc_data):\n",
    "    props = list(gc_data.keys())\n",
    "    for x in props:\n",
    "        papers = list(gc_data[x].keys())\n",
    "        for p in papers:\n",
    "            year = paper_age[p]\n",
    "        \n",
    "    return"
   ]
  },
  {
   "cell_type": "markdown",
   "id": "a10745d9-2c5d-44de-8d4c-831adadb7cb2",
   "metadata": {},
   "source": [
    "## List Data"
   ]
  },
  {
   "cell_type": "markdown",
   "id": "4bd9d65b-2c14-4825-b512-3a6dc1c3351f",
   "metadata": {},
   "source": [
    "## Require Dynamics"
   ]
  },
  {
   "cell_type": "markdown",
   "id": "969e6243-9785-4070-998e-94f73c6697a9",
   "metadata": {},
   "source": [
    "## Require Dynamics, AMR, Mass/Mv"
   ]
  }
 ],
 "metadata": {
  "kernelspec": {
   "display_name": "Python 3 (ipykernel)",
   "language": "python",
   "name": "python3"
  },
  "language_info": {
   "codemirror_mode": {
    "name": "ipython",
    "version": 3
   },
   "file_extension": ".py",
   "mimetype": "text/x-python",
   "name": "python",
   "nbconvert_exporter": "python",
   "pygments_lexer": "ipython3",
   "version": "3.9.7"
  },
  "toc-autonumbering": true
 },
 "nbformat": 4,
 "nbformat_minor": 5
}
