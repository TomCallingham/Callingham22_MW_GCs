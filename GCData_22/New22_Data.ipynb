{
 "cells": [
  {
   "cell_type": "markdown",
   "id": "659e74dd-db88-432e-9c1f-f6bb0a6ef2d7",
   "metadata": {},
   "source": [
    "# Notebook compilation of data\n",
    "An attempt to compile known GC data, and select the best/latest available."
   ]
  },
  {
   "cell_type": "markdown",
   "id": "938dc64c-c61b-4c69-9f23-e2c7ce3e657a",
   "metadata": {},
   "source": [
    "## TODO\n",
    "- [ ] Make sensible selection of best\n",
    "- [ ] Check Gran Physical Coords\n",
    "- [ ] Check Systematics of AMR  \n",
    "    - [ ] Differences in Isochrones, BaSTi, DSED, BaSTi Alpha enhanced, BaSTI sometimes corrected BaSTi with an age shift due to atomic diffusion ect\n",
    "    "
   ]
  },
  {
   "cell_type": "markdown",
   "id": "b0e531b2-a015-4aaa-b1fe-40d8e71b5ace",
   "metadata": {},
   "source": [
    "## Name Preferencse\n",
    "Alt Names gives preferences of  variants on a single name  \n",
    "name_parse gives the preferences of alternative names of a GC\n"
   ]
  },
  {
   "cell_type": "code",
   "execution_count": 1,
   "id": "a8b53011-61cb-4b3a-875f-2ad9793b34db",
   "metadata": {},
   "outputs": [],
   "source": [
    "import numpy as np"
   ]
  },
  {
   "cell_type": "code",
   "execution_count": 2,
   "id": "5e1e9774-9825-4a53-87a2-295aab7df907",
   "metadata": {},
   "outputs": [],
   "source": [
    "from ParseNames import process_names, name_parse,alt_name_parse, create_alt_name_list\n",
    "from ParseProperty import property_parser, process_properties"
   ]
  },
  {
   "cell_type": "code",
   "execution_count": 3,
   "id": "1447d822-d107-43b9-8d2d-e9a5fcab269f",
   "metadata": {
    "tags": []
   },
   "outputs": [],
   "source": [
    "from DataFuncs import data_add_function, data_dic_to_gc_dic, data_array_to_gc_dic, gc_dic_to_data_dic"
   ]
  },
  {
   "cell_type": "code",
   "execution_count": 4,
   "id": "74b0803d-c6e5-4fd0-a129-300f1c6a0519",
   "metadata": {
    "tags": []
   },
   "outputs": [],
   "source": [
    "paper_age = {}\n",
    "data = {}"
   ]
  },
  {
   "cell_type": "markdown",
   "id": "2b976207-516c-4ce8-9262-d907fda24129",
   "metadata": {
    "tags": []
   },
   "source": [
    "# Larger Data Files\n",
    "Read in csv/txt files\n",
    "## Dynamics"
   ]
  },
  {
   "cell_type": "markdown",
   "id": "df79f6ef-8a2d-484f-977e-a568c8f0ae4e",
   "metadata": {},
   "source": [
    "### Vasiliev"
   ]
  },
  {
   "cell_type": "code",
   "execution_count": 5,
   "id": "induced-small",
   "metadata": {
    "scrolled": true,
    "tags": []
   },
   "outputs": [
    {
     "name": "stdout",
     "output_type": "stream",
     "text": [
      "(170, 18)\n"
     ]
    }
   ],
   "source": [
    "def load_Vasilev21_Data_Dic():\n",
    "    # Eugene Vasilev read script\n",
    "    tab = np.loadtxt('DataFiles/GC_Sky_Vasilev2021.txt', dtype=str)\n",
    "    print(np.shape(tab))\n",
    "    sky_data = {}\n",
    "    sky_data['name'] = tab[:, 0]   # 0th column is the cluster name (string)\n",
    "    sky_data['name2'] = tab[:, 1]   # 0th column is the cluster name (string)\n",
    "    tab = tab[:, 2:].astype(float)  # remaining columns are numbers\n",
    "    sky_data['ra_deg'] = tab[:, 0]   # coordinates of cluster centers [deg]\n",
    "    sky_data['dec_deg'] = tab[:, 1]\n",
    "    sky_data['dist'] = tab[:, 2]   # distance [kpc]\n",
    "    diste = tab[:, 3]   # distance error [kpc]\n",
    "    diste[~np.isfinite(diste)] = sky_data['dist'][~np.isfinite(diste)] * 0.05\n",
    "    sky_data['dist_err'] = diste   # distance error [kpc]\n",
    "    sky_data['vlos'] = tab[:, 4]   # line-of-sight velocity [km/s]\n",
    "    vlose = tab[:, 5]   # its error estimate\n",
    "    # assumed error of at least 2 km/s on line-of-sight velocity\n",
    "    sky_data['vlos_err'] = np.maximum(vlose, 2.0)\n",
    "    sky_data['pmra'] = tab[:, 8]   # mean proper motion [mas/yr]\n",
    "    sky_data['pmdec'] = tab[:, 9]\n",
    "    sky_data['pmra_err'] = tab[:, 10]   # its uncertainty\n",
    "    sky_data['pmdec_err'] = tab[:, 11]\n",
    "    # correlation coefficient for errors in two PM components\n",
    "    sky_data['pmcorr'] = tab[:, 12]\n",
    "    # assumed error of 0.1 mag in distance modulus when not known\n",
    "    return sky_data\n",
    "\n",
    "\n",
    "Vasilev21_data_dic = load_Vasilev21_Data_Dic()\n",
    "Vasilev21_dic = data_dic_to_gc_dic(Vasilev21_data_dic)\n",
    "data = data_add_function(data, Vasilev21_dic, data_name='Vasilev21')\n",
    "paper_age[\"Vasilev21\"] = 2021"
   ]
  },
  {
   "cell_type": "markdown",
   "id": "c4446db4-e862-4281-a85f-479c87cf74aa",
   "metadata": {},
   "source": [
    "### Baumb Distances"
   ]
  },
  {
   "cell_type": "code",
   "execution_count": 6,
   "id": "a35c03f6-9485-48a0-9e71-004439e9bc36",
   "metadata": {},
   "outputs": [
    {
     "name": "stdout",
     "output_type": "stream",
     "text": [
      "New GC: GLIMPSE01\n",
      "New GC: GLIMPSE02\n",
      "New GC: SagittariusII\n"
     ]
    }
   ],
   "source": [
    "def Baumgardt_GC_obs_load_sky():\n",
    "    tab = np.loadtxt(\"DataFiles/Baumgardt21_sky.txt\", dtype=str, skiprows=2)\n",
    "    sky_data = {}\n",
    "    Name = tab[:, 0].astype('<U20')   # 0th column is the cluster name (string)\n",
    "    Name = np.char.replace(Name, ' ', '')\n",
    "    Name = np.char.replace(Name, '_', '')\n",
    "    Name = np.char.replace(Name, '-', '')\n",
    "    Name = np.char.replace(Name, 'Ter', 'Terzan')\n",
    "    Name = np.char.replace(Name, 'Lae', 'Laevens')\n",
    "    Name = np.char.replace(Name, 'Djor', 'Djorg')\n",
    "    Name = np.char.replace(Name, 'Lil', 'Liller')\n",
    "    sky_data['name'] = Name\n",
    "    tab = tab[:, 1:].astype(float)  # remaining columns are numbers\n",
    "    sky_data['ra_deg'] = tab[:, 0]   # coordinates of cluster centers [deg]\n",
    "    sky_data['dec_deg'] = tab[:, 1]\n",
    "    sky_data['l_deg'] = tab[:, 2]   # coordinates of cluster centers [deg]\n",
    "    sky_data['b_deg'] = tab[:, 3]   # coordinates of cluster centers [deg]\n",
    "    sky_data['dist'] = tab[:, 4]   # distance [kpc]\n",
    "    diste = tab[:, 5]   # distance error [kpc]\n",
    "    diste[~np.isfinite(diste)] = sky_data['dist'][~np.isfinite(diste)] * 0.05\n",
    "    sky_data['dist_err'] = diste   # distance error [kpc]\n",
    "    # sky_data['R_GC'] = tab[:, 6]\n",
    "    sky_data['vlos'] = tab[:, 7]   # line-of-sight velocity [km/s]\n",
    "    vlose = tab[:, 8]   # its error estimate\n",
    "    # np.maximum(vlose, 2.0)  # assumed error of at least 2 km/s on line-of-sight velocity\n",
    "    sky_data['vlos_err'] = vlose\n",
    "    sky_data['pmra'] = tab[:, 9]   # mean proper motion [mas/yr]\n",
    "    sky_data['pmra_err'] = tab[:, 10]   # its uncertainty\n",
    "    sky_data['pmdec'] = tab[:, 11]\n",
    "    sky_data['pmdec_err'] = tab[:, 12]\n",
    "    # correlation coefficient for errors in two PM components\n",
    "    sky_data['pmcorr'] = tab[:, 13]\n",
    "    # assumed error of 0.1 mag in distance modulus when not known\n",
    "    return sky_data\n",
    "\n",
    "\n",
    "Baumgardt21_data_dic = Baumgardt_GC_obs_load_sky()\n",
    "Baumgardt21_dic = data_dic_to_gc_dic(Baumgardt21_data_dic)\n",
    "data = data_add_function(data, Baumgardt21_dic, data_name='Baumgardt21')\n",
    "paper_age[\"Baumgardt21\"] = 2021.5"
   ]
  },
  {
   "cell_type": "markdown",
   "id": "e0ab5cb3-baf6-4178-84aa-5f9d1b1bb163",
   "metadata": {},
   "source": [
    "## AMR + Mass/Magnitude"
   ]
  },
  {
   "cell_type": "markdown",
   "id": "48fe49a7-8af1-469d-8d9f-66d94e35708f",
   "metadata": {},
   "source": [
    "### Baumgardt Cluster Mass\n",
    "https://ui.adsabs.harvard.edu/abs/2018MNRAS.478.1520B/abstract  \n",
    "https://people.smp.uq.edu.au/HolgerBaumgardt/globular/parameter.html\n",
    "Fits N-body Simulatons to velocity dispersion and surface density profiles."
   ]
  },
  {
   "cell_type": "code",
   "execution_count": 7,
   "id": "230e2959-35d1-444e-82ef-a8157ab8c1bf",
   "metadata": {
    "scrolled": true,
    "tags": []
   },
   "outputs": [
    {
     "name": "stdout",
     "output_type": "stream",
     "text": [
      "(161, 2)\n",
      "New GC: 2MASS\n",
      "New GC: 2MASS\n"
     ]
    }
   ],
   "source": [
    "Baumgardt_GC_array = np.loadtxt(\"DataFiles/Baumgardt_GC_Mass.csv\",\n",
    "                                skiprows=1, dtype=str, delimiter=',')\n",
    "Baumgardt_GC_Columns = [\"Name\", \"Mass\"]\n",
    "print(np.shape(Baumgardt_GC_array))\n",
    "Baumgardt_GC_dic = data_array_to_gc_dic(Baumgardt_GC_array, Baumgardt_GC_Columns)\n",
    "data = data_add_function(data, Baumgardt_GC_dic, data_name='Baumgardt_Mass18')\n",
    "paper_age[\"Baumgardt_Mass18\"] = 2018"
   ]
  },
  {
   "cell_type": "markdown",
   "id": "447bd2b1-fec4-45bd-8bdf-32ac97c65c2c",
   "metadata": {
    "tags": []
   },
   "source": [
    "### Kruijssen19 Sample\n",
    "https://ui.adsabs.harvard.edu/abs/2019MNRAS.486.3180K/abstract\n",
    "Data used in Kruijssen19. 3 Sources, Kuijssen takes average of available. Use all from sources, as some missing data added by other sources."
   ]
  },
  {
   "cell_type": "code",
   "execution_count": 8,
   "id": "a4e4061a-aed3-4e1b-9e27-090106b2e315",
   "metadata": {},
   "outputs": [],
   "source": [
    "Kruijssen19_array = np.loadtxt(\"DataFiles/Kruijssen19.csv\", skiprows=1, dtype=str, delimiter=',')\n",
    "# Name, Met, Alpha, Age, Age Err\n",
    "Kruijssen19_Columns = ['Name', 'Mv', 'Mass', 'Age', 'Age_Err', 'Fe_H']\n",
    "Kruijssen19_array[:, 2] = (10 ** np.array(Kruijssen19_array[:, 2].astype(float))).astype(str)\n",
    "Kruijssen19_dic = data_array_to_gc_dic(Kruijssen19_array, Kruijssen19_Columns)\n",
    "data = data_add_function(data, Kruijssen19_dic, data_name='Kruijssen19')\n",
    "paper_age[\"Kruijssen19\"] = 2013"
   ]
  },
  {
   "cell_type": "markdown",
   "id": "94eb98f1-faef-4230-af85-1964f4c6702d",
   "metadata": {},
   "source": [
    "#### Dotter\n",
    "Dotter 11 added onto the back of the datafile. \n",
    "https://ui.adsabs.harvard.edu/abs/2010ApJ...708..698D/abstract  \n",
    "https://ui.adsabs.harvard.edu/abs/2011ApJ...738...74D/abstract  \n",
    "\n",
    "Fit Dartmouth isochrones to CMD data.  \n",
    "Dartmouth Isochrones (DSEP) used detailed in https://ui.adsabs.harvard.edu/abs/2007AJ....134..376D/abstract   \n",
    "Not a commonly used isochrone - biases?\n",
    "DSEP not good add low metallicity?\n",
    "\n",
    "Best fit age from isochrone MSTO through the subgiant branch.\n"
   ]
  },
  {
   "cell_type": "code",
   "execution_count": 9,
   "id": "8fb4356d-1b30-4515-8092-39186e23a8bf",
   "metadata": {},
   "outputs": [
    {
     "name": "stdout",
     "output_type": "stream",
     "text": [
      "(62, 5)\n",
      "New GC: Ruprecht106\n"
     ]
    }
   ],
   "source": [
    "Dotter10_array = np.loadtxt(\"DataFiles/Dotter10.csv\", skiprows=1, dtype=str, delimiter=',')\n",
    "# Name, Met, Alpha, Age, Age Err\n",
    "Dotter10_Columns = ['Name', 'Fe_H', 'Alpha_Fe', 'Age', 'Age_Err']\n",
    "print(np.shape(Dotter10_array))\n",
    "Dotter10_dic = data_array_to_gc_dic(Dotter10_array, Dotter10_Columns)\n",
    "data = data_add_function(data, Dotter10_dic, data_name='Dotter10')\n",
    "paper_age['Dotter10'] = 2010"
   ]
  },
  {
   "cell_type": "markdown",
   "id": "b6615365-4925-495e-a257-520a2a22ea75",
   "metadata": {},
   "source": [
    "#### Forbes+Bridges10\n",
    "https://ui.adsabs.harvard.edu/abs/2010MNRAS.404.1203F/abstract   \n",
    "Note No Age errors?  \n",
    "\n",
    "Already a compilation of data!\n",
    "- 64 from  Marin-Franch 2009  (Dartmouth Isochrone), Normalised by assuming absolute metal poor age?\n",
    "- 13 from Angeli 2005, assuming same norm\n",
    "- 10 from Salaris 1995.\n",
    "- + Others\n",
    "Most comes from Marin-Franch"
   ]
  },
  {
   "cell_type": "code",
   "execution_count": 10,
   "id": "e23af079-2ebb-46ce-8258-3517d91bd98c",
   "metadata": {
    "scrolled": true,
    "tags": []
   },
   "outputs": [
    {
     "name": "stdout",
     "output_type": "stream",
     "text": [
      "(88, 3)\n",
      "New GC: Berk29\n",
      "New GC: Saurer1\n"
     ]
    }
   ],
   "source": [
    "Forbes10_array = np.loadtxt(\"DataFiles/Forbes10.csv\", skiprows=1, dtype=str, delimiter=',')\n",
    "Forbes10_Columns = ['Name', 'Age', 'Met']\n",
    "# No Age error?\n",
    "print(np.shape(Forbes10_array))\n",
    "Forbes10_dic = data_array_to_gc_dic(Forbes10_array, Forbes10_Columns)\n",
    "data = data_add_function(data, Forbes10_dic, data_name='Forbes10')\n",
    "paper_age[\"Forbes10\"] = 2010"
   ]
  },
  {
   "cell_type": "markdown",
   "id": "c46de527-aa7c-4d7d-b4bf-ffedb16de2f4",
   "metadata": {},
   "source": [
    "#### VandenBerg13\n",
    "https://ui.adsabs.harvard.edu/abs/2013ApJ...775..134V/abstract  \n",
    "Following Kruijssen, +1Gyr Uncertainty:  \n",
    "''' For the VandenBerg et al. (2013) sample, the uncertainties include the statistical uncertainty listed in their paper, as well as an additional uncertainty of 1 Gyr to account for uncertainties in distance and chemical abundances'''  \n",
    "Isochrone fit to MSTO"
   ]
  },
  {
   "cell_type": "code",
   "execution_count": 11,
   "id": "88870695-16ff-406b-81cb-e6275575a82d",
   "metadata": {
    "scrolled": true,
    "tags": []
   },
   "outputs": [
    {
     "name": "stdout",
     "output_type": "stream",
     "text": [
      "(55, 6)\n",
      "Adding 1GYR to errors\n"
     ]
    }
   ],
   "source": [
    "VandenBerg13_array = np.loadtxt(\"DataFiles/VandenBerg13.csv\", skiprows=1, dtype=str, delimiter=',')\n",
    "#NGC, Name, Met, Age, Age_Err, Mv\n",
    "VandenBerg13_Columns = ['NGC', 'Name', 'Met', 'Age', 'Age_Err', 'Mv']\n",
    "print(np.shape(VandenBerg13_array))\n",
    "print(\"Adding 1GYR to errors\")\n",
    "VandenBerg13_array[:, 4] = (VandenBerg13_array[:, 4].astype(float) + 1).astype(str)\n",
    "VandenBerg13_dic = data_array_to_gc_dic(VandenBerg13_array, VandenBerg13_Columns)\n",
    "data = data_add_function(data, VandenBerg13_dic, data_name='VandenBerg13')\n",
    "paper_age[\"VandenBerg13\"] = 2013"
   ]
  },
  {
   "cell_type": "markdown",
   "id": "1f00e975-da2e-4fac-8a06-2de2a7f58593",
   "metadata": {},
   "source": [
    "### Harris10\n",
    "https://physics.mcmaster.ca/~harris/mwgc.dat"
   ]
  },
  {
   "cell_type": "code",
   "execution_count": 12,
   "id": "6fcb7cdb-a5e1-4d93-923f-fa61d982b0e5",
   "metadata": {
    "scrolled": true,
    "tags": []
   },
   "outputs": [],
   "source": [
    "Harris10_array = np.loadtxt(\"DataFiles/Harris10.csv\", skiprows=1, dtype=str, delimiter=',')\n",
    "#Name,Met, Mvt\n",
    "Harris10_Columns = ['Name', 'Met', 'Mvt']\n",
    "Harris10_dic = data_array_to_gc_dic(Harris10_array, Harris10_Columns)\n",
    "data = data_add_function(data, Harris10_dic, data_name='Harris10')\n",
    "\n",
    "paper_age[\"Harris10\"] = 2010"
   ]
  },
  {
   "cell_type": "markdown",
   "id": "c3c863cb-f97a-4045-8629-bcc1d7ceca1b",
   "metadata": {},
   "source": [
    "### Roediger13\n",
    "https://ui.adsabs.harvard.edu/abs/2014ApJS..210...10R/abstract"
   ]
  },
  {
   "cell_type": "code",
   "execution_count": 13,
   "id": "a75141ff-e6de-4ec9-b8ee-861a96374860",
   "metadata": {
    "scrolled": true,
    "tags": []
   },
   "outputs": [
    {
     "name": "stdout",
     "output_type": "stream",
     "text": [
      "(41, 5)\n"
     ]
    }
   ],
   "source": [
    "Roediger13_array = np.loadtxt(\"DataFiles/Roediger13.csv\", skiprows=1, dtype=str, delimiter=',')\n",
    "Roediger13_Columns = ['Name', 'Age', 'Age_Err', 'Fe_H', 'Fe_H_err']\n",
    "print(np.shape(Roediger13_array))\n",
    "Roediger13_dic = data_array_to_gc_dic(Roediger13_array, Roediger13_Columns)\n",
    "data = data_add_function(data, Roediger13_dic, data_name='Roediger13')\n",
    "paper_age[\"Roediger13\"] = 2013"
   ]
  },
  {
   "cell_type": "markdown",
   "id": "667cdd3d-3866-4d4d-9a5d-82dcbe68b480",
   "metadata": {},
   "source": [
    "### OMalley17\n",
    "https://ui.adsabs.harvard.edu/abs/2017ApJ...838..162O/abstract"
   ]
  },
  {
   "cell_type": "code",
   "execution_count": 14,
   "id": "cbe7e90a-8d0b-4109-af9f-107e3a4d27f8",
   "metadata": {
    "scrolled": true,
    "tags": []
   },
   "outputs": [
    {
     "name": "stdout",
     "output_type": "stream",
     "text": [
      "(22, 6)\n"
     ]
    }
   ],
   "source": [
    "OMalley17_array = np.loadtxt(\"DataFiles/OMalley17.csv\", skiprows=1, dtype=str, delimiter=',')\n",
    "#Name, m_Mv, Age, Age_Err, Fe_H\n",
    "OMalley17_Columns = [\"Name\", \"m_Mv\", \"m_Mv_Err\", \"Age\", \"Age_Err\", \"Fe_H\"]\n",
    "print(np.shape(OMalley17_array))\n",
    "OMalley17_dic = data_array_to_gc_dic(OMalley17_array, OMalley17_Columns)\n",
    "data = data_add_function(data, OMalley17_dic, data_name='OMalley17')\n",
    "\n",
    "paper_age[\"OMalley17\"] = 2017"
   ]
  },
  {
   "cell_type": "markdown",
   "id": "1aea29da-1fbf-4159-8de7-c753b4cef67d",
   "metadata": {
    "tags": []
   },
   "source": [
    "### Vasquez18\n",
    "https://ui.adsabs.harvard.edu/abs/2018A%26A...619A..13V/abstract  \n",
    "Use  the most recent Fe_H_D16 data?  \n",
    "Also contains radial velocities!"
   ]
  },
  {
   "cell_type": "code",
   "execution_count": 15,
   "id": "ddf6e2ae-a5ce-4701-9f0d-e8273e1826ee",
   "metadata": {
    "scrolled": true,
    "tags": []
   },
   "outputs": [
    {
     "name": "stdout",
     "output_type": "stream",
     "text": [
      "(48, 3)\n"
     ]
    }
   ],
   "source": [
    "Vasquez18_array = np.loadtxt(\"DataFiles/Vasquez18.csv\", skiprows=1, dtype=str, delimiter=',')\n",
    "# Name, Fe_H D16, Fe_H_err, Fe_H_S12, Fe_H_err, Fe_H_V15, Fe_H_err, Fe_H_C09\n",
    "Vasquez18_array = Vasquez18_array[:, :3]\n",
    "Vasquez18_Columns = [\"Name\", \"Fe_H\", \"Fe_H_err\"]\n",
    "print(np.shape(Vasquez18_array))\n",
    "Vasquez18_dic = data_array_to_gc_dic(Vasquez18_array, Vasquez18_Columns)\n",
    "data = data_add_function(data, Vasquez18_dic, data_name='Vasquez18')\n",
    "\n",
    "paper_age[\"Vasquez18\"] = 2018"
   ]
  },
  {
   "cell_type": "markdown",
   "id": "7a274f23-e585-4d77-92f8-ddd04395fe07",
   "metadata": {
    "tags": []
   },
   "source": [
    "### Saviane12\n",
    "https://ui.adsabs.harvard.edu/abs/2012A%26A...540A..27S/abstract\n",
    "\n",
    "Use Fe_H_C09 data?"
   ]
  },
  {
   "cell_type": "code",
   "execution_count": 16,
   "id": "550a9b4e-1300-443f-a0df-6b4052136843",
   "metadata": {
    "scrolled": true,
    "tags": []
   },
   "outputs": [
    {
     "name": "stdout",
     "output_type": "stream",
     "text": [
      "(71, 4)\n"
     ]
    }
   ],
   "source": [
    "Saviane12_array = np.loadtxt(\"DataFiles/Saviane12.csv\", skiprows=1, dtype=str, delimiter=',')\n",
    "#Name, Name2, W, sigmaW, Fe_H_C09, err, Fe_H_H10, H10wt, Fe_H_C09_AP1, e\n",
    "Saviane12_array = Saviane12_array[:, [0, 1, 4, 5]]\n",
    "print(np.shape(Saviane12_array))\n",
    "Saviane12_Columns = [\"Name\", \"Name2\", \"Fe_H\", \"Fe_H_err\"]\n",
    "Saviane12_dic = data_array_to_gc_dic(Saviane12_array, Saviane12_Columns)\n",
    "data = data_add_function(data, Saviane12_dic, data_name='Saviane12')\n",
    "\n",
    "paper_age[\"Saviane12\"] = 2012"
   ]
  },
  {
   "cell_type": "markdown",
   "id": "bdbc9578-e326-45e6-8833-ddc60a1a150c",
   "metadata": {},
   "source": [
    "### Oliveria20\n",
    "https://ui.adsabs.harvard.edu/abs/2020ApJ...891...37O/abstract  \n",
    "HST\n"
   ]
  },
  {
   "cell_type": "code",
   "execution_count": 17,
   "id": "6640b5e0-be09-40b6-90e5-55eca86d7584",
   "metadata": {},
   "outputs": [],
   "source": [
    "Oliveria20_array = np.loadtxt(\"DataFiles/Oliveria20.csv\", skiprows=1, dtype=str, delimiter=',')\n",
    "Oliveria20_Columns = [\"Name\", \"Age\", \"Age_Err_1os\",\n",
    "                      \"Age_Err_1us\", \"Fe_H\", \"Fe_H_Err_1os\", \"Fe_H_Err_1us\"]\n",
    "Oliveria20_array[:, 2] = (10 ** np.array(Oliveria20_array[:, 2].astype(float))).astype(str)\n",
    "Oliveria20_dic = data_array_to_gc_dic(Oliveria20_array, Oliveria20_Columns)\n",
    "data = data_add_function(data, Oliveria20_dic, data_name='Oliveria20')\n",
    "paper_age[\"Oliveria20\"] = 2020"
   ]
  },
  {
   "cell_type": "markdown",
   "id": "ce0ac9d5-16ea-4aed-9381-bb7a2ca17bac",
   "metadata": {},
   "source": [
    "### CAPOS21\n",
    "https://ui.adsabs.harvard.edu/abs/2021A%26A...652A.157G/abstract \n",
    "Further Chemistry Available! \n"
   ]
  },
  {
   "cell_type": "code",
   "execution_count": 18,
   "id": "66c44556-a0ab-4ca5-9815-83eb144494d8",
   "metadata": {},
   "outputs": [],
   "source": [
    "CAPOS21_array = np.loadtxt(\"DataFiles/CAPOS21.csv\", skiprows=1, dtype=str, delimiter=',')\n",
    "CAPOS21_Columns = [\"Name\", \"Fe_H\", \"Fe_H_Err\", \"Alpha_Fe\", \"Alpha_Fe_Err\"]\n",
    "CAPOS21_array[:, 2] = (10 ** np.array(CAPOS21_array[:, 2].astype(float))).astype(str)\n",
    "CAPOS21_dic = data_array_to_gc_dic(CAPOS21_array, CAPOS21_Columns)\n",
    "data = data_add_function(data, CAPOS21_dic, data_name='CAPOS21')\n",
    "paper_age[\"CAPOS21\"] = 2020"
   ]
  },
  {
   "cell_type": "markdown",
   "id": "3ed0cce2-d661-4ca5-a880-f48c6b2c006a",
   "metadata": {
    "tags": []
   },
   "source": [
    "### GRAN22\n",
    "Gran22: https://ui.adsabs.harvard.edu/abs/2022MNRAS.509.4962G/abstract  \n",
    "Errors?  \n",
    "Correct form of PMs?"
   ]
  },
  {
   "cell_type": "code",
   "execution_count": 19,
   "id": "4730bad5-2443-4713-ae18-d8ddf89b39d0",
   "metadata": {},
   "outputs": [
    {
     "name": "stdout",
     "output_type": "stream",
     "text": [
      "New Prop: mua_cos\n",
      "New Prop: mud\n",
      "New Prop: mul_cosb\n",
      "New Prop: mub\n",
      "New GC: Gran2\n",
      "New GC: Gran3\n",
      "New GC: Gran4\n",
      "New GC: Gran5\n"
     ]
    }
   ],
   "source": [
    "\n",
    "Gran22_array = np.loadtxt(\"DataFiles/Gran22.csv\", skiprows=1, dtype=str, delimiter=',')\n",
    "Gran22_Columns = [\"Name\", \"l_deg\", \"b_deg\", \"ra_deg\", \"dec_deg\", \"mua_cos\", \"mud\",\n",
    "                  \"mul_cosb\", \"mub\", \"Fe_H\", \"Fe_H_Err\", \"Mass\", \"Mass_Err\", \"Dist\", \"Mv\", \"vlos\", \"vlos_Err\"]\n",
    "\n",
    "Gran22_array[:, 2] = (10 ** np.array(Gran22_array[:, 2].astype(float))).astype(str)\n",
    "Gran22_dic = data_array_to_gc_dic(Gran22_array, Gran22_Columns)\n",
    "data = data_add_function(data, Gran22_dic, data_name='Gran22')\n",
    "paper_age[\"Gran22\"] = 2020"
   ]
  },
  {
   "cell_type": "markdown",
   "id": "4c07c9c1-8f1a-4957-95ba-8eed89dc0993",
   "metadata": {},
   "source": [
    "### Valenti09\n",
    "Colour magnitude  \n",
    "Paper: https://ui.adsabs.harvard.edu/abs/2010MNRAS.402.1729V/abstract  \n",
    "Data: http://www.bo.astro.it/~GC/ir_archive/  \n",
    "Compilation of Previous Valenti data - should be updated reguarly?"
   ]
  },
  {
   "cell_type": "code",
   "execution_count": 20,
   "id": "d5b29512-1f7f-4e13-9f6c-22df79100f9e",
   "metadata": {},
   "outputs": [
    {
     "name": "stdout",
     "output_type": "stream",
     "text": [
      "(36, 23)\n",
      "(36, 6)\n",
      "New Prop: RGC\n"
     ]
    }
   ],
   "source": [
    "Valenti09_array = np.loadtxt(\"DataFiles/Valenti09.csv\", skiprows=1, dtype=str, delimiter=',')\n",
    "original_Valenti09_Columns = [\"Name\", \"l_deg\", \"b_deg\", \"dsun\", \"RGC\", \"X\", \"Y\", \"Z\", \"E(B-V)\", \"(m-M)0\", \"Fe_H\",\n",
    "                     \"[M/H]\", \"JRC\", \"HRC\", \"KRC\", \"JBump\", \"HBump\", \"KBump\", \"JTip\", \"HTip\", \"KTip\",\n",
    "                     \"MBolBump\", \"MBolTip\"]\n",
    "\n",
    "Valenti09_Columns = [\"Name\", \"l_deg\", \"b_deg\", \"dsun\", \"RGC\", \"Fe_H\"]\n",
    "Valenti09_filt = np.isin(np.array(original_Valenti09_Columns), np.array(Valenti09_Columns))\n",
    "print(np.shape(Valenti09_array))\n",
    "Valenti09_array = Valenti09_array[:,Valenti09_filt]\n",
    "print(np.shape(Valenti09_array))\n",
    "\n",
    "\n",
    "Valenti09_dic = data_array_to_gc_dic(Valenti09_array, Valenti09_Columns)\n",
    "data = data_add_function(data, Valenti09_dic, data_name='Valenti09')\n",
    "paper_age[\"Valenti09\"] = 2009"
   ]
  },
  {
   "cell_type": "markdown",
   "id": "44aab627-e11e-4642-9737-02576012987d",
   "metadata": {},
   "source": [
    "### Bica16\n",
    "https://ui.adsabs.harvard.edu/abs/2016PASA...33...28B/abstract\n",
    "Candidate GCs with sky, Metallicity and further Chem data.  \n",
    "Not clear which are actually GCs or not\n"
   ]
  },
  {
   "cell_type": "markdown",
   "id": "d9b4be3b-963b-4763-b2fa-81f39d5b0620",
   "metadata": {
    "tags": []
   },
   "source": [
    "# Individual_Data\n",
    "Individual papers and sources"
   ]
  },
  {
   "cell_type": "code",
   "execution_count": 21,
   "id": "851a13b6-752f-43d0-9f6e-d8f5c81a54e6",
   "metadata": {},
   "outputs": [],
   "source": [
    "def add_individual_data(data, individual_data):\n",
    "    papers = list(individual_data.keys())\n",
    "    for p in papers:\n",
    "        print(p)\n",
    "        original_new_data = individual_data[p]\n",
    "        original_names = np.array(list(original_new_data.keys()))\n",
    "        names = process_names(original_names)\n",
    "        try:\n",
    "            new_data = {new_n: original_new_data[old_n] for (new_n, old_n) in zip(names, original_names)}\n",
    "            data = data_add_function(data, new_data, data_name=p)\n",
    "        except Exception as e:\n",
    "            print(e)\n",
    "            print(names)\n",
    "            print(original_names)\n",
    "            print(original_new_data.keys())\n",
    "\n",
    "    return data"
   ]
  },
  {
   "cell_type": "code",
   "execution_count": 22,
   "id": "1354fab5-df52-4de6-a02d-ebe026bcca62",
   "metadata": {},
   "outputs": [],
   "source": [
    "individual_data = {}"
   ]
  },
  {
   "cell_type": "markdown",
   "id": "d02d2308-23fd-4443-aefb-44ff86cd9c33",
   "metadata": {
    "tags": []
   },
   "source": [
    "## Small Papers"
   ]
  },
  {
   "cell_type": "markdown",
   "id": "584fce02-4cd2-47c5-ae8e-7b2bf412de08",
   "metadata": {},
   "source": [
    "### Kerber18\n",
    "NGC6522, NGC6626(M28), NGC6362  \n",
    "Kerber18: https://ui.adsabs.harvard.edu/abs/2018ApJ...853...15K/abstract  \n",
    "Alpha enhanced BASTI or DSED sochrone fitting. Use DSED to avoid attomic difusion problems.  \n",
    "Take the smallest ChiSq."
   ]
  },
  {
   "cell_type": "code",
   "execution_count": 23,
   "id": "3a806016-fd30-4216-8321-a20f706feef3",
   "metadata": {},
   "outputs": [],
   "source": [
    "individual_data[\"Kerber18\"] = {\n",
    "    \"NGC6522\": {\n",
    "        \"Age\": 11.4, \"Age_Err\": 1.0,\n",
    "        \"Fe_H\": -1.15,\n",
    "        # \"Fe_H\":-2.37, \"Fe_H_Err_1os\":0.19,\"Fe_H_Err_1us\":-0.14,\n",
    "        \"dist\": 7.05, \"dist_err\": 0.16\n",
    "    },\n",
    "    \"NGC6626\": {\n",
    "        \"Age\": 11.1, \"Age_Err\": 0.9,\n",
    "        \"Fe_H\": -1.3,\n",
    "        # \"Fe_H\":-2.37, \"Fe_H_Err_1os\":0.19,\"Fe_H_Err_1us\":-0.14,\n",
    "        \"dist\": 5.18, \"dist_err\": 0.14\n",
    "    },\n",
    "    \"NGC6362\": {\n",
    "        \"Age\": 12.8, \"Age_Err\": 1.0,\n",
    "        \"Fe_H\": -1.15,\n",
    "        # \"Fe_H\":-2.37, \"Fe_H_Err_1os\":0.19,\"Fe_H_Err_1us\":-0.14,\n",
    "        \"dist\": 7.73, \"dist_err\": 0.18\n",
    "    }\n",
    "}\n",
    "\n",
    "paper_age[\"Kerber18\"] = 2018"
   ]
  },
  {
   "cell_type": "markdown",
   "id": "9eb6e79c-6714-44b0-ac72-e78746987fac",
   "metadata": {},
   "source": [
    "### Dias15\n",
    "NGC6528, NGC6553, M71, NGC6558, NGC6426, Terzan8\n",
    "Dias15: https://ui.adsabs.harvard.edu/abs/2015A%26A...573A..13D/abstract  \n",
    "Fe_H, Alpha_Fe, Mg, vlos"
   ]
  },
  {
   "cell_type": "code",
   "execution_count": 24,
   "id": "f6dc751d-f70c-4c69-8138-9f31650c3e43",
   "metadata": {},
   "outputs": [],
   "source": [
    "individual_data[\"Dias15\"] = {\n",
    "    \"NGC6528\": {\n",
    "        \"Fe_H\": -0.13, \"Fe_H_Err\": 0.05,\n",
    "        \"vlos\": 185, \"vlos_err\": 10,\n",
    "        \"Mg_Fe\": 0.05, \"Mg_Fe_Err\": 0.09,\n",
    "        \"Alpha_Fe\": 0.26, \"Alpha_Fe_Err\": 0.05,\n",
    "    },\n",
    "    \"NGC6553\": {\n",
    "        \"Fe_H\": -0.133, \"Fe_H_Err\": 0.017,\n",
    "        \"vlos\": 6, \"vlos_err\": 8,\n",
    "        \"Mg_Fe\": 0.107, \"Mg_Fe_Err\": 0.009,\n",
    "        \"Alpha_Fe\": 0.302, \"Alpha_Fe_Err\": 0.025,\n",
    "    },\n",
    "    \"M71\": {\n",
    "        \"Fe_H\": -0.63, \"Fe_H_Err\": 0.05,\n",
    "        \"vlos\": -42, \"vlos_err\": 18,\n",
    "        \"Mg_Fe\": 0.25, \"Mg_Fe_Err\": 0.07,\n",
    "        \"Alpha_Fe\": 0.293, \"Alpha_Fe_Err\": 0.032,\n",
    "    },\n",
    "    \"NGC6558\": {\n",
    "        \"Fe_H\": -1.012, \"Fe_H_Err\": 0.013,\n",
    "        \"vlos\": -210, \"vlos_err\": 16,\n",
    "        \"Mg_Fe\": 0.26, \"Mg_Fe_Err\": 0.06,\n",
    "        \"Alpha_Fe\": 0.23, \"Alpha_Fe_Err\": 0.06,\n",
    "    },\n",
    "    \"NGC6426\": {\n",
    "        \"Fe_H\": -2.39, \"Fe_H_Err\": 0.11,\n",
    "        \"vlos\": -242, \"vlos_err\": 11,\n",
    "        \"Mg_Fe\": 0.38, \"Mg_Fe_Err\": 0.06,\n",
    "        \"Alpha_Fe\": 0.24, \"Alpha_Fe_Err\": 0.05,\n",
    "    },\n",
    "    \"Terzan8\": {\n",
    "        \"Fe_H\": -2.06, \"Fe_H_Err\": 0.17,\n",
    "        \"vlos\": 135, \"vlos_err\": 19,\n",
    "        \"Mg_Fe\": 0.41, \"Mg_Fe_Err\": 0.04,\n",
    "        \"Alpha_Fe\": 0.21, \"Alpha_Fe_Err\": 0.04,\n",
    "    }\n",
    "}\n",
    "\n",
    "paper_age[\"Dias15\"] = 2015"
   ]
  },
  {
   "cell_type": "markdown",
   "id": "54db95e4-ed2a-412a-ba56-f1512f1ba4c8",
   "metadata": {},
   "source": [
    "### VandenBerg16\n",
    "https://ui.adsabs.harvard.edu/abs/2016ApJ...827....2V/abstract  \n",
    "M3, M15, M92. More information, but not very clear?"
   ]
  },
  {
   "cell_type": "code",
   "execution_count": 25,
   "id": "70980a6d-e76d-42b1-bcf6-a68a4a731a5b",
   "metadata": {},
   "outputs": [],
   "source": [
    "individual_data[\"Vandenberg16\"] = {\n",
    "    \"M3\": {\n",
    "        \"Age\": 12.5\n",
    "    },\n",
    "    \"M15\": {\n",
    "        \"Age\": 12.5\n",
    "    },\n",
    "    \"M92\": {\n",
    "        \"Age\": 12.5\n",
    "    },\n",
    "}\n",
    "\n",
    "paper_age[\"Vandenberg16\"] = 2016"
   ]
  },
  {
   "cell_type": "markdown",
   "id": "30c1c8f3-6b4f-4be3-b594-b17ab779c75f",
   "metadata": {
    "tags": []
   },
   "source": [
    "## Individual Clusters"
   ]
  },
  {
   "cell_type": "markdown",
   "id": "5d74030a-be9f-4202-8f69-af27f92fef99",
   "metadata": {},
   "source": [
    "### Pal2\n",
    "https://ui.adsabs.harvard.edu/abs/2020MNRAS.493.2688B/abstract"
   ]
  },
  {
   "cell_type": "code",
   "execution_count": 26,
   "id": "5b9df2de-c9db-4be0-b4ab-99ae8ef5f48f",
   "metadata": {},
   "outputs": [],
   "source": [
    "individual_data[\"Bonatto20\"] = {\"Pal2\": {'Age': 13.25, 'Age_Err': 0.12, \"Fe_H\": -1.58, \"Fe_H_Err\": 0.08,\n",
    "                                         \"Mass\": 1.4e5, \"Mass_Err\": 0.4e5, \"Mvt\": -7.8}}\n",
    "paper_age[\"Bonatto20\"] = 2020"
   ]
  },
  {
   "cell_type": "markdown",
   "id": "caead0f0-8d10-48b1-91f4-fc69ec4f7298",
   "metadata": {},
   "source": [
    "### Crater/Lavens1\n",
    "Crater  \n",
    "https://ui.adsabs.harvard.edu/abs/2016ApJ...822...32W/abstract"
   ]
  },
  {
   "cell_type": "code",
   "execution_count": 27,
   "id": "44262b40-38ff-4b71-b317-3b8803c5485f",
   "metadata": {},
   "outputs": [],
   "source": [
    "\n",
    "individual_data[\"Weisz16\"] = {\"Crater\": {'Age': 7.5, 'Age_Err': 0.4,\n",
    "                                         \"Fe_H\": -1.66, \"Fe_H_Err\": 0.04,\n",
    "                                         \"Mass\": 9.9e3, \"Mvt\": -5.3}}\n",
    "paper_age[\"Weisz16\"] = 2016"
   ]
  },
  {
   "cell_type": "markdown",
   "id": "3b7ed250-8dfd-4639-8d7c-c35c141645ed",
   "metadata": {},
   "source": [
    "### Bliss1\n",
    "https://ui.adsabs.harvard.edu/abs/2019ApJ...875..154M/abstract"
   ]
  },
  {
   "cell_type": "code",
   "execution_count": 28,
   "id": "e11536ed-17a8-4d81-a4a2-a5dd030332e1",
   "metadata": {},
   "outputs": [],
   "source": [
    "individual_data[\"Hempel14\"] = {\"Bliss1\": {'Age': 9.2, 'Age_Err_1os': 1.6, \"Age_Err_1us\": -0.8,\n",
    "                                          \"Fe_H\": -1.4,\n",
    "                                          \"Mass\": 143, \"Mass_Err\": 37,\n",
    "                                          \"Mvt\": 0, \"Mvt_Err_1os\": 1.7, \"Mvt_Err_1us\": -0.7}}\n",
    "paper_age[\"Hempel14\"] = 2014"
   ]
  },
  {
   "cell_type": "markdown",
   "id": "192f7604-a510-45b9-80e7-77c7dd0ac971",
   "metadata": {},
   "source": [
    "### Kim3\n",
    "https://ui.adsabs.harvard.edu/abs/2016ApJ...820..119K/abstract"
   ]
  },
  {
   "cell_type": "code",
   "execution_count": 29,
   "id": "98194bd6-9790-4fe8-956d-d733028f984f",
   "metadata": {},
   "outputs": [],
   "source": [
    "individual_data[\"Kim16\"] = {\"Kim3\": {'Age': 9.5, 'Age_Err_1os': 3, \"Age_Err_1us\": -1.6,\n",
    "                                     \"Fe_H\": -1.6, \"Fe_H_Err_1os\": 0.45, \"Fe_H_Err_1us\": -0.3,\n",
    "                                     \"Mvt\": 0.7, \"Mvt_Err\": 0.3}}\n",
    "paper_age[\"Kim16\"] = 2016"
   ]
  },
  {
   "cell_type": "markdown",
   "id": "04f5700d-f3b1-4e47-9986-d895aee8c5ab",
   "metadata": {},
   "source": [
    "### Munoz1\n",
    "https://ui.adsabs.harvard.edu/abs/2012ApJ...753L..15M/abstract"
   ]
  },
  {
   "cell_type": "code",
   "execution_count": 30,
   "id": "774291d8-6ccb-42e0-b7e6-6a41933793f8",
   "metadata": {},
   "outputs": [],
   "source": [
    "individual_data[\"Munoz12\"] = {\"Munoz1\": {'Age': 12.5,\n",
    "                                         \"Fe_H\": -1.5,\n",
    "                                         \"Mvt\": -0.4, \"Mvt_Err\": 0.9}}\n",
    "\n",
    "paper_age[\"Munoz12\"] = 2012"
   ]
  },
  {
   "cell_type": "markdown",
   "id": "9a810e8e-cb31-4b7a-abd5-76eb7062cff5",
   "metadata": {},
   "source": [
    "### BH176\n",
    "https://ui.adsabs.harvard.edu/abs/2011A%26A...528A..70D/abstract"
   ]
  },
  {
   "cell_type": "code",
   "execution_count": 31,
   "id": "32f383ed-9321-4095-b590-9954b87a6cad",
   "metadata": {},
   "outputs": [],
   "source": [
    "individual_data[\"Davoust11\"] = {\"BH176\": {'Age': 6.5, \"Age_Err\": 0.5,\n",
    "                                          \"Fe_H\": -0.1, \"Fe_H_Err\": 0.1,\n",
    "                                          \"Mvt\": -3.82}}\n",
    "\n",
    "paper_age[\"Davoust11\"] = 2011"
   ]
  },
  {
   "cell_type": "markdown",
   "id": "70d4224a-6918-495f-a692-7dc26231711d",
   "metadata": {},
   "source": [
    "### FSR1716\n",
    "https://ui.adsabs.harvard.edu/abs/2017A%26A...605A.128K/abstract\n",
    "\n",
    "Age given as 10-12 in:\n",
    "https://ui.adsabs.harvard.edu/abs/2016arXiv161103753B/abstract"
   ]
  },
  {
   "cell_type": "code",
   "execution_count": 32,
   "id": "d177e948-22f9-4f60-bd42-f450bb78e8ab",
   "metadata": {},
   "outputs": [],
   "source": [
    "individual_data[\"Andreas17\"] = {\"FSR1716\": {  # 'Age': ?,\n",
    "    \"Fe_H\": -1.38, \"Fe_H_Err\": 0.2,\n",
    "    \"Mass\": 1.4e4, \"Mass_Err_1os\": 1.2e4, \"Mass_Err_1us\": 0.8e4,\n",
    "    \"Mvt\": -5.1, \"Mvt_Err\": 1}}\n",
    "\n",
    "paper_age[\"Andreas17\"] = 2017\n",
    "\n",
    "individual_data[\"Buckner16\"] = {\"FSR1716\": {'Age': 11, \"Age_Err\": 1}}\n",
    "paper_age[\"Buckner16\"] = 2016"
   ]
  },
  {
   "cell_type": "markdown",
   "id": "0a513e1f-e6b9-460e-bde1-fb6ec4ea8a05",
   "metadata": {},
   "source": [
    "### Ryu 1 and 2\n",
    "https://ui.adsabs.harvard.edu/abs/2018ApJ...863L..38R/abstract  \n",
    "Age assumed 12.6, as an average of metal poor GCs. Could include it and have very wide errors?"
   ]
  },
  {
   "cell_type": "code",
   "execution_count": 33,
   "id": "d7a3c1d0-2e1b-421a-8e4a-594c81a45e47",
   "metadata": {},
   "outputs": [],
   "source": [
    "individual_data[\"Ryu18\"] = {\n",
    "    \"Ryu059\": {  # 'Age': 12.6,\n",
    "        \"Fe_H\": -2.2, \"Fe_H_Err\": 0.2, },\n",
    "    \"Ryu879\": {  # 'Age': 12.6,\n",
    "        \"Fe_H\": -2.1, \"Fe_H_Err\": 0.3, }\n",
    "}\n",
    "\n",
    "paper_age[\"Ryu18\"] = 2018"
   ]
  },
  {
   "cell_type": "markdown",
   "id": "97305258-51b9-453d-9e7f-75639acaca01",
   "metadata": {},
   "source": [
    "### NGC6139\n",
    "https://ui.adsabs.harvard.edu/abs/2015A%26A...583A..69B/abstract\n",
    "errors of +- 0.015 +- 0.058  \n",
    "Combine in Quadrature"
   ]
  },
  {
   "cell_type": "code",
   "execution_count": 34,
   "id": "7e9f8972-16f1-445a-a6c6-b8bb7d90f79e",
   "metadata": {},
   "outputs": [],
   "source": [
    "individual_data[\"Bragaglia15\"] = {\"NGC6139\": {\n",
    "    \"Fe_H\": -1.579, \"Fe_H_Err\": np.sqrt((0.015**2) + (0.058**2)),\n",
    "    \"Mvt\": -3.82}}\n",
    "\n",
    "paper_age[\"Bragaglia15\"] = 2015"
   ]
  },
  {
   "cell_type": "markdown",
   "id": "32581d6e-795e-4c34-b83d-58f415617444",
   "metadata": {},
   "source": [
    "### ESO452\n",
    "Simpson 17\n",
    "https://ui.adsabs.harvard.edu/abs/2017MNRAS.472.2856S/abstract\n",
    "\n",
    "\n",
    "Cornish 06. \n",
    "Fits multiple isochrones, find a large range of metallicity and ages.\n",
    "https://ui.adsabs.harvard.edu/abs/2006AJ....131.2543C/abstract"
   ]
  },
  {
   "cell_type": "code",
   "execution_count": 35,
   "id": "1bd2df0b-3895-4157-a4b9-952f962eb640",
   "metadata": {},
   "outputs": [],
   "source": [
    "individual_data[\"Simpson17\"] = {\"ESO452\": {\n",
    "    \"Fe_H\": -0.81, \"Fe_H_Err\": 0.13,\n",
    "    \"Mass\": 6.8e3, \"Mass_Err\": 3.4e3\n",
    "}\n",
    "}\n",
    "\n",
    "paper_age[\"Simpson17\"] = 2017\n",
    "\n",
    "individual_data[\"Cornish06\"] = {\"ESO452\": {\"Age\": 12.5, \"Age_Err\": 3.5,\n",
    "                                           }\n",
    "                                }\n",
    "paper_age[\"Cornish06\"] = 2006"
   ]
  },
  {
   "cell_type": "markdown",
   "id": "ac1391e5-fb6d-4204-bdc3-3f37e8f494aa",
   "metadata": {},
   "source": [
    "### NGC6229\n",
    "Johnson17: https://ui.adsabs.harvard.edu/abs/2017AJ....154..155J/abstract\n",
    "\n",
    "Arlleno15: https://ui.adsabs.harvard.edu/abs/2015MNRAS.452..727A/abstract  \n",
    "Gives age as consistent with 12+-1\n"
   ]
  },
  {
   "cell_type": "code",
   "execution_count": 36,
   "id": "d729f958-6835-4a24-a3d4-b70119af382f",
   "metadata": {},
   "outputs": [],
   "source": [
    "individual_data[\"Johnson17\"] = {\"NGC6229\": {\n",
    "    \"Fe_H\": -1.13, \"Fe_H_Err\": 0.06,\n",
    "}}\n",
    "\n",
    "paper_age[\"Johnson17\"] = 2017\n",
    "\n",
    "individual_data[\"Arellano15\"] = {\"NGC6229\": {\"Age\": 12, \"Age_Err\": 1,\n",
    "                                             \"Fe_H\": -1.31, \"Fe_H_Err\": 0.12,\n",
    "                                             }}\n",
    "paper_age[\"Arellano15\"] = 2015"
   ]
  },
  {
   "cell_type": "markdown",
   "id": "874e6565-922d-4764-b8e8-54721c047dfb",
   "metadata": {},
   "source": [
    "### NGC6256\n",
    "Cardelano20: https://ui.adsabs.harvard.edu/abs/2020ApJ...895...54C/abstract  \n",
    "Isochrone fitting using Vasq18 Metallicity\n"
   ]
  },
  {
   "cell_type": "code",
   "execution_count": 37,
   "id": "efc17451-9bde-49da-8354-dfec1daec85a",
   "metadata": {},
   "outputs": [],
   "source": [
    "individual_data[\"Cardelano20\"] = {\"NGC6256\": {\n",
    "    \"Age\": 13, \"Age_Err\": 0.5,\n",
    "    \"Fe_H\": -1.62\n",
    "}}\n",
    "\n",
    "paper_age[\"Cardelano20\"] = 2020"
   ]
  },
  {
   "cell_type": "markdown",
   "id": "5073c651-becf-4ac5-bea9-05c21690270f",
   "metadata": {},
   "source": [
    "### HP1\n",
    "Kerber20: https://ui.adsabs.harvard.edu/abs/2019MNRAS.484.5530K/abstract\n",
    "\n",
    "Barbuy16: https://ui.adsabs.harvard.edu/abs/2016A%26A...591A..53B/abstract"
   ]
  },
  {
   "cell_type": "code",
   "execution_count": 38,
   "id": "ca14a78f-42b3-4089-83b9-e6de2bef9bde",
   "metadata": {},
   "outputs": [],
   "source": [
    "individual_data[\"Kerber20\"] = {\"HP1\": {\n",
    "    \"Age\": 12.75, \"Age_Err_1os\": 0.86, \"Age_Err_1us\": -0.81,\n",
    "    \"Fe_H\": -1.09, \"Fe_H_Err_1os\": 0.07, \"Fe_H_Err_1us\": -0.09,\n",
    "    \"Alpha_Fe\": 0.4\n",
    "}}\n",
    "\n",
    "paper_age[\"Kerber20\"] = 2020\n",
    "\n",
    "individual_data[\"Barbuy16\"] = {\"HP1\": {\n",
    "    \"Fe_H\": -1.06, \"Fe_H_Err\": 0.1,\n",
    "}}\n",
    "\n",
    "paper_age[\"Barbuy16\"] = 2016"
   ]
  },
  {
   "cell_type": "markdown",
   "id": "0925c8ad-9e8e-4998-8154-7a9fc4738ca6",
   "metadata": {},
   "source": [
    "### FSR1758\n",
    "Romero21: https://ui.adsabs.harvard.edu/abs/2021A%26A...652A.158R/abstract  \n",
    "Fits Isochrone, CAPOS APOGEE \n",
    "\n",
    "Vilanova19: https://ui.adsabs.harvard.edu/abs/2019ApJ...882..174V/abstract  \n",
    "High Res Spectra. Prefered?\n",
    "\n",
    "Barba19: https://ui.adsabs.harvard.edu/abs/2019ApJ...870L..24B/abstract"
   ]
  },
  {
   "cell_type": "code",
   "execution_count": 39,
   "id": "ab66e7f5-2d8f-4279-8637-5ad4fbcc97bf",
   "metadata": {},
   "outputs": [],
   "source": [
    "individual_data[\"Romero21\"] = {\"FSR1758\": {\n",
    "    \"Age\": 11.6, \"Age_Err_1os\": 1.25, \"Age_Err_1us\": -1.31,\n",
    "    \"Fe_H\": -1.36, \"Fe_H_Err\": 0.05\n",
    "}}\n",
    "\n",
    "paper_age[\"Romero21\"] = 2021\n",
    "\n",
    "individual_data[\"Vilanova19\"] = {\"FSR1758\": {\n",
    "    \"Fe_H\": -1.58, \"Fe_H_Err\": 0.03,\n",
    "    \"Alpha_Fe\": 0.32, \"Alpha_Fe_Err\": 0.01\n",
    "}}\n",
    "\n",
    "paper_age[\"Vilanova19\"] = 2019\n",
    "\n",
    "individual_data[\"Barba19\"] = {\"FSR1758\": {\n",
    "    \"Fe_H\": -1.5, \"Fe_H\": 0.3\n",
    "}}\n",
    "\n",
    "paper_age[\"Barba19\"] = 2019"
   ]
  },
  {
   "cell_type": "markdown",
   "id": "2cd786a7-bcb7-47a4-a0d8-de2b75ebd6b1",
   "metadata": {},
   "source": [
    "### NGC6402\n",
    "DAntona22: https://ui.adsabs.harvard.edu/abs/2022ApJ...925..192D/abstract  \n",
    "Johnson19: https://ui.adsabs.harvard.edu/abs/2019MNRAS.485.4311J/abstract"
   ]
  },
  {
   "cell_type": "code",
   "execution_count": 40,
   "id": "4ad530bd-ec85-4848-ad15-58104304a194",
   "metadata": {},
   "outputs": [],
   "source": [
    "individual_data[\"DAntona22\"] = {\"NGC6402\": {\n",
    "    \"Age\": 12.5, \"Age_Err\": 0.75,\n",
    "}}\n",
    "\n",
    "paper_age[\"DAntona22\"] = 2022\n",
    "\n",
    "individual_data[\"Johnson19\"] = {\"NGC6402\": {\n",
    "    \"Fe_H\": -1.13, \"Fe_H_Err\": 0.05,\n",
    "    \"Alpha_Fe\": 0.3\n",
    "}}\n",
    "\n",
    "paper_age[\"Johnson19\"] = 2019"
   ]
  },
  {
   "cell_type": "markdown",
   "id": "aa16cc1f-ed45-4ad3-9f2f-373aa8d5d7fb",
   "metadata": {},
   "source": [
    "### Palomar 6\n",
    "Souza21: https://ui.adsabs.harvard.edu/abs/2021A%26A...656A..78S/abstract"
   ]
  },
  {
   "cell_type": "code",
   "execution_count": 41,
   "id": "a37ce51d-000f-48c4-9712-b2ba79f2756c",
   "metadata": {},
   "outputs": [],
   "source": [
    "individual_data[\"Souza21\"] = {\"Pal6\": {\n",
    "    \"Age\": 12.4, \"Age_Err\": 0.9,\n",
    "    \"Fe_H\": -1.10, \"Fe_H_Err\": 0.09,\n",
    "    \"Mvt\": -6.79\n",
    "}}\n",
    "\n",
    "paper_age[\"Souza21\"] = 2021"
   ]
  },
  {
   "cell_type": "markdown",
   "id": "188b94ef-a797-48aa-b809-62d4b02cfbc1",
   "metadata": {},
   "source": [
    "### NGC6440\n",
    "Pallanca21: https://ui.adsabs.harvard.edu/abs/2021ApJ...913..137P/abstract\n",
    "\n",
    "Munoz17: https://ui.adsabs.harvard.edu/abs/2017A%26A...605A..12M/abstract  \n",
    "Na-0 anticorrelation  "
   ]
  },
  {
   "cell_type": "code",
   "execution_count": 42,
   "id": "7c374b32-dac3-444f-9ebc-34fcd71a279d",
   "metadata": {},
   "outputs": [],
   "source": [
    "individual_data[\"Pallanca21\"] = {\"NGC6440\": {\n",
    "    \"Age\": 13, \"Age_Err\": 1.5,\n",
    "    \"Fe_H\": -1.34, \"Fe_H_Err\": 0.36,\n",
    "    \"Mvt\": 1.12, \"Mvt_Err\": 0.12\n",
    "}}\n",
    "\n",
    "paper_age[\"Pallanca21\"] = 2021\n",
    "\n",
    "individual_data[\"Munoz17\"] = {\"NGC6440\": {\n",
    "    \"Fe_H\": -0.5, \"Fe_H_Err\": 0.03,\n",
    "    \"Age\": 13\n",
    "}}\n",
    "\n",
    "paper_age[\"Munoz17\"] = 2017"
   ]
  },
  {
   "cell_type": "markdown",
   "id": "97845284-e2df-4d59-b3ff-03b86ffab27d",
   "metadata": {},
   "source": [
    "### UKS1\n",
    "Fernandez20: https://ui.adsabs.harvard.edu/abs/2020A%26A...643A.145F/abstract  \n",
    "Spectra of 6 stars, fit isochrone for age"
   ]
  },
  {
   "cell_type": "code",
   "execution_count": 43,
   "id": "ac17e13f-09dd-4225-baf8-647d114743da",
   "metadata": {},
   "outputs": [],
   "source": [
    "individual_data[\"Fernandez20\"] = {\"UKS1\": {\n",
    "    \"Age\": 13.1, \"Age_Err_1os\": 0.93, \"Age_Err_1us\": -1.29,\n",
    "    \"Fe_H\": -0.98, \"Fe_H_Err\": 0.11,\n",
    "}}\n",
    "\n",
    "paper_age[\"Fernandez20\"] = 2020"
   ]
  },
  {
   "cell_type": "markdown",
   "id": "4132dcdf-8d91-4cb7-a607-f27f7b699c50",
   "metadata": {},
   "source": [
    "### VVVCL001\n",
    "Fernandez21: https://ui.adsabs.harvard.edu/abs/2021ApJ...908L..42F/abstract  \n",
    "High resolution abundance analysis + isochrone fitting  \n",
    "Alpha Available\n"
   ]
  },
  {
   "cell_type": "code",
   "execution_count": 44,
   "id": "bd509de0-c0c0-4aab-b111-17e38d716632",
   "metadata": {},
   "outputs": [],
   "source": [
    "individual_data[\"Fernandez21\"] = {\"VVVCL001\": {\n",
    "    \"Age\": 11.9, \"Age_Err_1os\": 3.12, \"Age_Err_1us\": -4.05,\n",
    "    \"Fe_H\": -2.45, \"Fe_H_Err\": 0.24,\n",
    "    # \"Fe_H\":-2.37, \"Fe_H_Err_1os\":0.19,\"Fe_H_Err_1us\":-0.14,\n",
    "    \"dist\": 8.22, \"dist_err_1os\": 1.84, \"dist_err_1us\": -1.93\n",
    "}}\n",
    "\n",
    "paper_age[\"Fernandez21\"] = 2020"
   ]
  },
  {
   "cell_type": "markdown",
   "id": "bc8fce74-3a81-4010-8422-1a1401bb0a72",
   "metadata": {},
   "source": [
    "### Djorg2\n",
    "Ortolani19: https://ui.adsabs.harvard.edu/abs/2019A%26A...627A.145O/abstract   \n",
    "Isochrone fitting, BaSTi uncorrected?"
   ]
  },
  {
   "cell_type": "code",
   "execution_count": 45,
   "id": "87f43d6e-7f31-41d0-a4d3-174e3fcf17ca",
   "metadata": {},
   "outputs": [],
   "source": [
    "individual_data[\"Ortolani19\"] = {\"Djorg2\": {\n",
    "    \"Age\": 12.7, \"Age_Err_1os\": 0.72, \"Age_Err_1us\": -0.69,\n",
    "    \"Fe_H\": -1.11, \"Fe_H_Err\": 0.03,\n",
    "    # \"Fe_H\":-2.37, \"Fe_H_Err_1os\":0.19,\"Fe_H_Err_1us\":-0.14,\n",
    "    \"dist\": 8.75, \"dist_err\": 0.12\n",
    "}}\n",
    "\n",
    "paper_age[\"Ortolani19\"] = 2019"
   ]
  },
  {
   "cell_type": "markdown",
   "id": "6886f81d-e061-4c83-b32a-b4ed6ccebbfd",
   "metadata": {},
   "source": [
    "### NGC6522\n",
    "Barbuy21: https://ui.adsabs.harvard.edu/abs/2021A%26A...654A..29B/abstract\n",
    "Spectra, Flames GIRAFEE  \n",
    "Alpha available"
   ]
  },
  {
   "cell_type": "code",
   "execution_count": 46,
   "id": "b8b7b39d-09a6-4be8-af9f-caf5be945cdd",
   "metadata": {},
   "outputs": [],
   "source": [
    "individual_data[\"Barbuy21\"] = {\"NGC6522\": {\n",
    "    \"Age\": 12.7, \"Age_Err_1os\": 0.72, \"Age_Err_1us\": -0.69,\n",
    "    \"Fe_H\": -1.05, \"Fe_H_Err\": 0.20,\n",
    "    # \"Fe_H\":-2.37, \"Fe_H_Err_1os\":0.19,\"Fe_H_Err_1us\":-0.14,\n",
    "    \"dist\": 8.75, \"dist_err\": 0.12,\n",
    "    \"vlos\": -15.62, \"vlos_err\": 7.7\n",
    "}}\n",
    "\n",
    "paper_age[\"Barbuy21\"] = 2021"
   ]
  },
  {
   "cell_type": "markdown",
   "id": "50c8ff76-67bd-48b8-b064-b4886e87c952",
   "metadata": {},
   "source": [
    "### NGC6528\n",
    "Munoz18: https://ui.adsabs.harvard.edu/abs/2018A%26A...620A..96M/abstract   \n",
    "Alpha available too."
   ]
  },
  {
   "cell_type": "code",
   "execution_count": 47,
   "id": "2cef22c6-d531-429c-b4ef-a154be1dfbcb",
   "metadata": {},
   "outputs": [],
   "source": [
    "individual_data[\"Munoz18\"] = {\"NGC6528\": {\n",
    "    \"Fe_H\": -0.14, \"Fe_H_Err\": 0.03,\n",
    "}}\n",
    "\n",
    "paper_age[\"Munoz18\"] = 2018"
   ]
  },
  {
   "cell_type": "markdown",
   "id": "7f50c2a5-7c0c-4249-907c-ed9df2f90a8b",
   "metadata": {},
   "source": [
    "### NGC6544\n",
    "Gran21: https://ui.adsabs.harvard.edu/abs/2021MNRAS.504.3494G/abstract"
   ]
  },
  {
   "cell_type": "code",
   "execution_count": 48,
   "id": "25cbff37-a422-4a26-b426-d99fe24a060f",
   "metadata": {
    "tags": []
   },
   "outputs": [],
   "source": [
    "individual_data[\"Gran21\"] = {\"NGC6544\": {\n",
    "    \"Fe_H\": -1.44, \"Fe_H_Err\": 0.04,\n",
    "    \"Alpha_Fe\": 0.2, \"Alpha_Fe_Err\": 0.04\n",
    "}}\n",
    "\n",
    "paper_age[\"Gran21\"] = 2021"
   ]
  },
  {
   "cell_type": "markdown",
   "id": "1838e3fb-9693-4b9c-965f-39a9ccb9bf35",
   "metadata": {},
   "source": [
    "### ESO280\n",
    "Simpson18:  https://ui.adsabs.harvard.edu/abs/2018MNRAS.477.4565S/abstract   \n",
    "High Res Spectra"
   ]
  },
  {
   "cell_type": "code",
   "execution_count": 49,
   "id": "99cab663-d6c0-4842-9e9d-d5342b6890d2",
   "metadata": {
    "tags": []
   },
   "outputs": [],
   "source": [
    "individual_data[\"Simpson18\"] = {\"ESO-SC06\": {\n",
    "    \"Fe_H\": -2.48, \"Fe_H_Err_1us\": -0.11, \"Fe_H_Err_1os\": 0.06,\n",
    "    \"Mass\": 12e3, \"Mass_Err\": 2e3,\n",
    "    \"Alpha_Fe\": 0.2, \"Alpha_Fe_Err\": 0.04,\n",
    "    \"dist\": 15.2, \"dist_err\": 2.1,\n",
    "    \"vlos\": 92.5, \"vlos_err_1os\": 2.4, \"vlos_err_1us\": -1.6\n",
    "}}\n",
    "\n",
    "paper_age[\"Simpson18\"] = 2018"
   ]
  },
  {
   "cell_type": "markdown",
   "id": "278d46f0-bc7e-4810-8c5e-6aedd0c474f1",
   "metadata": {
    "tags": []
   },
   "source": [
    "### NGC6553\n",
    "Munoz20: https://ui.adsabs.harvard.edu/abs/2020MNRAS.492.3742M/abstract\n",
    "High Res Spectra"
   ]
  },
  {
   "cell_type": "code",
   "execution_count": 50,
   "id": "8ebf0056-1cab-430b-a1d7-fb4c440ef82d",
   "metadata": {
    "tags": []
   },
   "outputs": [],
   "source": [
    "individual_data[\"Munoz20\"] = {\"NGC6553\": {\n",
    "    \"Fe_H\": -0.14, \"Fe_H_Err\": 0.07,\n",
    "    \"Alpha_Fe\": 0.11, \"Alpha_Fe_Err\": 0.05\n",
    "}}\n",
    "\n",
    "paper_age[\"Munoz20\"] = 2020"
   ]
  },
  {
   "cell_type": "markdown",
   "id": "7d96c900-e0bd-4c16-9985-1387c00c8bc6",
   "metadata": {
    "tags": []
   },
   "source": [
    "### NGC6558\n",
    "Barbuy18: https://ui.adsabs.harvard.edu/abs/2018A%26A...619A.178B/abstract\n",
    "High Res Spectra  \n",
    "Alpha Available"
   ]
  },
  {
   "cell_type": "code",
   "execution_count": 51,
   "id": "1bb15f97-e281-4371-ac2c-1f251bb7a713",
   "metadata": {
    "tags": []
   },
   "outputs": [],
   "source": [
    "individual_data[\"Barbuy18\"] = {\"NGC6558\": {\n",
    "    \"Fe_H\": -1.17, \"Fe_H_Err\": 0.10,\n",
    "}}\n",
    "\n",
    "paper_age[\"Barbuy18\"] = 2018"
   ]
  },
  {
   "cell_type": "markdown",
   "id": "af3086bb-77f4-4dc7-bed5-f718c3d10065",
   "metadata": {
    "tags": []
   },
   "source": [
    "### Valenti11\n",
    "Valenti11: https://ui.adsabs.harvard.edu/abs/2011MNRAS.414.2690V/abstract\n",
    "High res infrared spectra"
   ]
  },
  {
   "cell_type": "code",
   "execution_count": 52,
   "id": "da7405fb-0c8e-4042-9e72-9f7124ffd91d",
   "metadata": {
    "tags": []
   },
   "outputs": [],
   "source": [
    "individual_data[\"Valenti11\"] = {\n",
    "    \"NGC6624\": {\"Fe_H\": -0.69, \"Fe_H_Err\": 0.02,\n",
    "                \"Alpha_Fe\": 0.39, \"Alpha_Fe_Err\": 0.02,\n",
    "                \"vlos\": 51, \"vlos_Err\": 3\n",
    "                },\n",
    "    \"NGC6569\": {\"Fe_H\": -0.79, \"Fe_H_Err\": 0.02,\n",
    "                \"Alpha_Fe\": 0.43, \"Alpha_Fe_Err\": 0.02,\n",
    "                \"vlos\": 47, \"vlos_Err\": 4\n",
    "                }\n",
    "}\n",
    "\n",
    "paper_age[\"Valenti11\"] = 2011"
   ]
  },
  {
   "cell_type": "markdown",
   "id": "99fdeff3-e316-44cc-8b0a-51927509dc73",
   "metadata": {
    "tags": []
   },
   "source": [
    "### NGC6569\n",
    "Saracino19: https://ui.adsabs.harvard.edu/abs/2019ApJ...874...86S/abstract\n",
    "Age from averaged isochorne from DSED, VR, and BaSTI"
   ]
  },
  {
   "cell_type": "code",
   "execution_count": 53,
   "id": "b3468e11-6876-415d-97e9-8a3d331d6c59",
   "metadata": {
    "tags": []
   },
   "outputs": [],
   "source": [
    "individual_data[\"Saracino19\"] = {\"NGC6569\": {\n",
    "    \"dist\": 10.1, \"dist_err\": 0.2,\n",
    "    \"Age\": 12.8, \"Age_Err\": 1,\n",
    "    \"Fe_H\": -1.17, \"Fe_H_Err\": 0.10,\n",
    "}}\n",
    "\n",
    "paper_age[\"Saracino19\"] = 2019"
   ]
  },
  {
   "cell_type": "markdown",
   "id": "b2935f41-b3d7-4fde-b817-d77b1d633b2d",
   "metadata": {
    "tags": []
   },
   "source": [
    "### NGC6642\n",
    "Balbinot10: https://ui.adsabs.harvard.edu/abs/2010IAUS..266..357B/abstract"
   ]
  },
  {
   "cell_type": "code",
   "execution_count": 54,
   "id": "88ba03da-d8a2-4601-bb7b-dfd5cf708005",
   "metadata": {
    "tags": []
   },
   "outputs": [],
   "source": [
    "individual_data[\"Balbinot10\"] = {\"NGC6642\": {\n",
    "    \"Age\": 10 * 10.14, \"Age_Err_1us\": ((10**1.19) - (10**1.14)), \"Age_Err_1us\": ((10**1.14) - (10**1.05)),\n",
    "    \"Fe_H\": -1.80, \"Fe_H_Err\": 0.2,\n",
    "    \"dist\": 8.05, \"dist_err\": 0.66,\n",
    "}}\n",
    "\n",
    "paper_age[\"Balbinot10\"] = 2010"
   ]
  },
  {
   "cell_type": "markdown",
   "id": "312e4494-9602-498d-aac8-85bb3066c7be",
   "metadata": {
    "tags": []
   },
   "source": [
    "### NGC6809\n",
    "Rain19: https://ui.adsabs.harvard.edu/abs/2019MNRAS.483.1674R/abstract  \n",
    "Spectra, Chemical \n",
    "\n",
    "Diakogiannis14: https://ui.adsabs.harvard.edu/abs/2014MNRAS.437.3172D/abstract  \n",
    "Dynamical Mass  "
   ]
  },
  {
   "cell_type": "code",
   "execution_count": 55,
   "id": "f18d75bb-96ae-4e68-8dab-02dac88fe5ec",
   "metadata": {
    "tags": []
   },
   "outputs": [],
   "source": [
    "individual_data[\"Rain19\"] = {\"NGC6809\": {\n",
    "    \"Fe_H\": -2.01, \"Fe_H_Err\": 0.02,\n",
    "    \"Alpha_Fe\": 0.4, \"Alpha_Fe_Err\": 0.04,\n",
    "}}\n",
    "\n",
    "paper_age[\"Rain19\"] = 2019\n",
    "\n",
    "individual_data[\"Diakogiannis14\"] = {\"NGC6809\": {\n",
    "    \"Mass\": 6.1e4, \"Mass_Err_1os\": 0.51e4, \"Mass_Err_1us\": -0.88e4,\n",
    "}}\n",
    "\n",
    "paper_age[\"Diakogiannis14\"] = 2014"
   ]
  },
  {
   "cell_type": "markdown",
   "id": "dc814881-8e52-4565-9719-8113ec89d0d5",
   "metadata": {
    "tags": []
   },
   "source": [
    "### Palomar 11\n",
    "Lewis06: https://ui.adsabs.harvard.edu/abs/2006AJ....131.2538L/abstract"
   ]
  },
  {
   "cell_type": "code",
   "execution_count": 56,
   "id": "363dc2c4-c7b1-4b90-98e9-2e0c680766a4",
   "metadata": {
    "tags": []
   },
   "outputs": [],
   "source": [
    "individual_data[\"Lewis06\"] = {\"Pal11\": {\n",
    "    \"Age\": 11.4, \"Age_Err\": 0.5,\n",
    "    \"dist\": 14.3, \"dist_err\": 0.4,\n",
    "}}\n",
    "\n",
    "paper_age[\"Lewis06\"] = 2006"
   ]
  },
  {
   "cell_type": "markdown",
   "id": "834f62cb-3f0c-4d16-996f-4dc921011efd",
   "metadata": {
    "tags": []
   },
   "source": [
    "### Segue3\n",
    "Ortolani13: https://ui.adsabs.harvard.edu/abs/2013MNRAS.433.1966O/abstract\n",
    "\n",
    "Hughes17: https://ui.adsabs.harvard.edu/abs/2017AJ....154...57H/abstract  \n",
    "Dartmouth Geneva Models. Very, very young!"
   ]
  },
  {
   "cell_type": "code",
   "execution_count": 57,
   "id": "fe1c69f4-f3ce-4b3f-a38d-a40c884c6693",
   "metadata": {
    "scrolled": true,
    "tags": []
   },
   "outputs": [],
   "source": [
    "individual_data[\"Ortolani13\"] = {\"Segue3\": {\n",
    "    \"Age\": 3.2,\n",
    "    \"Fe_H\": -0.8,\n",
    "}}\n",
    "\n",
    "paper_age[\"Ortolani13\"] = 2013\n",
    "\n",
    "individual_data[\"Hughes17\"] = {\"Segue3\": {\n",
    "    \"Fe_H\": -0.55, \"Fe_H_Err_1us\": -0.12, \"Fe_H_Err_1os\": 0.15,\n",
    "    \"Age\": 2.6, \"Age_Err\": 0.4,\n",
    "    \"dist\": 14.3, \"dist_err\": 0.4,\n",
    "}}\n",
    "\n",
    "paper_age[\"Hughes17\"] = 2017"
   ]
  },
  {
   "cell_type": "markdown",
   "id": "f95a1864-f029-4446-8fd3-71e1cd61b06b",
   "metadata": {
    "tags": []
   },
   "source": [
    "### Laevens3\n",
    "Longeard19: https://ui.adsabs.harvard.edu/abs/2019MNRAS.490.1498L/abstract"
   ]
  },
  {
   "cell_type": "code",
   "execution_count": 58,
   "id": "56a61db9-1b34-45f0-a08e-30045fa1448c",
   "metadata": {
    "tags": []
   },
   "outputs": [],
   "source": [
    "individual_data[\"Longeard19\"] = {\"Laevens3\": {\n",
    "    \"Age\": 13.0, \"Age_Err\": 1.0,\n",
    "    \"dist\": 61.4, \"dist_err\": 1.0,\n",
    "    \"Fe_H\": -1.8, \"Fe_H_Err\": 0.1,\n",
    "    \"vlos\": -70.2, \"vlos_err\": 0.5\n",
    "}}\n",
    "\n",
    "paper_age[\"Longeard19\"] = 2019"
   ]
  },
  {
   "cell_type": "markdown",
   "id": "e9e536e7-2953-4c04-bc3d-0c5228c239ae",
   "metadata": {
    "tags": []
   },
   "source": [
    "### Palomar 11\n",
    "Lewis06: https://ui.adsabs.harvard.edu/abs/2006AJ....131.2538L/abstract"
   ]
  },
  {
   "cell_type": "code",
   "execution_count": 59,
   "id": "690b4c8c-ec82-42e9-9fde-f3b50e35f95b",
   "metadata": {
    "tags": []
   },
   "outputs": [],
   "source": [
    "individual_data[\"Lewis06\"] = {\"Pal11\": {\n",
    "    \"Age\": 11.4, \"Age_Err\": 0.5,\n",
    "    \"dist\": 14.3, \"dist_err\": 0.4,\n",
    "}}\n",
    "\n",
    "paper_age[\"Lewis06\"] = 2006"
   ]
  },
  {
   "cell_type": "markdown",
   "id": "3351c30f-e3a6-4138-97c6-167ecdc2965f",
   "metadata": {
    "tags": []
   },
   "source": [
    "### NGC4833\n",
    "Carretta14a:  https://ui.adsabs.harvard.edu/abs/2014A%26A...564A..60C/abstract"
   ]
  },
  {
   "cell_type": "code",
   "execution_count": 60,
   "id": "614a4676-5203-4686-b120-2dea7819d5bf",
   "metadata": {
    "tags": []
   },
   "outputs": [],
   "source": [
    "individual_data[\"Carretta14a\"] = {\"NGC4833\": {\n",
    "    \"Age\": 11.4, \"Age_Err\": 0.5,\n",
    "    \"dist\": 14.3, \"dist_err\": 0.4,\n",
    "}}\n",
    "\n",
    "paper_age[\"Carretta14a\"] = 2014"
   ]
  },
  {
   "cell_type": "markdown",
   "id": "443027f5-9378-43cf-a105-027fb6521c63",
   "metadata": {
    "tags": []
   },
   "source": [
    "### NGC6388\n",
    "Carretta21b: https://ui.adsabs.harvard.edu/abs/2021arXiv211112721C/abstract  \n",
    "Metallicity only"
   ]
  },
  {
   "cell_type": "code",
   "execution_count": 61,
   "id": "cddfe079-d53c-435e-bdf0-1e0e24f30a59",
   "metadata": {
    "tags": []
   },
   "outputs": [],
   "source": [
    "# individual_data[\"Carretta21\"] = {\"NGC6388\": {\n",
    "#     \"Fe_H\":-0.480,\n",
    "#     \"Fe_H\":-0.488,\n",
    "# }}\n",
    "\n",
    "# paper_age[\"Caretta21\"] = 2021"
   ]
  },
  {
   "cell_type": "markdown",
   "id": "b10975e4-c8ac-41ad-b777-443f913a911d",
   "metadata": {
    "tags": []
   },
   "source": [
    "### Terzan8\n",
    "Carretta14b: https://ui.adsabs.harvard.edu/abs/2014A%26A...561A..87C/abstract"
   ]
  },
  {
   "cell_type": "code",
   "execution_count": 62,
   "id": "e6b15a61-6f82-4b03-8158-81407cf365cd",
   "metadata": {
    "tags": []
   },
   "outputs": [],
   "source": [
    "individual_data[\"Carretta14b\"] = {\"Terzan8\":\n",
    "                                  {\"Fe_H\": -2.27, \"Fe_H_Err\": 0.03}\n",
    "                                  }\n",
    "\n",
    "paper_age[\"Carretta14b\"] = 2014"
   ]
  },
  {
   "cell_type": "markdown",
   "id": "813f3513-fc62-47a8-b6bb-cf3d16f8707a",
   "metadata": {
    "tags": []
   },
   "source": [
    "### Liller1\n",
    "Ferraro21: https://ui.adsabs.harvard.edu/abs/2021NatAs...5..311F/abstract  \n",
    "Multiple populations, we use the oldest. Not clear if it is a genuine GC?"
   ]
  },
  {
   "cell_type": "code",
   "execution_count": 63,
   "id": "c370fba8-c997-4d0a-8df3-dc07ab138cd4",
   "metadata": {
    "tags": []
   },
   "outputs": [],
   "source": [
    "individual_data[\"Ferraro21\"] = {\"Liller1\":\n",
    "                                {\"Fe_H\": -0.4, \"Alpha_Fe\": 0.2,\n",
    "                                 \"Age\": 12, \"Age_Err\": 1.5,\n",
    "                                 }\n",
    "                                }\n",
    "\n",
    "paper_age[\"Ferraro21\"] = 2021"
   ]
  },
  {
   "cell_type": "markdown",
   "id": "653a20a4-431b-47fd-8d88-988dabe1dae1",
   "metadata": {},
   "source": [
    "## Add Indiviudal Data"
   ]
  },
  {
   "cell_type": "code",
   "execution_count": 64,
   "id": "d8d2a6ab-3637-4245-8e37-ec78f3dabca0",
   "metadata": {
    "scrolled": true,
    "tags": []
   },
   "outputs": [
    {
     "name": "stdout",
     "output_type": "stream",
     "text": [
      "Kerber18\n",
      "Dias15\n",
      "New Prop: Mg_Fe\n",
      "New Prop: Mg_Fe_Err\n",
      "Vandenberg16\n",
      "Bonatto20\n",
      "Weisz16\n",
      "Hempel14\n",
      "Kim16\n",
      "Munoz12\n",
      "Davoust11\n",
      "Andreas17\n",
      "Buckner16\n",
      "Ryu18\n",
      "Bragaglia15\n",
      "Simpson17\n",
      "Cornish06\n",
      "Johnson17\n",
      "Arellano15\n",
      "Cardelano20\n",
      "Kerber20\n",
      "Barbuy16\n",
      "Romero21\n",
      "Vilanova19\n",
      "Barba19\n",
      "DAntona22\n",
      "Johnson19\n",
      "Souza21\n",
      "Pallanca21\n",
      "Munoz17\n",
      "Fernandez20\n",
      "Fernandez21\n",
      "Ortolani19\n",
      "Barbuy21\n",
      "Munoz18\n",
      "Gran21\n",
      "Simpson18\n",
      "Munoz20\n",
      "Barbuy18\n",
      "Valenti11\n",
      "Saracino19\n",
      "Balbinot10\n",
      "Rain19\n",
      "Diakogiannis14\n",
      "Lewis06\n",
      "Ortolani13\n",
      "Hughes17\n",
      "Longeard19\n",
      "Carretta14a\n",
      "Carretta14b\n",
      "Ferraro21\n"
     ]
    }
   ],
   "source": [
    "data = add_individual_data(data, individual_data)"
   ]
  },
  {
   "cell_type": "markdown",
   "id": "c26e8821-2e66-42ef-bb0f-021d04be6598",
   "metadata": {},
   "source": [
    "# List Data"
   ]
  },
  {
   "cell_type": "code",
   "execution_count": 65,
   "id": "be35b475-5bfb-4b52-9210-f4c2d0f0e37e",
   "metadata": {
    "tags": []
   },
   "outputs": [],
   "source": [
    "alt_name_dic = create_alt_name_list(name_parse)"
   ]
  },
  {
   "cell_type": "code",
   "execution_count": 66,
   "id": "9168e7b6-03b8-4710-977b-c5919e8516c2",
   "metadata": {
    "scrolled": true,
    "tags": []
   },
   "outputs": [
    {
     "name": "stdout",
     "output_type": "stream",
     "text": [
      "Checking Property vlos\n",
      "176 / 181  have GCs have vlos\n",
      "5 / 181 do not have GCs have vlos\n",
      "['2MASS', 'Ruprecht106', 'Berk29', 'Saurer1', 'Gran4']\n",
      "\n",
      "\n",
      "Checking Property dist\n",
      "177 / 181  have GCs have dist\n",
      "4 / 181 do not have GCs have dist\n",
      "['2MASS', 'Ruprecht106', 'Berk29', 'Saurer1']\n",
      "\n",
      "\n",
      "Checking Property Age\n",
      "129 / 181  have GCs have Age\n",
      "52 / 181 do not have GCs have Age\n",
      "['Ko2', 'ESO93', 'Ko1', 'BH140', 'Ryu059', 'NGC6139', 'Terzan3', 'FSR1735', 'NGC6293', 'NGC6316', 'NGC6325', 'NGC6333', 'NGC6355', 'IC1257', 'Terzan2', 'Terzan4', 'NGC6380', 'Terzan1', 'Ton2', 'NGC6401', 'VVVCL002', 'Djorg1', 'Terzan5', 'Terzan6', 'NGC6453', 'Gran1', 'Pfleiderer2', 'Terzan9', 'NGC6517', 'Terzan10', 'NGC6539', 'NGC6540', 'ESO-SC06', 'NGC6558', 'IC1276', 'Terzan12', 'BH261', 'Mercer5', 'Pal8', 'Ryu879', 'NGC6749', 'NGC6760', 'Pal10', 'Pal13', 'GLIMPSE01', 'GLIMPSE02', 'SagittariusII', '2MASS', 'Gran2', 'Gran3', 'Gran4', 'Gran5']\n",
      "\n",
      "\n",
      "Checking Property Fe_H\n",
      "169 / 181  have GCs have Fe_H\n",
      "12 / 181 do not have GCs have Fe_H\n",
      "['Ko2', 'ESO93', 'Ko1', 'BH140', 'FSR1735', 'VVVCL002', 'Pfleiderer2', 'Mercer5', 'GLIMPSE01', 'SagittariusII', '2MASS', 'Gran4']\n",
      "\n",
      "\n",
      "Checking Property Mass\n",
      "166 / 181  have GCs have Mass\n",
      "15 / 181 do not have GCs have Mass\n",
      "['Ko2', 'ESO93', 'Ko1', 'Kim3', 'Munoz1', 'BH176', 'VVVCL002', 'Pfleiderer2', 'Mercer5', 'Segue3', 'GLIMPSE01', 'GLIMPSE02', 'Ruprecht106', 'Berk29', 'Saurer1']\n",
      "\n",
      "\n",
      "Checking Property Mv\n",
      "164 / 181  have GCs have Mv\n",
      "17 / 181 do not have GCs have Mv\n",
      "['ESO93', 'BH140', 'Ryu059', 'FSR1758', 'VVVCL002', 'VVVCL001', 'Pfleiderer2', 'Mercer5', 'Ryu879', 'Laevens3', 'Segue3', 'GLIMPSE02', 'SagittariusII', '2MASS', 'Ruprecht106', 'Berk29', 'Saurer1']\n",
      "\n",
      "\n"
     ]
    }
   ],
   "source": [
    "def number_props_data(data, props=[]):\n",
    "    names = list(data.keys())\n",
    "    N_total = len(names)\n",
    "    for p in props:\n",
    "        print(f\"Checking Property {p}\")\n",
    "        missing = []\n",
    "        for n in names:\n",
    "            if p not in list(data[n].keys()):\n",
    "                missing.append(n)\n",
    "        N_prop = len(missing)\n",
    "        print(f\"{N_total - N_prop} / {N_total}  have GCs have {p}\")\n",
    "        print(f\"{N_prop} / {N_total} do not have GCs have {p}\")\n",
    "        print(missing)\n",
    "        print(\"\\n\")\n",
    "    return\n",
    "number_props_data(data, props=[\"vlos\", \"dist\", \"Age\", \"Fe_H\", \"Mass\", \"Mv\"])"
   ]
  },
  {
   "cell_type": "markdown",
   "id": "f3aa2c71-4026-45c8-8cba-f526cc2ddd0c",
   "metadata": {},
   "source": [
    "# Final Data\n",
    "- Sort by year for now \n",
    "- Check errors coherent\n",
    "- Symmetric errors vs asymmetric"
   ]
  },
  {
   "cell_type": "markdown",
   "id": "b0cb42a3-37eb-4dfe-87dd-bd6aacd05883",
   "metadata": {},
   "source": [
    "### Improvements?\n",
    "- If age-metallicity found together, prefer the result\n",
    "- Average the result of many?\n",
    "- Consistent isochrone usage?"
   ]
  },
  {
   "cell_type": "markdown",
   "id": "37077e83-08c3-4741-96db-2c6b142b4fd7",
   "metadata": {},
   "source": [
    "## Find Best"
   ]
  },
  {
   "cell_type": "code",
   "execution_count": 67,
   "id": "8ab8849d-2c34-42ed-bd1b-21e069fb5ee3",
   "metadata": {},
   "outputs": [],
   "source": [
    "def find_best_data(data, error_blacklist=[],alts=True):\n",
    "    '''Error blacklist - ignore errors for a given property'''\n",
    "    names = list(data.keys())\n",
    "    best_data = {}\n",
    "    best_refs = {}\n",
    "    for gc in names:\n",
    "        best_data[gc], best_refs[gc] = find_best_individual_data(data[gc], err_blacklist=error_blacklist)\n",
    "        \n",
    "    \n",
    "    if alts:\n",
    "        alt_names = find_alternative_names(names)\n",
    "        for alt_n, n in zip(alt_names, names):\n",
    "            best_data[n][\"Name2\"] = alt_n\n",
    "            \n",
    "    return best_data, best_refs\n",
    "\n",
    "def find_alternative_names(names):\n",
    "    alt_names = np.empty_like(names)\n",
    "    for i,n  in enumerate(names):\n",
    "        alt_name = alt_name_dic.get(n,[\"-\"])\n",
    "        N_alts = len(alt_name)\n",
    "        if N_alts>0:\n",
    "            alt_name = alt_name[0]\n",
    "            if alt_name == n:\n",
    "                if N_alts>1:\n",
    "                    alt_name = alt_name[1]\n",
    "                else:\n",
    "                    alt_name = \"-\"\n",
    "        else:\n",
    "            alt_name = \"-\"\n",
    "            alt_names[i] = alt_name\n",
    "    \n",
    "    return alt_names\n",
    "\n",
    "\n",
    "def find_best_individual_data(gc_data, err_blacklist=[]):\n",
    "    '''Error blacklist - ignore errors for a given property'''\n",
    "    all_props = list(gc_data.keys())\n",
    "    props = [p for p in all_props if \"err\" not in p]\n",
    "    best_data = {}\n",
    "    best_refs = {}\n",
    "    for x in props:\n",
    "        x_err = x + \"_err\"\n",
    "        error_condition = (x not in err_blacklist) * (x_err in all_props)\n",
    "        if error_condition:\n",
    "            papers = np.array(list(gc_data[x + \"_err\"].keys()))\n",
    "        else:\n",
    "            papers = np.array(list(gc_data[x].keys()))\n",
    "\n",
    "        years = np.array([paper_age[p] for p in papers])\n",
    "        sort_papers = papers[np.argsort(years)[::-1]]\n",
    "        best_paper = sort_papers[0]\n",
    "        best_data[x] = gc_data[x][best_paper]\n",
    "        best_refs[x] = best_paper\n",
    "        if error_condition:\n",
    "            best_data[x_err] = gc_data[x_err][best_paper]\n",
    "            best_refs[x_err] = best_paper\n",
    "            \n",
    "    return best_data, best_refs"
   ]
  },
  {
   "cell_type": "code",
   "execution_count": 68,
   "id": "c2883f26-6de8-4d2a-9820-84b695f5c81a",
   "metadata": {
    "scrolled": true,
    "tags": []
   },
   "outputs": [],
   "source": [
    "# best_gc_data, best_refs = find_best_data(data, error_blacklist=[\"Fe_H\"])\n",
    "best_gc_data, best_refs = find_best_data(data, error_blacklist=[])"
   ]
  },
  {
   "cell_type": "code",
   "execution_count": 69,
   "id": "8674b057-4e71-48cc-b04f-f345b01a83aa",
   "metadata": {},
   "outputs": [],
   "source": [
    "best_data = gc_dic_to_data_dic(best_gc_data)"
   ]
  },
  {
   "cell_type": "markdown",
   "id": "a10745d9-2c5d-44de-8d4c-831adadb7cb2",
   "metadata": {
    "tags": []
   },
   "source": [
    "## List Data"
   ]
  },
  {
   "cell_type": "code",
   "execution_count": 70,
   "id": "74840457-3b2b-4c57-94e5-ba016737c36d",
   "metadata": {},
   "outputs": [
    {
     "name": "stdout",
     "output_type": "stream",
     "text": [
      "['Name2', 'ra_deg', 'dec_deg', 'dist', 'dist_err', 'vlos', 'vlos_err', 'pmra', 'pmra_err', 'pmdec_err', 'pmcorr', 'Age', 'Age_err', 'Fe_H', 'Fe_H_err', 'Mass']\n"
     ]
    }
   ],
   "source": [
    "sky_obs = [\"ra_deg\", \"dec_deg\", \"dist\", \"dist_err\", \"vlos\", \"vlos_err\", \"pmra\", \"pmra_err\", \"pmdec_err\", \"pmcorr\"]\n",
    "AMR = [\"Age\", \"Age_err\", \"Fe_H\", \"Fe_H_err\"]\n",
    "Mass = [\"Mass\"]\n",
    "Name2 =[\"Name2\"]\n",
    "basic_props = Name2 + sky_obs + AMR + Mass\n",
    "print(basic_props)"
   ]
  },
  {
   "cell_type": "markdown",
   "id": "4bd9d65b-2c14-4825-b512-3a6dc1c3351f",
   "metadata": {},
   "source": [
    "## Require Dynamics"
   ]
  },
  {
   "cell_type": "code",
   "execution_count": 75,
   "id": "b1182c54-31c7-45fc-9486-e5e0f37c2109",
   "metadata": {},
   "outputs": [
    {
     "name": "stdout",
     "output_type": "stream",
     "text": [
      "dict_keys(['Name', 'ra_deg', 'dec_deg', 'dist', 'dist_err', 'vlos', 'vlos_err', 'pmra', 'pmra_err', 'pmdec', 'pmdec_err', 'pmcorr', 'l_deg', 'b_deg', 'Mass', 'Mv', 'Age', 'Age_err', 'Fe_H', 'Fe_H_err', 'Alpha_Fe', 'm_Mv', 'm_Mv_err', 'Name2', 'Mass_err', 'Mv_err', 'RGC', 'Alpha_Fe_err', 'Mg_Fe', 'Mg_Fe_Err', 'mua_cos', 'mud', 'mul_cosb', 'mub'])\n",
      "Filtered data. 173 of 181 GCs remaining\n",
      "Cut GCs:\n",
      "['2MASS' 'Ruprecht106' 'Berk29' 'Saurer1' 'Gran2' 'Gran3' 'Gran4' 'Gran5']\n"
     ]
    }
   ],
   "source": [
    "def filter_data_dic(data_dic, need_props= sky_obs, included_props = basic_props):\n",
    "    nGC= len(data_dic[\"Name\"])\n",
    "    filt = np.ones((nGC), dtype=bool)\n",
    "    for p in need_props:\n",
    "        filt = filt* np.isfinite(data_dic[p])\n",
    "    if included_props is None:\n",
    "        included_props = list(data_dic.keys())\n",
    "        \n",
    "    filt_data_dic = {p: data_dic[p][filt] for p in included_props}\n",
    "    print(f\"Filtered data. {filt.sum()} of {len(filt)} GCs remaining\")\n",
    "    print(\"Cut GCs:\")\n",
    "    print(data_dic[\"Name\"][np.logical_not(filt)])\n",
    "        \n",
    "    return filt_data_dic\n",
    "sky_data_dic = filter_data_dic(best_data,need_props=sky_obs, included_props=basic_props)"
   ]
  },
  {
   "cell_type": "code",
   "execution_count": 72,
   "id": "f2668841-c11f-4bd2-8ba9-bed25fc5285d",
   "metadata": {},
   "outputs": [
    {
     "name": "stdout",
     "output_type": "stream",
     "text": [
      "dict_keys(['Name2', 'ra_deg', 'dec_deg', 'dist', 'dist_err', 'vlos', 'vlos_err', 'pmra', 'pmra_err', 'pmdec_err', 'pmcorr', 'Age', 'Age_err', 'Fe_H', 'Fe_H_err', 'Mass'])\n"
     ]
    }
   ],
   "source": [
    "print(sky_data_dic.keys())"
   ]
  },
  {
   "cell_type": "markdown",
   "id": "969e6243-9785-4070-998e-94f73c6697a9",
   "metadata": {},
   "source": [
    "## Require Dynamics, AMR, Mass/Mv"
   ]
  }
 ],
 "metadata": {
  "kernelspec": {
   "display_name": "Python 3 (ipykernel)",
   "language": "python",
   "name": "python3"
  },
  "language_info": {
   "codemirror_mode": {
    "name": "ipython",
    "version": 3
   },
   "file_extension": ".py",
   "mimetype": "text/x-python",
   "name": "python",
   "nbconvert_exporter": "python",
   "pygments_lexer": "ipython3",
   "version": "3.9.7"
  },
  "toc-autonumbering": true
 },
 "nbformat": 4,
 "nbformat_minor": 5
}
